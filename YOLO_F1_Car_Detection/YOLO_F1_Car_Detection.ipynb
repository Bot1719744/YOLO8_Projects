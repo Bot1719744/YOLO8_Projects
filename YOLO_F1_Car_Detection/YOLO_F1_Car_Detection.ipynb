{
  "cells": [
    {
      "cell_type": "code",
      "execution_count": null,
      "metadata": {
        "colab": {
          "base_uri": "https://localhost:8080/"
        },
        "id": "IWzaNtYHvsGT",
        "outputId": "b8223cc8-3748-4ea9-e864-86d7285681d8"
      },
      "outputs": [
        {
          "output_type": "stream",
          "name": "stdout",
          "text": [
            "Collecting ultralytics\n",
            "  Downloading ultralytics-8.2.63-py3-none-any.whl (823 kB)\n",
            "\u001b[?25l     \u001b[90m━━━━━━━━━━━━━━━━━━━━━━━━━━━━━━━━━━━━━━━━\u001b[0m \u001b[32m0.0/823.8 kB\u001b[0m \u001b[31m?\u001b[0m eta \u001b[36m-:--:--\u001b[0m\r\u001b[2K     \u001b[91m━━━━━━━━━━━━━━━\u001b[0m\u001b[90m╺\u001b[0m\u001b[90m━━━━━━━━━━━━━━━━━━━━━━━━\u001b[0m \u001b[32m317.4/823.8 kB\u001b[0m \u001b[31m10.4 MB/s\u001b[0m eta \u001b[36m0:00:01\u001b[0m\r\u001b[2K     \u001b[90m━━━━━━━━━━━━━━━━━━━━━━━━━━━━━━━━━━━━━━━━\u001b[0m \u001b[32m823.8/823.8 kB\u001b[0m \u001b[31m16.1 MB/s\u001b[0m eta \u001b[36m0:00:00\u001b[0m\n",
            "\u001b[?25hRequirement already satisfied: numpy<2.0.0,>=1.23.0 in /usr/local/lib/python3.10/dist-packages (from ultralytics) (1.25.2)\n",
            "Requirement already satisfied: matplotlib>=3.3.0 in /usr/local/lib/python3.10/dist-packages (from ultralytics) (3.7.1)\n",
            "Requirement already satisfied: opencv-python>=4.6.0 in /usr/local/lib/python3.10/dist-packages (from ultralytics) (4.8.0.76)\n",
            "Requirement already satisfied: pillow>=7.1.2 in /usr/local/lib/python3.10/dist-packages (from ultralytics) (9.4.0)\n",
            "Requirement already satisfied: pyyaml>=5.3.1 in /usr/local/lib/python3.10/dist-packages (from ultralytics) (6.0.1)\n",
            "Requirement already satisfied: requests>=2.23.0 in /usr/local/lib/python3.10/dist-packages (from ultralytics) (2.31.0)\n",
            "Requirement already satisfied: scipy>=1.4.1 in /usr/local/lib/python3.10/dist-packages (from ultralytics) (1.11.4)\n",
            "Requirement already satisfied: torch>=1.8.0 in /usr/local/lib/python3.10/dist-packages (from ultralytics) (2.3.1+cu121)\n",
            "Requirement already satisfied: torchvision>=0.9.0 in /usr/local/lib/python3.10/dist-packages (from ultralytics) (0.18.1+cu121)\n",
            "Requirement already satisfied: tqdm>=4.64.0 in /usr/local/lib/python3.10/dist-packages (from ultralytics) (4.66.4)\n",
            "Requirement already satisfied: psutil in /usr/local/lib/python3.10/dist-packages (from ultralytics) (5.9.5)\n",
            "Requirement already satisfied: py-cpuinfo in /usr/local/lib/python3.10/dist-packages (from ultralytics) (9.0.0)\n",
            "Requirement already satisfied: pandas>=1.1.4 in /usr/local/lib/python3.10/dist-packages (from ultralytics) (2.0.3)\n",
            "Requirement already satisfied: seaborn>=0.11.0 in /usr/local/lib/python3.10/dist-packages (from ultralytics) (0.13.1)\n",
            "Collecting ultralytics-thop>=2.0.0 (from ultralytics)\n",
            "  Downloading ultralytics_thop-2.0.0-py3-none-any.whl (25 kB)\n",
            "Requirement already satisfied: contourpy>=1.0.1 in /usr/local/lib/python3.10/dist-packages (from matplotlib>=3.3.0->ultralytics) (1.2.1)\n",
            "Requirement already satisfied: cycler>=0.10 in /usr/local/lib/python3.10/dist-packages (from matplotlib>=3.3.0->ultralytics) (0.12.1)\n",
            "Requirement already satisfied: fonttools>=4.22.0 in /usr/local/lib/python3.10/dist-packages (from matplotlib>=3.3.0->ultralytics) (4.53.1)\n",
            "Requirement already satisfied: kiwisolver>=1.0.1 in /usr/local/lib/python3.10/dist-packages (from matplotlib>=3.3.0->ultralytics) (1.4.5)\n",
            "Requirement already satisfied: packaging>=20.0 in /usr/local/lib/python3.10/dist-packages (from matplotlib>=3.3.0->ultralytics) (24.1)\n",
            "Requirement already satisfied: pyparsing>=2.3.1 in /usr/local/lib/python3.10/dist-packages (from matplotlib>=3.3.0->ultralytics) (3.1.2)\n",
            "Requirement already satisfied: python-dateutil>=2.7 in /usr/local/lib/python3.10/dist-packages (from matplotlib>=3.3.0->ultralytics) (2.8.2)\n",
            "Requirement already satisfied: pytz>=2020.1 in /usr/local/lib/python3.10/dist-packages (from pandas>=1.1.4->ultralytics) (2023.4)\n",
            "Requirement already satisfied: tzdata>=2022.1 in /usr/local/lib/python3.10/dist-packages (from pandas>=1.1.4->ultralytics) (2024.1)\n",
            "Requirement already satisfied: charset-normalizer<4,>=2 in /usr/local/lib/python3.10/dist-packages (from requests>=2.23.0->ultralytics) (3.3.2)\n",
            "Requirement already satisfied: idna<4,>=2.5 in /usr/local/lib/python3.10/dist-packages (from requests>=2.23.0->ultralytics) (3.7)\n",
            "Requirement already satisfied: urllib3<3,>=1.21.1 in /usr/local/lib/python3.10/dist-packages (from requests>=2.23.0->ultralytics) (2.0.7)\n",
            "Requirement already satisfied: certifi>=2017.4.17 in /usr/local/lib/python3.10/dist-packages (from requests>=2.23.0->ultralytics) (2024.7.4)\n",
            "Requirement already satisfied: filelock in /usr/local/lib/python3.10/dist-packages (from torch>=1.8.0->ultralytics) (3.15.4)\n",
            "Requirement already satisfied: typing-extensions>=4.8.0 in /usr/local/lib/python3.10/dist-packages (from torch>=1.8.0->ultralytics) (4.12.2)\n",
            "Requirement already satisfied: sympy in /usr/local/lib/python3.10/dist-packages (from torch>=1.8.0->ultralytics) (1.13.0)\n",
            "Requirement already satisfied: networkx in /usr/local/lib/python3.10/dist-packages (from torch>=1.8.0->ultralytics) (3.3)\n",
            "Requirement already satisfied: jinja2 in /usr/local/lib/python3.10/dist-packages (from torch>=1.8.0->ultralytics) (3.1.4)\n",
            "Requirement already satisfied: fsspec in /usr/local/lib/python3.10/dist-packages (from torch>=1.8.0->ultralytics) (2023.6.0)\n",
            "Collecting nvidia-cuda-nvrtc-cu12==12.1.105 (from torch>=1.8.0->ultralytics)\n",
            "  Using cached nvidia_cuda_nvrtc_cu12-12.1.105-py3-none-manylinux1_x86_64.whl (23.7 MB)\n",
            "Collecting nvidia-cuda-runtime-cu12==12.1.105 (from torch>=1.8.0->ultralytics)\n",
            "  Using cached nvidia_cuda_runtime_cu12-12.1.105-py3-none-manylinux1_x86_64.whl (823 kB)\n",
            "Collecting nvidia-cuda-cupti-cu12==12.1.105 (from torch>=1.8.0->ultralytics)\n",
            "  Using cached nvidia_cuda_cupti_cu12-12.1.105-py3-none-manylinux1_x86_64.whl (14.1 MB)\n",
            "Collecting nvidia-cudnn-cu12==8.9.2.26 (from torch>=1.8.0->ultralytics)\n",
            "  Using cached nvidia_cudnn_cu12-8.9.2.26-py3-none-manylinux1_x86_64.whl (731.7 MB)\n",
            "Collecting nvidia-cublas-cu12==12.1.3.1 (from torch>=1.8.0->ultralytics)\n",
            "  Using cached nvidia_cublas_cu12-12.1.3.1-py3-none-manylinux1_x86_64.whl (410.6 MB)\n",
            "Collecting nvidia-cufft-cu12==11.0.2.54 (from torch>=1.8.0->ultralytics)\n",
            "  Using cached nvidia_cufft_cu12-11.0.2.54-py3-none-manylinux1_x86_64.whl (121.6 MB)\n",
            "Collecting nvidia-curand-cu12==10.3.2.106 (from torch>=1.8.0->ultralytics)\n",
            "  Using cached nvidia_curand_cu12-10.3.2.106-py3-none-manylinux1_x86_64.whl (56.5 MB)\n",
            "Collecting nvidia-cusolver-cu12==11.4.5.107 (from torch>=1.8.0->ultralytics)\n",
            "  Using cached nvidia_cusolver_cu12-11.4.5.107-py3-none-manylinux1_x86_64.whl (124.2 MB)\n",
            "Collecting nvidia-cusparse-cu12==12.1.0.106 (from torch>=1.8.0->ultralytics)\n",
            "  Using cached nvidia_cusparse_cu12-12.1.0.106-py3-none-manylinux1_x86_64.whl (196.0 MB)\n",
            "Collecting nvidia-nccl-cu12==2.20.5 (from torch>=1.8.0->ultralytics)\n",
            "  Using cached nvidia_nccl_cu12-2.20.5-py3-none-manylinux2014_x86_64.whl (176.2 MB)\n",
            "Collecting nvidia-nvtx-cu12==12.1.105 (from torch>=1.8.0->ultralytics)\n",
            "  Using cached nvidia_nvtx_cu12-12.1.105-py3-none-manylinux1_x86_64.whl (99 kB)\n",
            "Requirement already satisfied: triton==2.3.1 in /usr/local/lib/python3.10/dist-packages (from torch>=1.8.0->ultralytics) (2.3.1)\n",
            "Collecting nvidia-nvjitlink-cu12 (from nvidia-cusolver-cu12==11.4.5.107->torch>=1.8.0->ultralytics)\n",
            "  Downloading nvidia_nvjitlink_cu12-12.5.82-py3-none-manylinux2014_x86_64.whl (21.3 MB)\n",
            "\u001b[2K     \u001b[90m━━━━━━━━━━━━━━━━━━━━━━━━━━━━━━━━━━━━━━━━\u001b[0m \u001b[32m21.3/21.3 MB\u001b[0m \u001b[31m59.7 MB/s\u001b[0m eta \u001b[36m0:00:00\u001b[0m\n",
            "\u001b[?25hRequirement already satisfied: six>=1.5 in /usr/local/lib/python3.10/dist-packages (from python-dateutil>=2.7->matplotlib>=3.3.0->ultralytics) (1.16.0)\n",
            "Requirement already satisfied: MarkupSafe>=2.0 in /usr/local/lib/python3.10/dist-packages (from jinja2->torch>=1.8.0->ultralytics) (2.1.5)\n",
            "Requirement already satisfied: mpmath<1.4,>=1.1.0 in /usr/local/lib/python3.10/dist-packages (from sympy->torch>=1.8.0->ultralytics) (1.3.0)\n",
            "Installing collected packages: nvidia-nvtx-cu12, nvidia-nvjitlink-cu12, nvidia-nccl-cu12, nvidia-curand-cu12, nvidia-cufft-cu12, nvidia-cuda-runtime-cu12, nvidia-cuda-nvrtc-cu12, nvidia-cuda-cupti-cu12, nvidia-cublas-cu12, nvidia-cusparse-cu12, nvidia-cudnn-cu12, nvidia-cusolver-cu12, ultralytics-thop, ultralytics\n",
            "Successfully installed nvidia-cublas-cu12-12.1.3.1 nvidia-cuda-cupti-cu12-12.1.105 nvidia-cuda-nvrtc-cu12-12.1.105 nvidia-cuda-runtime-cu12-12.1.105 nvidia-cudnn-cu12-8.9.2.26 nvidia-cufft-cu12-11.0.2.54 nvidia-curand-cu12-10.3.2.106 nvidia-cusolver-cu12-11.4.5.107 nvidia-cusparse-cu12-12.1.0.106 nvidia-nccl-cu12-2.20.5 nvidia-nvjitlink-cu12-12.5.82 nvidia-nvtx-cu12-12.1.105 ultralytics-8.2.63 ultralytics-thop-2.0.0\n"
          ]
        }
      ],
      "source": [
        "!pip install ultralytics"
      ]
    },
    {
      "cell_type": "code",
      "source": [
        "from google.colab import drive\n",
        "drive.mount('/content/drive')"
      ],
      "metadata": {
        "id": "LVFEtbFRUFBH",
        "colab": {
          "base_uri": "https://localhost:8080/"
        },
        "outputId": "b7e13224-ff27-4de3-ae2c-94a2e4cc6d99"
      },
      "execution_count": 1,
      "outputs": [
        {
          "output_type": "stream",
          "name": "stdout",
          "text": [
            "Mounted at /content/drive\n"
          ]
        }
      ]
    },
    {
      "cell_type": "code",
      "execution_count": null,
      "metadata": {
        "colab": {
          "base_uri": "https://localhost:8080/"
        },
        "id": "jAqF1Q0xwqQV",
        "outputId": "84937855-88cd-4649-f2b2-458d4a55b804"
      },
      "outputs": [
        {
          "output_type": "stream",
          "name": "stdout",
          "text": [
            "Ultralytics YOLOv8.2.63 🚀 Python-3.10.12 torch-2.3.1+cu121 CUDA:0 (NVIDIA A100-SXM4-40GB, 40514MiB)\n",
            "Setup complete ✅ (12 CPUs, 83.5 GB RAM, 30.1/201.2 GB disk)\n"
          ]
        }
      ],
      "source": [
        "import ultralytics\n",
        "ultralytics.checks()"
      ]
    },
    {
      "cell_type": "markdown",
      "metadata": {
        "id": "iLe1c5tCw_qS"
      },
      "source": [
        "#Train"
      ]
    },
    {
      "cell_type": "code",
      "execution_count": null,
      "metadata": {
        "colab": {
          "base_uri": "https://localhost:8080/"
        },
        "id": "sBAdI84OxAOm",
        "outputId": "a08968e5-15cd-4231-8b96-589d4a5ba0af"
      },
      "outputs": [
        {
          "output_type": "stream",
          "name": "stdout",
          "text": [
            "Ultralytics YOLOv8.2.63 🚀 Python-3.10.12 torch-2.3.1+cu121 CUDA:0 (NVIDIA A100-SXM4-40GB, 40514MiB)\n",
            "\u001b[34m\u001b[1mengine/trainer: \u001b[0mtask=detect, mode=train, model=yolov8s.pt, data=/content/drive/MyDrive/FormulaOneCarDetection/data.yaml, epochs=30, time=None, patience=100, batch=5, imgsz=416, save=True, save_period=-1, cache=False, device=None, workers=8, project=/content/drive/MyDrive/FormulaOneCarDetection/Results, name=vehiclesDetection3, exist_ok=False, pretrained=True, optimizer=auto, verbose=True, seed=0, deterministic=True, single_cls=False, rect=False, cos_lr=False, close_mosaic=10, resume=False, amp=True, fraction=1.0, profile=False, freeze=None, multi_scale=False, overlap_mask=True, mask_ratio=4, dropout=0.0, val=True, split=val, save_json=False, save_hybrid=False, conf=None, iou=0.7, max_det=300, half=False, dnn=False, plots=True, source=None, vid_stride=1, stream_buffer=False, visualize=False, augment=False, agnostic_nms=False, classes=None, retina_masks=False, embed=None, show=False, save_frames=False, save_txt=False, save_conf=False, save_crop=False, show_labels=True, show_conf=True, show_boxes=True, line_width=None, format=torchscript, keras=False, optimize=False, int8=False, dynamic=False, simplify=False, opset=None, workspace=4, nms=False, lr0=0.01, lrf=0.01, momentum=0.937, weight_decay=0.0005, warmup_epochs=3.0, warmup_momentum=0.8, warmup_bias_lr=0.1, box=7.5, cls=0.5, dfl=1.5, pose=12.0, kobj=1.0, label_smoothing=0.0, nbs=64, hsv_h=0.015, hsv_s=0.7, hsv_v=0.4, degrees=0.0, translate=0.1, scale=0.5, shear=0.0, perspective=0.0, flipud=0.0, fliplr=0.5, bgr=0.0, mosaic=1.0, mixup=0.0, copy_paste=0.0, auto_augment=randaugment, erasing=0.4, crop_fraction=1.0, cfg=None, tracker=botsort.yaml, save_dir=/content/drive/MyDrive/FormulaOneCarDetection/Results/vehiclesDetection3\n",
            "Overriding model.yaml nc=80 with nc=4\n",
            "\n",
            "                   from  n    params  module                                       arguments                     \n",
            "  0                  -1  1       928  ultralytics.nn.modules.conv.Conv             [3, 32, 3, 2]                 \n",
            "  1                  -1  1     18560  ultralytics.nn.modules.conv.Conv             [32, 64, 3, 2]                \n",
            "  2                  -1  1     29056  ultralytics.nn.modules.block.C2f             [64, 64, 1, True]             \n",
            "  3                  -1  1     73984  ultralytics.nn.modules.conv.Conv             [64, 128, 3, 2]               \n",
            "  4                  -1  2    197632  ultralytics.nn.modules.block.C2f             [128, 128, 2, True]           \n",
            "  5                  -1  1    295424  ultralytics.nn.modules.conv.Conv             [128, 256, 3, 2]              \n",
            "  6                  -1  2    788480  ultralytics.nn.modules.block.C2f             [256, 256, 2, True]           \n",
            "  7                  -1  1   1180672  ultralytics.nn.modules.conv.Conv             [256, 512, 3, 2]              \n",
            "  8                  -1  1   1838080  ultralytics.nn.modules.block.C2f             [512, 512, 1, True]           \n",
            "  9                  -1  1    656896  ultralytics.nn.modules.block.SPPF            [512, 512, 5]                 \n",
            " 10                  -1  1         0  torch.nn.modules.upsampling.Upsample         [None, 2, 'nearest']          \n",
            " 11             [-1, 6]  1         0  ultralytics.nn.modules.conv.Concat           [1]                           \n",
            " 12                  -1  1    591360  ultralytics.nn.modules.block.C2f             [768, 256, 1]                 \n",
            " 13                  -1  1         0  torch.nn.modules.upsampling.Upsample         [None, 2, 'nearest']          \n",
            " 14             [-1, 4]  1         0  ultralytics.nn.modules.conv.Concat           [1]                           \n",
            " 15                  -1  1    148224  ultralytics.nn.modules.block.C2f             [384, 128, 1]                 \n",
            " 16                  -1  1    147712  ultralytics.nn.modules.conv.Conv             [128, 128, 3, 2]              \n",
            " 17            [-1, 12]  1         0  ultralytics.nn.modules.conv.Concat           [1]                           \n",
            " 18                  -1  1    493056  ultralytics.nn.modules.block.C2f             [384, 256, 1]                 \n",
            " 19                  -1  1    590336  ultralytics.nn.modules.conv.Conv             [256, 256, 3, 2]              \n",
            " 20             [-1, 9]  1         0  ultralytics.nn.modules.conv.Concat           [1]                           \n",
            " 21                  -1  1   1969152  ultralytics.nn.modules.block.C2f             [768, 512, 1]                 \n",
            " 22        [15, 18, 21]  1   2117596  ultralytics.nn.modules.head.Detect           [4, [128, 256, 512]]          \n",
            "Model summary: 225 layers, 11,137,148 parameters, 11,137,132 gradients, 28.7 GFLOPs\n",
            "\n",
            "Transferred 349/355 items from pretrained weights\n",
            "\u001b[34m\u001b[1mTensorBoard: \u001b[0mStart with 'tensorboard --logdir /content/drive/MyDrive/FormulaOneCarDetection/Results/vehiclesDetection3', view at http://localhost:6006/\n",
            "Freezing layer 'model.22.dfl.conv.weight'\n",
            "\u001b[34m\u001b[1mAMP: \u001b[0mrunning Automatic Mixed Precision (AMP) checks with YOLOv8n...\n",
            "\u001b[34m\u001b[1mAMP: \u001b[0mchecks passed ✅\n"
          ]
        },
        {
          "output_type": "stream",
          "name": "stderr",
          "text": [
            "\u001b[34m\u001b[1mtrain: \u001b[0mScanning /content/drive/MyDrive/FormulaOneCarDetection/train/labels.cache... 4349 images, 0 backgrounds, 0 corrupt: 100%|██████████| 4349/4349 [00:00<?, ?it/s]"
          ]
        },
        {
          "output_type": "stream",
          "name": "stdout",
          "text": [
            "\u001b[34m\u001b[1mtrain: \u001b[0mWARNING ⚠️ /content/drive/MyDrive/FormulaOneCarDetection/train/images/_0_3120_jpg.rf.6d80bf0ddf704259d0bc6a502b4a1560.jpg: 1 duplicate labels removed\n"
          ]
        },
        {
          "output_type": "stream",
          "name": "stderr",
          "text": [
            "\n"
          ]
        },
        {
          "output_type": "stream",
          "name": "stdout",
          "text": [
            "\u001b[34m\u001b[1malbumentations: \u001b[0mBlur(p=0.01, blur_limit=(3, 7)), MedianBlur(p=0.01, blur_limit=(3, 7)), ToGray(p=0.01), CLAHE(p=0.01, clip_limit=(1, 4.0), tile_grid_size=(8, 8))\n"
          ]
        },
        {
          "output_type": "stream",
          "name": "stderr",
          "text": [
            "/usr/lib/python3.10/multiprocessing/popen_fork.py:66: RuntimeWarning: os.fork() was called. os.fork() is incompatible with multithreaded code, and JAX is multithreaded, so this will likely lead to a deadlock.\n",
            "  self.pid = os.fork()\n",
            "\u001b[34m\u001b[1mval: \u001b[0mScanning /content/drive/MyDrive/FormulaOneCarDetection/valid/labels.cache... 1443 images, 0 backgrounds, 0 corrupt: 100%|██████████| 1443/1443 [00:00<?, ?it/s]\n"
          ]
        },
        {
          "output_type": "stream",
          "name": "stdout",
          "text": [
            "Plotting labels to /content/drive/MyDrive/FormulaOneCarDetection/Results/vehiclesDetection3/labels.jpg... \n",
            "\u001b[34m\u001b[1moptimizer:\u001b[0m 'optimizer=auto' found, ignoring 'lr0=0.01' and 'momentum=0.937' and determining best 'optimizer', 'lr0' and 'momentum' automatically... \n",
            "\u001b[34m\u001b[1moptimizer:\u001b[0m AdamW(lr=0.00125, momentum=0.9) with parameter groups 57 weight(decay=0.0), 64 weight(decay=0.0005078125), 63 bias(decay=0.0)\n",
            "\u001b[34m\u001b[1mTensorBoard: \u001b[0mmodel graph visualization added ✅\n",
            "Image sizes 416 train, 416 val\n",
            "Using 8 dataloader workers\n",
            "Logging results to \u001b[1m/content/drive/MyDrive/FormulaOneCarDetection/Results/vehiclesDetection3\u001b[0m\n",
            "Starting training for 30 epochs...\n",
            "\n",
            "      Epoch    GPU_mem   box_loss   cls_loss   dfl_loss  Instances       Size\n"
          ]
        },
        {
          "output_type": "stream",
          "name": "stderr",
          "text": [
            "       1/30      1.25G      1.224      1.865      1.445         11        416: 100%|██████████| 870/870 [01:16<00:00, 11.39it/s]\n",
            "                 Class     Images  Instances      Box(P          R      mAP50  mAP50-95): 100%|██████████| 145/145 [00:10<00:00, 14.46it/s]"
          ]
        },
        {
          "output_type": "stream",
          "name": "stdout",
          "text": [
            "                   all       1443       1588      0.669       0.73      0.749       0.46\n"
          ]
        },
        {
          "output_type": "stream",
          "name": "stderr",
          "text": [
            "\n"
          ]
        },
        {
          "output_type": "stream",
          "name": "stdout",
          "text": [
            "\n",
            "      Epoch    GPU_mem   box_loss   cls_loss   dfl_loss  Instances       Size\n"
          ]
        },
        {
          "output_type": "stream",
          "name": "stderr",
          "text": [
            "       2/30      1.17G      1.282        1.6      1.468          8        416: 100%|██████████| 870/870 [01:10<00:00, 12.38it/s]\n",
            "                 Class     Images  Instances      Box(P          R      mAP50  mAP50-95): 100%|██████████| 145/145 [00:09<00:00, 14.78it/s]\n"
          ]
        },
        {
          "output_type": "stream",
          "name": "stdout",
          "text": [
            "                   all       1443       1588      0.617      0.654      0.635      0.343\n",
            "\n",
            "      Epoch    GPU_mem   box_loss   cls_loss   dfl_loss  Instances       Size\n"
          ]
        },
        {
          "output_type": "stream",
          "name": "stderr",
          "text": [
            "       3/30      1.17G      1.245      1.554      1.451         13        416: 100%|██████████| 870/870 [01:08<00:00, 12.78it/s]\n",
            "                 Class     Images  Instances      Box(P          R      mAP50  mAP50-95): 100%|██████████| 145/145 [00:10<00:00, 13.68it/s]"
          ]
        },
        {
          "output_type": "stream",
          "name": "stdout",
          "text": [
            "                   all       1443       1588      0.813      0.784      0.872       0.57\n"
          ]
        },
        {
          "output_type": "stream",
          "name": "stderr",
          "text": [
            "\n"
          ]
        },
        {
          "output_type": "stream",
          "name": "stdout",
          "text": [
            "\n",
            "      Epoch    GPU_mem   box_loss   cls_loss   dfl_loss  Instances       Size\n"
          ]
        },
        {
          "output_type": "stream",
          "name": "stderr",
          "text": [
            "       4/30      1.17G      1.195      1.398      1.405         10        416: 100%|██████████| 870/870 [01:07<00:00, 12.82it/s]\n",
            "                 Class     Images  Instances      Box(P          R      mAP50  mAP50-95): 100%|██████████| 145/145 [00:09<00:00, 15.26it/s]\n"
          ]
        },
        {
          "output_type": "stream",
          "name": "stdout",
          "text": [
            "                   all       1443       1588      0.863      0.798      0.876      0.569\n",
            "\n",
            "      Epoch    GPU_mem   box_loss   cls_loss   dfl_loss  Instances       Size\n"
          ]
        },
        {
          "output_type": "stream",
          "name": "stderr",
          "text": [
            "       5/30      1.17G      1.146      1.332      1.377          6        416: 100%|██████████| 870/870 [01:08<00:00, 12.75it/s]\n",
            "                 Class     Images  Instances      Box(P          R      mAP50  mAP50-95): 100%|██████████| 145/145 [00:09<00:00, 15.48it/s]"
          ]
        },
        {
          "output_type": "stream",
          "name": "stdout",
          "text": [
            "                   all       1443       1588      0.852      0.789      0.902        0.6\n"
          ]
        },
        {
          "output_type": "stream",
          "name": "stderr",
          "text": [
            "\n"
          ]
        },
        {
          "output_type": "stream",
          "name": "stdout",
          "text": [
            "\n",
            "      Epoch    GPU_mem   box_loss   cls_loss   dfl_loss  Instances       Size\n"
          ]
        },
        {
          "output_type": "stream",
          "name": "stderr",
          "text": [
            "       6/30      1.17G      1.112      1.252      1.361          5        416: 100%|██████████| 870/870 [01:08<00:00, 12.73it/s]\n",
            "                 Class     Images  Instances      Box(P          R      mAP50  mAP50-95): 100%|██████████| 145/145 [00:09<00:00, 14.98it/s]\n"
          ]
        },
        {
          "output_type": "stream",
          "name": "stdout",
          "text": [
            "                   all       1443       1588      0.915      0.862      0.922      0.628\n",
            "\n",
            "      Epoch    GPU_mem   box_loss   cls_loss   dfl_loss  Instances       Size\n"
          ]
        },
        {
          "output_type": "stream",
          "name": "stderr",
          "text": [
            "       7/30      1.17G       1.08      1.184      1.339          7        416: 100%|██████████| 870/870 [01:07<00:00, 12.91it/s]\n",
            "                 Class     Images  Instances      Box(P          R      mAP50  mAP50-95): 100%|██████████| 145/145 [00:09<00:00, 14.88it/s]"
          ]
        },
        {
          "output_type": "stream",
          "name": "stdout",
          "text": [
            "                   all       1443       1588      0.864       0.86      0.932      0.653\n"
          ]
        },
        {
          "output_type": "stream",
          "name": "stderr",
          "text": [
            "\n"
          ]
        },
        {
          "output_type": "stream",
          "name": "stdout",
          "text": [
            "\n",
            "      Epoch    GPU_mem   box_loss   cls_loss   dfl_loss  Instances       Size\n"
          ]
        },
        {
          "output_type": "stream",
          "name": "stderr",
          "text": [
            "       8/30      1.17G      1.061       1.13      1.322         11        416: 100%|██████████| 870/870 [01:07<00:00, 12.84it/s]\n",
            "                 Class     Images  Instances      Box(P          R      mAP50  mAP50-95): 100%|██████████| 145/145 [00:09<00:00, 15.13it/s]"
          ]
        },
        {
          "output_type": "stream",
          "name": "stdout",
          "text": [
            "                   all       1443       1588      0.933      0.884      0.945      0.675\n"
          ]
        },
        {
          "output_type": "stream",
          "name": "stderr",
          "text": [
            "\n"
          ]
        },
        {
          "output_type": "stream",
          "name": "stdout",
          "text": [
            "\n",
            "      Epoch    GPU_mem   box_loss   cls_loss   dfl_loss  Instances       Size\n"
          ]
        },
        {
          "output_type": "stream",
          "name": "stderr",
          "text": [
            "       9/30      1.17G      1.033      1.078      1.303          9        416: 100%|██████████| 870/870 [01:07<00:00, 12.91it/s]\n",
            "                 Class     Images  Instances      Box(P          R      mAP50  mAP50-95): 100%|██████████| 145/145 [00:09<00:00, 15.64it/s]"
          ]
        },
        {
          "output_type": "stream",
          "name": "stdout",
          "text": [
            "                   all       1443       1588      0.917      0.895      0.946      0.662\n"
          ]
        },
        {
          "output_type": "stream",
          "name": "stderr",
          "text": [
            "\n"
          ]
        },
        {
          "output_type": "stream",
          "name": "stdout",
          "text": [
            "\n",
            "      Epoch    GPU_mem   box_loss   cls_loss   dfl_loss  Instances       Size\n"
          ]
        },
        {
          "output_type": "stream",
          "name": "stderr",
          "text": [
            "      10/30      1.17G      1.005       1.03      1.282         10        416: 100%|██████████| 870/870 [01:07<00:00, 12.88it/s]\n",
            "                 Class     Images  Instances      Box(P          R      mAP50  mAP50-95): 100%|██████████| 145/145 [00:09<00:00, 15.64it/s]\n"
          ]
        },
        {
          "output_type": "stream",
          "name": "stdout",
          "text": [
            "                   all       1443       1588      0.939      0.913      0.963      0.702\n",
            "\n",
            "      Epoch    GPU_mem   box_loss   cls_loss   dfl_loss  Instances       Size\n"
          ]
        },
        {
          "output_type": "stream",
          "name": "stderr",
          "text": [
            "      11/30      1.17G     0.9927      1.002       1.28          8        416: 100%|██████████| 870/870 [01:07<00:00, 12.87it/s]\n",
            "                 Class     Images  Instances      Box(P          R      mAP50  mAP50-95): 100%|██████████| 145/145 [00:09<00:00, 14.82it/s]\n"
          ]
        },
        {
          "output_type": "stream",
          "name": "stdout",
          "text": [
            "                   all       1443       1588       0.94      0.914      0.956      0.694\n",
            "\n",
            "      Epoch    GPU_mem   box_loss   cls_loss   dfl_loss  Instances       Size\n"
          ]
        },
        {
          "output_type": "stream",
          "name": "stderr",
          "text": [
            "      12/30      1.17G      0.977     0.9837      1.267         12        416: 100%|██████████| 870/870 [01:07<00:00, 12.95it/s]\n",
            "                 Class     Images  Instances      Box(P          R      mAP50  mAP50-95): 100%|██████████| 145/145 [00:09<00:00, 14.86it/s]"
          ]
        },
        {
          "output_type": "stream",
          "name": "stdout",
          "text": [
            "                   all       1443       1588      0.934      0.927       0.96      0.702\n"
          ]
        },
        {
          "output_type": "stream",
          "name": "stderr",
          "text": [
            "\n"
          ]
        },
        {
          "output_type": "stream",
          "name": "stdout",
          "text": [
            "\n",
            "      Epoch    GPU_mem   box_loss   cls_loss   dfl_loss  Instances       Size\n"
          ]
        },
        {
          "output_type": "stream",
          "name": "stderr",
          "text": [
            "      13/30      1.17G     0.9603     0.9392      1.261          6        416: 100%|██████████| 870/870 [01:07<00:00, 12.91it/s]\n",
            "                 Class     Images  Instances      Box(P          R      mAP50  mAP50-95): 100%|██████████| 145/145 [00:09<00:00, 15.92it/s]\n"
          ]
        },
        {
          "output_type": "stream",
          "name": "stdout",
          "text": [
            "                   all       1443       1588      0.943      0.923      0.966      0.721\n",
            "\n",
            "      Epoch    GPU_mem   box_loss   cls_loss   dfl_loss  Instances       Size\n"
          ]
        },
        {
          "output_type": "stream",
          "name": "stderr",
          "text": [
            "      14/30      1.17G     0.9411     0.9033      1.249          9        416: 100%|██████████| 870/870 [01:07<00:00, 12.93it/s]\n",
            "                 Class     Images  Instances      Box(P          R      mAP50  mAP50-95): 100%|██████████| 145/145 [00:09<00:00, 15.54it/s]\n"
          ]
        },
        {
          "output_type": "stream",
          "name": "stdout",
          "text": [
            "                   all       1443       1588      0.953      0.937       0.97      0.722\n",
            "\n",
            "      Epoch    GPU_mem   box_loss   cls_loss   dfl_loss  Instances       Size\n"
          ]
        },
        {
          "output_type": "stream",
          "name": "stderr",
          "text": [
            "      15/30      1.17G     0.9267     0.8778      1.237         11        416: 100%|██████████| 870/870 [01:08<00:00, 12.79it/s]\n",
            "                 Class     Images  Instances      Box(P          R      mAP50  mAP50-95): 100%|██████████| 145/145 [00:09<00:00, 14.74it/s]\n"
          ]
        },
        {
          "output_type": "stream",
          "name": "stdout",
          "text": [
            "                   all       1443       1588      0.948      0.943      0.969      0.735\n",
            "\n",
            "      Epoch    GPU_mem   box_loss   cls_loss   dfl_loss  Instances       Size\n"
          ]
        },
        {
          "output_type": "stream",
          "name": "stderr",
          "text": [
            "      16/30      1.17G     0.9139     0.8794       1.24          5        416: 100%|██████████| 870/870 [01:07<00:00, 12.92it/s]\n",
            "                 Class     Images  Instances      Box(P          R      mAP50  mAP50-95): 100%|██████████| 145/145 [00:10<00:00, 14.40it/s]\n"
          ]
        },
        {
          "output_type": "stream",
          "name": "stdout",
          "text": [
            "                   all       1443       1588      0.939      0.938      0.961      0.714\n",
            "\n",
            "      Epoch    GPU_mem   box_loss   cls_loss   dfl_loss  Instances       Size\n"
          ]
        },
        {
          "output_type": "stream",
          "name": "stderr",
          "text": [
            "      17/30      1.17G     0.9001     0.8444      1.217         13        416: 100%|██████████| 870/870 [01:06<00:00, 13.02it/s]\n",
            "                 Class     Images  Instances      Box(P          R      mAP50  mAP50-95): 100%|██████████| 145/145 [00:09<00:00, 15.63it/s]"
          ]
        },
        {
          "output_type": "stream",
          "name": "stdout",
          "text": [
            "                   all       1443       1588      0.952      0.948      0.971      0.732\n"
          ]
        },
        {
          "output_type": "stream",
          "name": "stderr",
          "text": [
            "\n"
          ]
        },
        {
          "output_type": "stream",
          "name": "stdout",
          "text": [
            "\n",
            "      Epoch    GPU_mem   box_loss   cls_loss   dfl_loss  Instances       Size\n"
          ]
        },
        {
          "output_type": "stream",
          "name": "stderr",
          "text": [
            "      18/30      1.17G     0.8993     0.8332      1.221         13        416: 100%|██████████| 870/870 [01:07<00:00, 12.87it/s]\n",
            "                 Class     Images  Instances      Box(P          R      mAP50  mAP50-95): 100%|██████████| 145/145 [00:09<00:00, 15.75it/s]\n"
          ]
        },
        {
          "output_type": "stream",
          "name": "stdout",
          "text": [
            "                   all       1443       1588      0.948      0.953      0.971      0.731\n",
            "\n",
            "      Epoch    GPU_mem   box_loss   cls_loss   dfl_loss  Instances       Size\n"
          ]
        },
        {
          "output_type": "stream",
          "name": "stderr",
          "text": [
            "      19/30      1.17G     0.8763     0.8157      1.211         10        416: 100%|██████████| 870/870 [01:07<00:00, 12.92it/s]\n",
            "                 Class     Images  Instances      Box(P          R      mAP50  mAP50-95): 100%|██████████| 145/145 [00:09<00:00, 15.54it/s]\n"
          ]
        },
        {
          "output_type": "stream",
          "name": "stdout",
          "text": [
            "                   all       1443       1588      0.958       0.95      0.971       0.74\n",
            "\n",
            "      Epoch    GPU_mem   box_loss   cls_loss   dfl_loss  Instances       Size\n"
          ]
        },
        {
          "output_type": "stream",
          "name": "stderr",
          "text": [
            "      20/30      1.17G     0.8686     0.7975      1.205          7        416: 100%|██████████| 870/870 [01:08<00:00, 12.76it/s]\n",
            "                 Class     Images  Instances      Box(P          R      mAP50  mAP50-95): 100%|██████████| 145/145 [00:09<00:00, 14.90it/s]"
          ]
        },
        {
          "output_type": "stream",
          "name": "stdout",
          "text": [
            "                   all       1443       1588      0.956      0.949      0.974      0.748\n"
          ]
        },
        {
          "output_type": "stream",
          "name": "stderr",
          "text": [
            "\n"
          ]
        },
        {
          "output_type": "stream",
          "name": "stdout",
          "text": [
            "Closing dataloader mosaic\n",
            "\u001b[34m\u001b[1malbumentations: \u001b[0mBlur(p=0.01, blur_limit=(3, 7)), MedianBlur(p=0.01, blur_limit=(3, 7)), ToGray(p=0.01), CLAHE(p=0.01, clip_limit=(1, 4.0), tile_grid_size=(8, 8))\n"
          ]
        },
        {
          "output_type": "stream",
          "name": "stderr",
          "text": [
            "/usr/lib/python3.10/multiprocessing/popen_fork.py:66: RuntimeWarning: os.fork() was called. os.fork() is incompatible with multithreaded code, and JAX is multithreaded, so this will likely lead to a deadlock.\n",
            "  self.pid = os.fork()\n"
          ]
        },
        {
          "output_type": "stream",
          "name": "stdout",
          "text": [
            "\n",
            "      Epoch    GPU_mem   box_loss   cls_loss   dfl_loss  Instances       Size\n"
          ]
        },
        {
          "output_type": "stream",
          "name": "stderr",
          "text": [
            "      21/30      1.17G     0.8445     0.5359      1.216          4        416: 100%|██████████| 870/870 [01:08<00:00, 12.73it/s]\n",
            "                 Class     Images  Instances      Box(P          R      mAP50  mAP50-95): 100%|██████████| 145/145 [00:09<00:00, 15.18it/s]"
          ]
        },
        {
          "output_type": "stream",
          "name": "stdout",
          "text": [
            "                   all       1443       1588       0.96       0.95      0.974      0.746\n"
          ]
        },
        {
          "output_type": "stream",
          "name": "stderr",
          "text": [
            "\n"
          ]
        },
        {
          "output_type": "stream",
          "name": "stdout",
          "text": [
            "\n",
            "      Epoch    GPU_mem   box_loss   cls_loss   dfl_loss  Instances       Size\n"
          ]
        },
        {
          "output_type": "stream",
          "name": "stderr",
          "text": [
            "      22/30      1.17G     0.8126      0.515      1.198          4        416: 100%|██████████| 870/870 [01:07<00:00, 12.86it/s]\n",
            "                 Class     Images  Instances      Box(P          R      mAP50  mAP50-95): 100%|██████████| 145/145 [00:09<00:00, 16.00it/s]"
          ]
        },
        {
          "output_type": "stream",
          "name": "stdout",
          "text": [
            "                   all       1443       1588      0.959      0.937       0.97      0.749\n"
          ]
        },
        {
          "output_type": "stream",
          "name": "stderr",
          "text": [
            "\n"
          ]
        },
        {
          "output_type": "stream",
          "name": "stdout",
          "text": [
            "\n",
            "      Epoch    GPU_mem   box_loss   cls_loss   dfl_loss  Instances       Size\n"
          ]
        },
        {
          "output_type": "stream",
          "name": "stderr",
          "text": [
            "      23/30      1.17G     0.8006     0.4956      1.184          4        416: 100%|██████████| 870/870 [01:07<00:00, 12.90it/s]\n",
            "                 Class     Images  Instances      Box(P          R      mAP50  mAP50-95): 100%|██████████| 145/145 [00:09<00:00, 15.29it/s]"
          ]
        },
        {
          "output_type": "stream",
          "name": "stdout",
          "text": [
            "                   all       1443       1588      0.963       0.95      0.975      0.762\n"
          ]
        },
        {
          "output_type": "stream",
          "name": "stderr",
          "text": [
            "\n"
          ]
        },
        {
          "output_type": "stream",
          "name": "stdout",
          "text": [
            "\n",
            "      Epoch    GPU_mem   box_loss   cls_loss   dfl_loss  Instances       Size\n"
          ]
        },
        {
          "output_type": "stream",
          "name": "stderr",
          "text": [
            "      24/30      1.17G     0.7709      0.459      1.164          5        416: 100%|██████████| 870/870 [01:07<00:00, 12.95it/s]\n",
            "                 Class     Images  Instances      Box(P          R      mAP50  mAP50-95): 100%|██████████| 145/145 [00:09<00:00, 14.86it/s]"
          ]
        },
        {
          "output_type": "stream",
          "name": "stdout",
          "text": [
            "                   all       1443       1588      0.968       0.94      0.974      0.754\n"
          ]
        },
        {
          "output_type": "stream",
          "name": "stderr",
          "text": [
            "\n"
          ]
        },
        {
          "output_type": "stream",
          "name": "stdout",
          "text": [
            "\n",
            "      Epoch    GPU_mem   box_loss   cls_loss   dfl_loss  Instances       Size\n"
          ]
        },
        {
          "output_type": "stream",
          "name": "stderr",
          "text": [
            "      25/30      1.17G     0.7562     0.4519      1.159          4        416: 100%|██████████| 870/870 [01:08<00:00, 12.72it/s]\n",
            "                 Class     Images  Instances      Box(P          R      mAP50  mAP50-95): 100%|██████████| 145/145 [00:09<00:00, 15.39it/s]"
          ]
        },
        {
          "output_type": "stream",
          "name": "stdout",
          "text": [
            "                   all       1443       1588      0.949      0.954      0.973      0.763\n"
          ]
        },
        {
          "output_type": "stream",
          "name": "stderr",
          "text": [
            "\n"
          ]
        },
        {
          "output_type": "stream",
          "name": "stdout",
          "text": [
            "\n",
            "      Epoch    GPU_mem   box_loss   cls_loss   dfl_loss  Instances       Size\n"
          ]
        },
        {
          "output_type": "stream",
          "name": "stderr",
          "text": [
            "      26/30      1.17G     0.7526     0.4394      1.154          4        416: 100%|██████████| 870/870 [01:07<00:00, 12.81it/s]\n",
            "                 Class     Images  Instances      Box(P          R      mAP50  mAP50-95): 100%|██████████| 145/145 [00:09<00:00, 15.66it/s]"
          ]
        },
        {
          "output_type": "stream",
          "name": "stdout",
          "text": [
            "                   all       1443       1588       0.96      0.954      0.976      0.772\n"
          ]
        },
        {
          "output_type": "stream",
          "name": "stderr",
          "text": [
            "\n"
          ]
        },
        {
          "output_type": "stream",
          "name": "stdout",
          "text": [
            "\n",
            "      Epoch    GPU_mem   box_loss   cls_loss   dfl_loss  Instances       Size\n"
          ]
        },
        {
          "output_type": "stream",
          "name": "stderr",
          "text": [
            "      27/30      1.17G     0.7282     0.4248      1.137          6        416: 100%|██████████| 870/870 [01:07<00:00, 12.90it/s]\n",
            "                 Class     Images  Instances      Box(P          R      mAP50  mAP50-95): 100%|██████████| 145/145 [00:09<00:00, 15.49it/s]"
          ]
        },
        {
          "output_type": "stream",
          "name": "stdout",
          "text": [
            "                   all       1443       1588      0.967      0.947      0.976      0.772\n"
          ]
        },
        {
          "output_type": "stream",
          "name": "stderr",
          "text": [
            "\n"
          ]
        },
        {
          "output_type": "stream",
          "name": "stdout",
          "text": [
            "\n",
            "      Epoch    GPU_mem   box_loss   cls_loss   dfl_loss  Instances       Size\n"
          ]
        },
        {
          "output_type": "stream",
          "name": "stderr",
          "text": [
            "      28/30      1.17G     0.7087     0.4044      1.128          4        416: 100%|██████████| 870/870 [01:06<00:00, 13.18it/s]\n",
            "                 Class     Images  Instances      Box(P          R      mAP50  mAP50-95): 100%|██████████| 145/145 [00:09<00:00, 15.94it/s]"
          ]
        },
        {
          "output_type": "stream",
          "name": "stdout",
          "text": [
            "                   all       1443       1588      0.958      0.951      0.975      0.773\n"
          ]
        },
        {
          "output_type": "stream",
          "name": "stderr",
          "text": [
            "\n"
          ]
        },
        {
          "output_type": "stream",
          "name": "stdout",
          "text": [
            "\n",
            "      Epoch    GPU_mem   box_loss   cls_loss   dfl_loss  Instances       Size\n"
          ]
        },
        {
          "output_type": "stream",
          "name": "stderr",
          "text": [
            "      29/30      1.17G      0.699     0.3973      1.117          4        416: 100%|██████████| 870/870 [01:02<00:00, 13.82it/s]\n",
            "                 Class     Images  Instances      Box(P          R      mAP50  mAP50-95): 100%|██████████| 145/145 [00:09<00:00, 15.54it/s]"
          ]
        },
        {
          "output_type": "stream",
          "name": "stdout",
          "text": [
            "                   all       1443       1588      0.961      0.949      0.975       0.78\n"
          ]
        },
        {
          "output_type": "stream",
          "name": "stderr",
          "text": [
            "\n"
          ]
        },
        {
          "output_type": "stream",
          "name": "stdout",
          "text": [
            "\n",
            "      Epoch    GPU_mem   box_loss   cls_loss   dfl_loss  Instances       Size\n"
          ]
        },
        {
          "output_type": "stream",
          "name": "stderr",
          "text": [
            "      30/30      1.17G     0.6819     0.3869      1.117          4        416: 100%|██████████| 870/870 [01:04<00:00, 13.59it/s]\n",
            "                 Class     Images  Instances      Box(P          R      mAP50  mAP50-95): 100%|██████████| 145/145 [00:08<00:00, 16.21it/s]"
          ]
        },
        {
          "output_type": "stream",
          "name": "stdout",
          "text": [
            "                   all       1443       1588      0.959      0.962      0.977      0.784\n"
          ]
        },
        {
          "output_type": "stream",
          "name": "stderr",
          "text": [
            "\n"
          ]
        },
        {
          "output_type": "stream",
          "name": "stdout",
          "text": [
            "\n",
            "30 epochs completed in 0.653 hours.\n",
            "Optimizer stripped from /content/drive/MyDrive/FormulaOneCarDetection/Results/vehiclesDetection3/weights/last.pt, 22.5MB\n",
            "Optimizer stripped from /content/drive/MyDrive/FormulaOneCarDetection/Results/vehiclesDetection3/weights/best.pt, 22.5MB\n",
            "\n",
            "Validating /content/drive/MyDrive/FormulaOneCarDetection/Results/vehiclesDetection3/weights/best.pt...\n",
            "Ultralytics YOLOv8.2.63 🚀 Python-3.10.12 torch-2.3.1+cu121 CUDA:0 (NVIDIA A100-SXM4-40GB, 40514MiB)\n",
            "Model summary (fused): 168 layers, 11,127,132 parameters, 0 gradients, 28.4 GFLOPs\n"
          ]
        },
        {
          "output_type": "stream",
          "name": "stderr",
          "text": [
            "                 Class     Images  Instances      Box(P          R      mAP50  mAP50-95): 100%|██████████| 145/145 [00:08<00:00, 17.04it/s]\n"
          ]
        },
        {
          "output_type": "stream",
          "name": "stdout",
          "text": [
            "                   all       1443       1588      0.959      0.962      0.977      0.784\n",
            "               Ferrari        342        358      0.959      0.961       0.98      0.798\n",
            "               Mclaren        378        390      0.952      0.962      0.974      0.777\n",
            "              Mercedes        469        491      0.943      0.959      0.969      0.782\n",
            "               Redbull        344        349      0.981      0.966      0.984       0.78\n",
            "Speed: 0.1ms preprocess, 1.1ms inference, 0.0ms loss, 0.9ms postprocess per image\n",
            "Results saved to \u001b[1m/content/drive/MyDrive/FormulaOneCarDetection/Results/vehiclesDetection3\u001b[0m\n"
          ]
        },
        {
          "output_type": "execute_result",
          "data": {
            "text/plain": [
              "ultralytics.utils.metrics.DetMetrics object with attributes:\n",
              "\n",
              "ap_class_index: array([0, 1, 2, 3])\n",
              "box: ultralytics.utils.metrics.Metric object\n",
              "confusion_matrix: <ultralytics.utils.metrics.ConfusionMatrix object at 0x7cfb5c3200a0>\n",
              "curves: ['Precision-Recall(B)', 'F1-Confidence(B)', 'Precision-Confidence(B)', 'Recall-Confidence(B)']\n",
              "curves_results: [[array([          0,    0.001001,    0.002002,    0.003003,    0.004004,    0.005005,    0.006006,    0.007007,    0.008008,    0.009009,     0.01001,    0.011011,    0.012012,    0.013013,    0.014014,    0.015015,    0.016016,    0.017017,    0.018018,    0.019019,     0.02002,    0.021021,    0.022022,    0.023023,\n",
              "          0.024024,    0.025025,    0.026026,    0.027027,    0.028028,    0.029029,     0.03003,    0.031031,    0.032032,    0.033033,    0.034034,    0.035035,    0.036036,    0.037037,    0.038038,    0.039039,     0.04004,    0.041041,    0.042042,    0.043043,    0.044044,    0.045045,    0.046046,    0.047047,\n",
              "          0.048048,    0.049049,     0.05005,    0.051051,    0.052052,    0.053053,    0.054054,    0.055055,    0.056056,    0.057057,    0.058058,    0.059059,     0.06006,    0.061061,    0.062062,    0.063063,    0.064064,    0.065065,    0.066066,    0.067067,    0.068068,    0.069069,     0.07007,    0.071071,\n",
              "          0.072072,    0.073073,    0.074074,    0.075075,    0.076076,    0.077077,    0.078078,    0.079079,     0.08008,    0.081081,    0.082082,    0.083083,    0.084084,    0.085085,    0.086086,    0.087087,    0.088088,    0.089089,     0.09009,    0.091091,    0.092092,    0.093093,    0.094094,    0.095095,\n",
              "          0.096096,    0.097097,    0.098098,    0.099099,      0.1001,      0.1011,      0.1021,      0.1031,      0.1041,     0.10511,     0.10611,     0.10711,     0.10811,     0.10911,     0.11011,     0.11111,     0.11211,     0.11311,     0.11411,     0.11512,     0.11612,     0.11712,     0.11812,     0.11912,\n",
              "           0.12012,     0.12112,     0.12212,     0.12312,     0.12412,     0.12513,     0.12613,     0.12713,     0.12813,     0.12913,     0.13013,     0.13113,     0.13213,     0.13313,     0.13413,     0.13514,     0.13614,     0.13714,     0.13814,     0.13914,     0.14014,     0.14114,     0.14214,     0.14314,\n",
              "           0.14414,     0.14515,     0.14615,     0.14715,     0.14815,     0.14915,     0.15015,     0.15115,     0.15215,     0.15315,     0.15415,     0.15516,     0.15616,     0.15716,     0.15816,     0.15916,     0.16016,     0.16116,     0.16216,     0.16316,     0.16416,     0.16517,     0.16617,     0.16717,\n",
              "           0.16817,     0.16917,     0.17017,     0.17117,     0.17217,     0.17317,     0.17417,     0.17518,     0.17618,     0.17718,     0.17818,     0.17918,     0.18018,     0.18118,     0.18218,     0.18318,     0.18418,     0.18519,     0.18619,     0.18719,     0.18819,     0.18919,     0.19019,     0.19119,\n",
              "           0.19219,     0.19319,     0.19419,      0.1952,      0.1962,      0.1972,      0.1982,      0.1992,      0.2002,      0.2012,      0.2022,      0.2032,      0.2042,     0.20521,     0.20621,     0.20721,     0.20821,     0.20921,     0.21021,     0.21121,     0.21221,     0.21321,     0.21421,     0.21522,\n",
              "           0.21622,     0.21722,     0.21822,     0.21922,     0.22022,     0.22122,     0.22222,     0.22322,     0.22422,     0.22523,     0.22623,     0.22723,     0.22823,     0.22923,     0.23023,     0.23123,     0.23223,     0.23323,     0.23423,     0.23524,     0.23624,     0.23724,     0.23824,     0.23924,\n",
              "           0.24024,     0.24124,     0.24224,     0.24324,     0.24424,     0.24525,     0.24625,     0.24725,     0.24825,     0.24925,     0.25025,     0.25125,     0.25225,     0.25325,     0.25425,     0.25526,     0.25626,     0.25726,     0.25826,     0.25926,     0.26026,     0.26126,     0.26226,     0.26326,\n",
              "           0.26426,     0.26527,     0.26627,     0.26727,     0.26827,     0.26927,     0.27027,     0.27127,     0.27227,     0.27327,     0.27427,     0.27528,     0.27628,     0.27728,     0.27828,     0.27928,     0.28028,     0.28128,     0.28228,     0.28328,     0.28428,     0.28529,     0.28629,     0.28729,\n",
              "           0.28829,     0.28929,     0.29029,     0.29129,     0.29229,     0.29329,     0.29429,      0.2953,      0.2963,      0.2973,      0.2983,      0.2993,      0.3003,      0.3013,      0.3023,      0.3033,      0.3043,     0.30531,     0.30631,     0.30731,     0.30831,     0.30931,     0.31031,     0.31131,\n",
              "           0.31231,     0.31331,     0.31431,     0.31532,     0.31632,     0.31732,     0.31832,     0.31932,     0.32032,     0.32132,     0.32232,     0.32332,     0.32432,     0.32533,     0.32633,     0.32733,     0.32833,     0.32933,     0.33033,     0.33133,     0.33233,     0.33333,     0.33433,     0.33534,\n",
              "           0.33634,     0.33734,     0.33834,     0.33934,     0.34034,     0.34134,     0.34234,     0.34334,     0.34434,     0.34535,     0.34635,     0.34735,     0.34835,     0.34935,     0.35035,     0.35135,     0.35235,     0.35335,     0.35435,     0.35536,     0.35636,     0.35736,     0.35836,     0.35936,\n",
              "           0.36036,     0.36136,     0.36236,     0.36336,     0.36436,     0.36537,     0.36637,     0.36737,     0.36837,     0.36937,     0.37037,     0.37137,     0.37237,     0.37337,     0.37437,     0.37538,     0.37638,     0.37738,     0.37838,     0.37938,     0.38038,     0.38138,     0.38238,     0.38338,\n",
              "           0.38438,     0.38539,     0.38639,     0.38739,     0.38839,     0.38939,     0.39039,     0.39139,     0.39239,     0.39339,     0.39439,      0.3954,      0.3964,      0.3974,      0.3984,      0.3994,      0.4004,      0.4014,      0.4024,      0.4034,      0.4044,     0.40541,     0.40641,     0.40741,\n",
              "           0.40841,     0.40941,     0.41041,     0.41141,     0.41241,     0.41341,     0.41441,     0.41542,     0.41642,     0.41742,     0.41842,     0.41942,     0.42042,     0.42142,     0.42242,     0.42342,     0.42442,     0.42543,     0.42643,     0.42743,     0.42843,     0.42943,     0.43043,     0.43143,\n",
              "           0.43243,     0.43343,     0.43443,     0.43544,     0.43644,     0.43744,     0.43844,     0.43944,     0.44044,     0.44144,     0.44244,     0.44344,     0.44444,     0.44545,     0.44645,     0.44745,     0.44845,     0.44945,     0.45045,     0.45145,     0.45245,     0.45345,     0.45445,     0.45546,\n",
              "           0.45646,     0.45746,     0.45846,     0.45946,     0.46046,     0.46146,     0.46246,     0.46346,     0.46446,     0.46547,     0.46647,     0.46747,     0.46847,     0.46947,     0.47047,     0.47147,     0.47247,     0.47347,     0.47447,     0.47548,     0.47648,     0.47748,     0.47848,     0.47948,\n",
              "           0.48048,     0.48148,     0.48248,     0.48348,     0.48448,     0.48549,     0.48649,     0.48749,     0.48849,     0.48949,     0.49049,     0.49149,     0.49249,     0.49349,     0.49449,      0.4955,      0.4965,      0.4975,      0.4985,      0.4995,      0.5005,      0.5015,      0.5025,      0.5035,\n",
              "            0.5045,     0.50551,     0.50651,     0.50751,     0.50851,     0.50951,     0.51051,     0.51151,     0.51251,     0.51351,     0.51451,     0.51552,     0.51652,     0.51752,     0.51852,     0.51952,     0.52052,     0.52152,     0.52252,     0.52352,     0.52452,     0.52553,     0.52653,     0.52753,\n",
              "           0.52853,     0.52953,     0.53053,     0.53153,     0.53253,     0.53353,     0.53453,     0.53554,     0.53654,     0.53754,     0.53854,     0.53954,     0.54054,     0.54154,     0.54254,     0.54354,     0.54454,     0.54555,     0.54655,     0.54755,     0.54855,     0.54955,     0.55055,     0.55155,\n",
              "           0.55255,     0.55355,     0.55455,     0.55556,     0.55656,     0.55756,     0.55856,     0.55956,     0.56056,     0.56156,     0.56256,     0.56356,     0.56456,     0.56557,     0.56657,     0.56757,     0.56857,     0.56957,     0.57057,     0.57157,     0.57257,     0.57357,     0.57457,     0.57558,\n",
              "           0.57658,     0.57758,     0.57858,     0.57958,     0.58058,     0.58158,     0.58258,     0.58358,     0.58458,     0.58559,     0.58659,     0.58759,     0.58859,     0.58959,     0.59059,     0.59159,     0.59259,     0.59359,     0.59459,      0.5956,      0.5966,      0.5976,      0.5986,      0.5996,\n",
              "            0.6006,      0.6016,      0.6026,      0.6036,      0.6046,     0.60561,     0.60661,     0.60761,     0.60861,     0.60961,     0.61061,     0.61161,     0.61261,     0.61361,     0.61461,     0.61562,     0.61662,     0.61762,     0.61862,     0.61962,     0.62062,     0.62162,     0.62262,     0.62362,\n",
              "           0.62462,     0.62563,     0.62663,     0.62763,     0.62863,     0.62963,     0.63063,     0.63163,     0.63263,     0.63363,     0.63463,     0.63564,     0.63664,     0.63764,     0.63864,     0.63964,     0.64064,     0.64164,     0.64264,     0.64364,     0.64464,     0.64565,     0.64665,     0.64765,\n",
              "           0.64865,     0.64965,     0.65065,     0.65165,     0.65265,     0.65365,     0.65465,     0.65566,     0.65666,     0.65766,     0.65866,     0.65966,     0.66066,     0.66166,     0.66266,     0.66366,     0.66466,     0.66567,     0.66667,     0.66767,     0.66867,     0.66967,     0.67067,     0.67167,\n",
              "           0.67267,     0.67367,     0.67467,     0.67568,     0.67668,     0.67768,     0.67868,     0.67968,     0.68068,     0.68168,     0.68268,     0.68368,     0.68468,     0.68569,     0.68669,     0.68769,     0.68869,     0.68969,     0.69069,     0.69169,     0.69269,     0.69369,     0.69469,      0.6957,\n",
              "            0.6967,      0.6977,      0.6987,      0.6997,      0.7007,      0.7017,      0.7027,      0.7037,      0.7047,     0.70571,     0.70671,     0.70771,     0.70871,     0.70971,     0.71071,     0.71171,     0.71271,     0.71371,     0.71471,     0.71572,     0.71672,     0.71772,     0.71872,     0.71972,\n",
              "           0.72072,     0.72172,     0.72272,     0.72372,     0.72472,     0.72573,     0.72673,     0.72773,     0.72873,     0.72973,     0.73073,     0.73173,     0.73273,     0.73373,     0.73473,     0.73574,     0.73674,     0.73774,     0.73874,     0.73974,     0.74074,     0.74174,     0.74274,     0.74374,\n",
              "           0.74474,     0.74575,     0.74675,     0.74775,     0.74875,     0.74975,     0.75075,     0.75175,     0.75275,     0.75375,     0.75475,     0.75576,     0.75676,     0.75776,     0.75876,     0.75976,     0.76076,     0.76176,     0.76276,     0.76376,     0.76476,     0.76577,     0.76677,     0.76777,\n",
              "           0.76877,     0.76977,     0.77077,     0.77177,     0.77277,     0.77377,     0.77477,     0.77578,     0.77678,     0.77778,     0.77878,     0.77978,     0.78078,     0.78178,     0.78278,     0.78378,     0.78478,     0.78579,     0.78679,     0.78779,     0.78879,     0.78979,     0.79079,     0.79179,\n",
              "           0.79279,     0.79379,     0.79479,      0.7958,      0.7968,      0.7978,      0.7988,      0.7998,      0.8008,      0.8018,      0.8028,      0.8038,      0.8048,     0.80581,     0.80681,     0.80781,     0.80881,     0.80981,     0.81081,     0.81181,     0.81281,     0.81381,     0.81481,     0.81582,\n",
              "           0.81682,     0.81782,     0.81882,     0.81982,     0.82082,     0.82182,     0.82282,     0.82382,     0.82482,     0.82583,     0.82683,     0.82783,     0.82883,     0.82983,     0.83083,     0.83183,     0.83283,     0.83383,     0.83483,     0.83584,     0.83684,     0.83784,     0.83884,     0.83984,\n",
              "           0.84084,     0.84184,     0.84284,     0.84384,     0.84484,     0.84585,     0.84685,     0.84785,     0.84885,     0.84985,     0.85085,     0.85185,     0.85285,     0.85385,     0.85485,     0.85586,     0.85686,     0.85786,     0.85886,     0.85986,     0.86086,     0.86186,     0.86286,     0.86386,\n",
              "           0.86486,     0.86587,     0.86687,     0.86787,     0.86887,     0.86987,     0.87087,     0.87187,     0.87287,     0.87387,     0.87487,     0.87588,     0.87688,     0.87788,     0.87888,     0.87988,     0.88088,     0.88188,     0.88288,     0.88388,     0.88488,     0.88589,     0.88689,     0.88789,\n",
              "           0.88889,     0.88989,     0.89089,     0.89189,     0.89289,     0.89389,     0.89489,      0.8959,      0.8969,      0.8979,      0.8989,      0.8999,      0.9009,      0.9019,      0.9029,      0.9039,      0.9049,     0.90591,     0.90691,     0.90791,     0.90891,     0.90991,     0.91091,     0.91191,\n",
              "           0.91291,     0.91391,     0.91491,     0.91592,     0.91692,     0.91792,     0.91892,     0.91992,     0.92092,     0.92192,     0.92292,     0.92392,     0.92492,     0.92593,     0.92693,     0.92793,     0.92893,     0.92993,     0.93093,     0.93193,     0.93293,     0.93393,     0.93493,     0.93594,\n",
              "           0.93694,     0.93794,     0.93894,     0.93994,     0.94094,     0.94194,     0.94294,     0.94394,     0.94494,     0.94595,     0.94695,     0.94795,     0.94895,     0.94995,     0.95095,     0.95195,     0.95295,     0.95395,     0.95495,     0.95596,     0.95696,     0.95796,     0.95896,     0.95996,\n",
              "           0.96096,     0.96196,     0.96296,     0.96396,     0.96496,     0.96597,     0.96697,     0.96797,     0.96897,     0.96997,     0.97097,     0.97197,     0.97297,     0.97397,     0.97497,     0.97598,     0.97698,     0.97798,     0.97898,     0.97998,     0.98098,     0.98198,     0.98298,     0.98398,\n",
              "           0.98498,     0.98599,     0.98699,     0.98799,     0.98899,     0.98999,     0.99099,     0.99199,     0.99299,     0.99399,     0.99499,       0.996,       0.997,       0.998,       0.999,           1]), array([[          1,           1,           1, ...,    0.030821,     0.01541,           0],\n",
              "       [          1,           1,           1, ...,    0.051075,    0.025538,           0],\n",
              "       [          1,           1,           1, ...,    0.055229,    0.027614,           0],\n",
              "       [          1,           1,           1, ...,     0.13301,    0.066506,           0]]), 'Recall', 'Precision'], [array([          0,    0.001001,    0.002002,    0.003003,    0.004004,    0.005005,    0.006006,    0.007007,    0.008008,    0.009009,     0.01001,    0.011011,    0.012012,    0.013013,    0.014014,    0.015015,    0.016016,    0.017017,    0.018018,    0.019019,     0.02002,    0.021021,    0.022022,    0.023023,\n",
              "          0.024024,    0.025025,    0.026026,    0.027027,    0.028028,    0.029029,     0.03003,    0.031031,    0.032032,    0.033033,    0.034034,    0.035035,    0.036036,    0.037037,    0.038038,    0.039039,     0.04004,    0.041041,    0.042042,    0.043043,    0.044044,    0.045045,    0.046046,    0.047047,\n",
              "          0.048048,    0.049049,     0.05005,    0.051051,    0.052052,    0.053053,    0.054054,    0.055055,    0.056056,    0.057057,    0.058058,    0.059059,     0.06006,    0.061061,    0.062062,    0.063063,    0.064064,    0.065065,    0.066066,    0.067067,    0.068068,    0.069069,     0.07007,    0.071071,\n",
              "          0.072072,    0.073073,    0.074074,    0.075075,    0.076076,    0.077077,    0.078078,    0.079079,     0.08008,    0.081081,    0.082082,    0.083083,    0.084084,    0.085085,    0.086086,    0.087087,    0.088088,    0.089089,     0.09009,    0.091091,    0.092092,    0.093093,    0.094094,    0.095095,\n",
              "          0.096096,    0.097097,    0.098098,    0.099099,      0.1001,      0.1011,      0.1021,      0.1031,      0.1041,     0.10511,     0.10611,     0.10711,     0.10811,     0.10911,     0.11011,     0.11111,     0.11211,     0.11311,     0.11411,     0.11512,     0.11612,     0.11712,     0.11812,     0.11912,\n",
              "           0.12012,     0.12112,     0.12212,     0.12312,     0.12412,     0.12513,     0.12613,     0.12713,     0.12813,     0.12913,     0.13013,     0.13113,     0.13213,     0.13313,     0.13413,     0.13514,     0.13614,     0.13714,     0.13814,     0.13914,     0.14014,     0.14114,     0.14214,     0.14314,\n",
              "           0.14414,     0.14515,     0.14615,     0.14715,     0.14815,     0.14915,     0.15015,     0.15115,     0.15215,     0.15315,     0.15415,     0.15516,     0.15616,     0.15716,     0.15816,     0.15916,     0.16016,     0.16116,     0.16216,     0.16316,     0.16416,     0.16517,     0.16617,     0.16717,\n",
              "           0.16817,     0.16917,     0.17017,     0.17117,     0.17217,     0.17317,     0.17417,     0.17518,     0.17618,     0.17718,     0.17818,     0.17918,     0.18018,     0.18118,     0.18218,     0.18318,     0.18418,     0.18519,     0.18619,     0.18719,     0.18819,     0.18919,     0.19019,     0.19119,\n",
              "           0.19219,     0.19319,     0.19419,      0.1952,      0.1962,      0.1972,      0.1982,      0.1992,      0.2002,      0.2012,      0.2022,      0.2032,      0.2042,     0.20521,     0.20621,     0.20721,     0.20821,     0.20921,     0.21021,     0.21121,     0.21221,     0.21321,     0.21421,     0.21522,\n",
              "           0.21622,     0.21722,     0.21822,     0.21922,     0.22022,     0.22122,     0.22222,     0.22322,     0.22422,     0.22523,     0.22623,     0.22723,     0.22823,     0.22923,     0.23023,     0.23123,     0.23223,     0.23323,     0.23423,     0.23524,     0.23624,     0.23724,     0.23824,     0.23924,\n",
              "           0.24024,     0.24124,     0.24224,     0.24324,     0.24424,     0.24525,     0.24625,     0.24725,     0.24825,     0.24925,     0.25025,     0.25125,     0.25225,     0.25325,     0.25425,     0.25526,     0.25626,     0.25726,     0.25826,     0.25926,     0.26026,     0.26126,     0.26226,     0.26326,\n",
              "           0.26426,     0.26527,     0.26627,     0.26727,     0.26827,     0.26927,     0.27027,     0.27127,     0.27227,     0.27327,     0.27427,     0.27528,     0.27628,     0.27728,     0.27828,     0.27928,     0.28028,     0.28128,     0.28228,     0.28328,     0.28428,     0.28529,     0.28629,     0.28729,\n",
              "           0.28829,     0.28929,     0.29029,     0.29129,     0.29229,     0.29329,     0.29429,      0.2953,      0.2963,      0.2973,      0.2983,      0.2993,      0.3003,      0.3013,      0.3023,      0.3033,      0.3043,     0.30531,     0.30631,     0.30731,     0.30831,     0.30931,     0.31031,     0.31131,\n",
              "           0.31231,     0.31331,     0.31431,     0.31532,     0.31632,     0.31732,     0.31832,     0.31932,     0.32032,     0.32132,     0.32232,     0.32332,     0.32432,     0.32533,     0.32633,     0.32733,     0.32833,     0.32933,     0.33033,     0.33133,     0.33233,     0.33333,     0.33433,     0.33534,\n",
              "           0.33634,     0.33734,     0.33834,     0.33934,     0.34034,     0.34134,     0.34234,     0.34334,     0.34434,     0.34535,     0.34635,     0.34735,     0.34835,     0.34935,     0.35035,     0.35135,     0.35235,     0.35335,     0.35435,     0.35536,     0.35636,     0.35736,     0.35836,     0.35936,\n",
              "           0.36036,     0.36136,     0.36236,     0.36336,     0.36436,     0.36537,     0.36637,     0.36737,     0.36837,     0.36937,     0.37037,     0.37137,     0.37237,     0.37337,     0.37437,     0.37538,     0.37638,     0.37738,     0.37838,     0.37938,     0.38038,     0.38138,     0.38238,     0.38338,\n",
              "           0.38438,     0.38539,     0.38639,     0.38739,     0.38839,     0.38939,     0.39039,     0.39139,     0.39239,     0.39339,     0.39439,      0.3954,      0.3964,      0.3974,      0.3984,      0.3994,      0.4004,      0.4014,      0.4024,      0.4034,      0.4044,     0.40541,     0.40641,     0.40741,\n",
              "           0.40841,     0.40941,     0.41041,     0.41141,     0.41241,     0.41341,     0.41441,     0.41542,     0.41642,     0.41742,     0.41842,     0.41942,     0.42042,     0.42142,     0.42242,     0.42342,     0.42442,     0.42543,     0.42643,     0.42743,     0.42843,     0.42943,     0.43043,     0.43143,\n",
              "           0.43243,     0.43343,     0.43443,     0.43544,     0.43644,     0.43744,     0.43844,     0.43944,     0.44044,     0.44144,     0.44244,     0.44344,     0.44444,     0.44545,     0.44645,     0.44745,     0.44845,     0.44945,     0.45045,     0.45145,     0.45245,     0.45345,     0.45445,     0.45546,\n",
              "           0.45646,     0.45746,     0.45846,     0.45946,     0.46046,     0.46146,     0.46246,     0.46346,     0.46446,     0.46547,     0.46647,     0.46747,     0.46847,     0.46947,     0.47047,     0.47147,     0.47247,     0.47347,     0.47447,     0.47548,     0.47648,     0.47748,     0.47848,     0.47948,\n",
              "           0.48048,     0.48148,     0.48248,     0.48348,     0.48448,     0.48549,     0.48649,     0.48749,     0.48849,     0.48949,     0.49049,     0.49149,     0.49249,     0.49349,     0.49449,      0.4955,      0.4965,      0.4975,      0.4985,      0.4995,      0.5005,      0.5015,      0.5025,      0.5035,\n",
              "            0.5045,     0.50551,     0.50651,     0.50751,     0.50851,     0.50951,     0.51051,     0.51151,     0.51251,     0.51351,     0.51451,     0.51552,     0.51652,     0.51752,     0.51852,     0.51952,     0.52052,     0.52152,     0.52252,     0.52352,     0.52452,     0.52553,     0.52653,     0.52753,\n",
              "           0.52853,     0.52953,     0.53053,     0.53153,     0.53253,     0.53353,     0.53453,     0.53554,     0.53654,     0.53754,     0.53854,     0.53954,     0.54054,     0.54154,     0.54254,     0.54354,     0.54454,     0.54555,     0.54655,     0.54755,     0.54855,     0.54955,     0.55055,     0.55155,\n",
              "           0.55255,     0.55355,     0.55455,     0.55556,     0.55656,     0.55756,     0.55856,     0.55956,     0.56056,     0.56156,     0.56256,     0.56356,     0.56456,     0.56557,     0.56657,     0.56757,     0.56857,     0.56957,     0.57057,     0.57157,     0.57257,     0.57357,     0.57457,     0.57558,\n",
              "           0.57658,     0.57758,     0.57858,     0.57958,     0.58058,     0.58158,     0.58258,     0.58358,     0.58458,     0.58559,     0.58659,     0.58759,     0.58859,     0.58959,     0.59059,     0.59159,     0.59259,     0.59359,     0.59459,      0.5956,      0.5966,      0.5976,      0.5986,      0.5996,\n",
              "            0.6006,      0.6016,      0.6026,      0.6036,      0.6046,     0.60561,     0.60661,     0.60761,     0.60861,     0.60961,     0.61061,     0.61161,     0.61261,     0.61361,     0.61461,     0.61562,     0.61662,     0.61762,     0.61862,     0.61962,     0.62062,     0.62162,     0.62262,     0.62362,\n",
              "           0.62462,     0.62563,     0.62663,     0.62763,     0.62863,     0.62963,     0.63063,     0.63163,     0.63263,     0.63363,     0.63463,     0.63564,     0.63664,     0.63764,     0.63864,     0.63964,     0.64064,     0.64164,     0.64264,     0.64364,     0.64464,     0.64565,     0.64665,     0.64765,\n",
              "           0.64865,     0.64965,     0.65065,     0.65165,     0.65265,     0.65365,     0.65465,     0.65566,     0.65666,     0.65766,     0.65866,     0.65966,     0.66066,     0.66166,     0.66266,     0.66366,     0.66466,     0.66567,     0.66667,     0.66767,     0.66867,     0.66967,     0.67067,     0.67167,\n",
              "           0.67267,     0.67367,     0.67467,     0.67568,     0.67668,     0.67768,     0.67868,     0.67968,     0.68068,     0.68168,     0.68268,     0.68368,     0.68468,     0.68569,     0.68669,     0.68769,     0.68869,     0.68969,     0.69069,     0.69169,     0.69269,     0.69369,     0.69469,      0.6957,\n",
              "            0.6967,      0.6977,      0.6987,      0.6997,      0.7007,      0.7017,      0.7027,      0.7037,      0.7047,     0.70571,     0.70671,     0.70771,     0.70871,     0.70971,     0.71071,     0.71171,     0.71271,     0.71371,     0.71471,     0.71572,     0.71672,     0.71772,     0.71872,     0.71972,\n",
              "           0.72072,     0.72172,     0.72272,     0.72372,     0.72472,     0.72573,     0.72673,     0.72773,     0.72873,     0.72973,     0.73073,     0.73173,     0.73273,     0.73373,     0.73473,     0.73574,     0.73674,     0.73774,     0.73874,     0.73974,     0.74074,     0.74174,     0.74274,     0.74374,\n",
              "           0.74474,     0.74575,     0.74675,     0.74775,     0.74875,     0.74975,     0.75075,     0.75175,     0.75275,     0.75375,     0.75475,     0.75576,     0.75676,     0.75776,     0.75876,     0.75976,     0.76076,     0.76176,     0.76276,     0.76376,     0.76476,     0.76577,     0.76677,     0.76777,\n",
              "           0.76877,     0.76977,     0.77077,     0.77177,     0.77277,     0.77377,     0.77477,     0.77578,     0.77678,     0.77778,     0.77878,     0.77978,     0.78078,     0.78178,     0.78278,     0.78378,     0.78478,     0.78579,     0.78679,     0.78779,     0.78879,     0.78979,     0.79079,     0.79179,\n",
              "           0.79279,     0.79379,     0.79479,      0.7958,      0.7968,      0.7978,      0.7988,      0.7998,      0.8008,      0.8018,      0.8028,      0.8038,      0.8048,     0.80581,     0.80681,     0.80781,     0.80881,     0.80981,     0.81081,     0.81181,     0.81281,     0.81381,     0.81481,     0.81582,\n",
              "           0.81682,     0.81782,     0.81882,     0.81982,     0.82082,     0.82182,     0.82282,     0.82382,     0.82482,     0.82583,     0.82683,     0.82783,     0.82883,     0.82983,     0.83083,     0.83183,     0.83283,     0.83383,     0.83483,     0.83584,     0.83684,     0.83784,     0.83884,     0.83984,\n",
              "           0.84084,     0.84184,     0.84284,     0.84384,     0.84484,     0.84585,     0.84685,     0.84785,     0.84885,     0.84985,     0.85085,     0.85185,     0.85285,     0.85385,     0.85485,     0.85586,     0.85686,     0.85786,     0.85886,     0.85986,     0.86086,     0.86186,     0.86286,     0.86386,\n",
              "           0.86486,     0.86587,     0.86687,     0.86787,     0.86887,     0.86987,     0.87087,     0.87187,     0.87287,     0.87387,     0.87487,     0.87588,     0.87688,     0.87788,     0.87888,     0.87988,     0.88088,     0.88188,     0.88288,     0.88388,     0.88488,     0.88589,     0.88689,     0.88789,\n",
              "           0.88889,     0.88989,     0.89089,     0.89189,     0.89289,     0.89389,     0.89489,      0.8959,      0.8969,      0.8979,      0.8989,      0.8999,      0.9009,      0.9019,      0.9029,      0.9039,      0.9049,     0.90591,     0.90691,     0.90791,     0.90891,     0.90991,     0.91091,     0.91191,\n",
              "           0.91291,     0.91391,     0.91491,     0.91592,     0.91692,     0.91792,     0.91892,     0.91992,     0.92092,     0.92192,     0.92292,     0.92392,     0.92492,     0.92593,     0.92693,     0.92793,     0.92893,     0.92993,     0.93093,     0.93193,     0.93293,     0.93393,     0.93493,     0.93594,\n",
              "           0.93694,     0.93794,     0.93894,     0.93994,     0.94094,     0.94194,     0.94294,     0.94394,     0.94494,     0.94595,     0.94695,     0.94795,     0.94895,     0.94995,     0.95095,     0.95195,     0.95295,     0.95395,     0.95495,     0.95596,     0.95696,     0.95796,     0.95896,     0.95996,\n",
              "           0.96096,     0.96196,     0.96296,     0.96396,     0.96496,     0.96597,     0.96697,     0.96797,     0.96897,     0.96997,     0.97097,     0.97197,     0.97297,     0.97397,     0.97497,     0.97598,     0.97698,     0.97798,     0.97898,     0.97998,     0.98098,     0.98198,     0.98298,     0.98398,\n",
              "           0.98498,     0.98599,     0.98699,     0.98799,     0.98899,     0.98999,     0.99099,     0.99199,     0.99299,     0.99399,     0.99499,       0.996,       0.997,       0.998,       0.999,           1]), array([[    0.29305,     0.29305,     0.38455, ...,           0,           0,           0],\n",
              "       [    0.32769,     0.32769,     0.42063, ...,           0,           0,           0],\n",
              "       [    0.43764,     0.43764,     0.55937, ...,           0,           0,           0],\n",
              "       [    0.31971,     0.31971,     0.40021, ...,           0,           0,           0]]), 'Confidence', 'F1'], [array([          0,    0.001001,    0.002002,    0.003003,    0.004004,    0.005005,    0.006006,    0.007007,    0.008008,    0.009009,     0.01001,    0.011011,    0.012012,    0.013013,    0.014014,    0.015015,    0.016016,    0.017017,    0.018018,    0.019019,     0.02002,    0.021021,    0.022022,    0.023023,\n",
              "          0.024024,    0.025025,    0.026026,    0.027027,    0.028028,    0.029029,     0.03003,    0.031031,    0.032032,    0.033033,    0.034034,    0.035035,    0.036036,    0.037037,    0.038038,    0.039039,     0.04004,    0.041041,    0.042042,    0.043043,    0.044044,    0.045045,    0.046046,    0.047047,\n",
              "          0.048048,    0.049049,     0.05005,    0.051051,    0.052052,    0.053053,    0.054054,    0.055055,    0.056056,    0.057057,    0.058058,    0.059059,     0.06006,    0.061061,    0.062062,    0.063063,    0.064064,    0.065065,    0.066066,    0.067067,    0.068068,    0.069069,     0.07007,    0.071071,\n",
              "          0.072072,    0.073073,    0.074074,    0.075075,    0.076076,    0.077077,    0.078078,    0.079079,     0.08008,    0.081081,    0.082082,    0.083083,    0.084084,    0.085085,    0.086086,    0.087087,    0.088088,    0.089089,     0.09009,    0.091091,    0.092092,    0.093093,    0.094094,    0.095095,\n",
              "          0.096096,    0.097097,    0.098098,    0.099099,      0.1001,      0.1011,      0.1021,      0.1031,      0.1041,     0.10511,     0.10611,     0.10711,     0.10811,     0.10911,     0.11011,     0.11111,     0.11211,     0.11311,     0.11411,     0.11512,     0.11612,     0.11712,     0.11812,     0.11912,\n",
              "           0.12012,     0.12112,     0.12212,     0.12312,     0.12412,     0.12513,     0.12613,     0.12713,     0.12813,     0.12913,     0.13013,     0.13113,     0.13213,     0.13313,     0.13413,     0.13514,     0.13614,     0.13714,     0.13814,     0.13914,     0.14014,     0.14114,     0.14214,     0.14314,\n",
              "           0.14414,     0.14515,     0.14615,     0.14715,     0.14815,     0.14915,     0.15015,     0.15115,     0.15215,     0.15315,     0.15415,     0.15516,     0.15616,     0.15716,     0.15816,     0.15916,     0.16016,     0.16116,     0.16216,     0.16316,     0.16416,     0.16517,     0.16617,     0.16717,\n",
              "           0.16817,     0.16917,     0.17017,     0.17117,     0.17217,     0.17317,     0.17417,     0.17518,     0.17618,     0.17718,     0.17818,     0.17918,     0.18018,     0.18118,     0.18218,     0.18318,     0.18418,     0.18519,     0.18619,     0.18719,     0.18819,     0.18919,     0.19019,     0.19119,\n",
              "           0.19219,     0.19319,     0.19419,      0.1952,      0.1962,      0.1972,      0.1982,      0.1992,      0.2002,      0.2012,      0.2022,      0.2032,      0.2042,     0.20521,     0.20621,     0.20721,     0.20821,     0.20921,     0.21021,     0.21121,     0.21221,     0.21321,     0.21421,     0.21522,\n",
              "           0.21622,     0.21722,     0.21822,     0.21922,     0.22022,     0.22122,     0.22222,     0.22322,     0.22422,     0.22523,     0.22623,     0.22723,     0.22823,     0.22923,     0.23023,     0.23123,     0.23223,     0.23323,     0.23423,     0.23524,     0.23624,     0.23724,     0.23824,     0.23924,\n",
              "           0.24024,     0.24124,     0.24224,     0.24324,     0.24424,     0.24525,     0.24625,     0.24725,     0.24825,     0.24925,     0.25025,     0.25125,     0.25225,     0.25325,     0.25425,     0.25526,     0.25626,     0.25726,     0.25826,     0.25926,     0.26026,     0.26126,     0.26226,     0.26326,\n",
              "           0.26426,     0.26527,     0.26627,     0.26727,     0.26827,     0.26927,     0.27027,     0.27127,     0.27227,     0.27327,     0.27427,     0.27528,     0.27628,     0.27728,     0.27828,     0.27928,     0.28028,     0.28128,     0.28228,     0.28328,     0.28428,     0.28529,     0.28629,     0.28729,\n",
              "           0.28829,     0.28929,     0.29029,     0.29129,     0.29229,     0.29329,     0.29429,      0.2953,      0.2963,      0.2973,      0.2983,      0.2993,      0.3003,      0.3013,      0.3023,      0.3033,      0.3043,     0.30531,     0.30631,     0.30731,     0.30831,     0.30931,     0.31031,     0.31131,\n",
              "           0.31231,     0.31331,     0.31431,     0.31532,     0.31632,     0.31732,     0.31832,     0.31932,     0.32032,     0.32132,     0.32232,     0.32332,     0.32432,     0.32533,     0.32633,     0.32733,     0.32833,     0.32933,     0.33033,     0.33133,     0.33233,     0.33333,     0.33433,     0.33534,\n",
              "           0.33634,     0.33734,     0.33834,     0.33934,     0.34034,     0.34134,     0.34234,     0.34334,     0.34434,     0.34535,     0.34635,     0.34735,     0.34835,     0.34935,     0.35035,     0.35135,     0.35235,     0.35335,     0.35435,     0.35536,     0.35636,     0.35736,     0.35836,     0.35936,\n",
              "           0.36036,     0.36136,     0.36236,     0.36336,     0.36436,     0.36537,     0.36637,     0.36737,     0.36837,     0.36937,     0.37037,     0.37137,     0.37237,     0.37337,     0.37437,     0.37538,     0.37638,     0.37738,     0.37838,     0.37938,     0.38038,     0.38138,     0.38238,     0.38338,\n",
              "           0.38438,     0.38539,     0.38639,     0.38739,     0.38839,     0.38939,     0.39039,     0.39139,     0.39239,     0.39339,     0.39439,      0.3954,      0.3964,      0.3974,      0.3984,      0.3994,      0.4004,      0.4014,      0.4024,      0.4034,      0.4044,     0.40541,     0.40641,     0.40741,\n",
              "           0.40841,     0.40941,     0.41041,     0.41141,     0.41241,     0.41341,     0.41441,     0.41542,     0.41642,     0.41742,     0.41842,     0.41942,     0.42042,     0.42142,     0.42242,     0.42342,     0.42442,     0.42543,     0.42643,     0.42743,     0.42843,     0.42943,     0.43043,     0.43143,\n",
              "           0.43243,     0.43343,     0.43443,     0.43544,     0.43644,     0.43744,     0.43844,     0.43944,     0.44044,     0.44144,     0.44244,     0.44344,     0.44444,     0.44545,     0.44645,     0.44745,     0.44845,     0.44945,     0.45045,     0.45145,     0.45245,     0.45345,     0.45445,     0.45546,\n",
              "           0.45646,     0.45746,     0.45846,     0.45946,     0.46046,     0.46146,     0.46246,     0.46346,     0.46446,     0.46547,     0.46647,     0.46747,     0.46847,     0.46947,     0.47047,     0.47147,     0.47247,     0.47347,     0.47447,     0.47548,     0.47648,     0.47748,     0.47848,     0.47948,\n",
              "           0.48048,     0.48148,     0.48248,     0.48348,     0.48448,     0.48549,     0.48649,     0.48749,     0.48849,     0.48949,     0.49049,     0.49149,     0.49249,     0.49349,     0.49449,      0.4955,      0.4965,      0.4975,      0.4985,      0.4995,      0.5005,      0.5015,      0.5025,      0.5035,\n",
              "            0.5045,     0.50551,     0.50651,     0.50751,     0.50851,     0.50951,     0.51051,     0.51151,     0.51251,     0.51351,     0.51451,     0.51552,     0.51652,     0.51752,     0.51852,     0.51952,     0.52052,     0.52152,     0.52252,     0.52352,     0.52452,     0.52553,     0.52653,     0.52753,\n",
              "           0.52853,     0.52953,     0.53053,     0.53153,     0.53253,     0.53353,     0.53453,     0.53554,     0.53654,     0.53754,     0.53854,     0.53954,     0.54054,     0.54154,     0.54254,     0.54354,     0.54454,     0.54555,     0.54655,     0.54755,     0.54855,     0.54955,     0.55055,     0.55155,\n",
              "           0.55255,     0.55355,     0.55455,     0.55556,     0.55656,     0.55756,     0.55856,     0.55956,     0.56056,     0.56156,     0.56256,     0.56356,     0.56456,     0.56557,     0.56657,     0.56757,     0.56857,     0.56957,     0.57057,     0.57157,     0.57257,     0.57357,     0.57457,     0.57558,\n",
              "           0.57658,     0.57758,     0.57858,     0.57958,     0.58058,     0.58158,     0.58258,     0.58358,     0.58458,     0.58559,     0.58659,     0.58759,     0.58859,     0.58959,     0.59059,     0.59159,     0.59259,     0.59359,     0.59459,      0.5956,      0.5966,      0.5976,      0.5986,      0.5996,\n",
              "            0.6006,      0.6016,      0.6026,      0.6036,      0.6046,     0.60561,     0.60661,     0.60761,     0.60861,     0.60961,     0.61061,     0.61161,     0.61261,     0.61361,     0.61461,     0.61562,     0.61662,     0.61762,     0.61862,     0.61962,     0.62062,     0.62162,     0.62262,     0.62362,\n",
              "           0.62462,     0.62563,     0.62663,     0.62763,     0.62863,     0.62963,     0.63063,     0.63163,     0.63263,     0.63363,     0.63463,     0.63564,     0.63664,     0.63764,     0.63864,     0.63964,     0.64064,     0.64164,     0.64264,     0.64364,     0.64464,     0.64565,     0.64665,     0.64765,\n",
              "           0.64865,     0.64965,     0.65065,     0.65165,     0.65265,     0.65365,     0.65465,     0.65566,     0.65666,     0.65766,     0.65866,     0.65966,     0.66066,     0.66166,     0.66266,     0.66366,     0.66466,     0.66567,     0.66667,     0.66767,     0.66867,     0.66967,     0.67067,     0.67167,\n",
              "           0.67267,     0.67367,     0.67467,     0.67568,     0.67668,     0.67768,     0.67868,     0.67968,     0.68068,     0.68168,     0.68268,     0.68368,     0.68468,     0.68569,     0.68669,     0.68769,     0.68869,     0.68969,     0.69069,     0.69169,     0.69269,     0.69369,     0.69469,      0.6957,\n",
              "            0.6967,      0.6977,      0.6987,      0.6997,      0.7007,      0.7017,      0.7027,      0.7037,      0.7047,     0.70571,     0.70671,     0.70771,     0.70871,     0.70971,     0.71071,     0.71171,     0.71271,     0.71371,     0.71471,     0.71572,     0.71672,     0.71772,     0.71872,     0.71972,\n",
              "           0.72072,     0.72172,     0.72272,     0.72372,     0.72472,     0.72573,     0.72673,     0.72773,     0.72873,     0.72973,     0.73073,     0.73173,     0.73273,     0.73373,     0.73473,     0.73574,     0.73674,     0.73774,     0.73874,     0.73974,     0.74074,     0.74174,     0.74274,     0.74374,\n",
              "           0.74474,     0.74575,     0.74675,     0.74775,     0.74875,     0.74975,     0.75075,     0.75175,     0.75275,     0.75375,     0.75475,     0.75576,     0.75676,     0.75776,     0.75876,     0.75976,     0.76076,     0.76176,     0.76276,     0.76376,     0.76476,     0.76577,     0.76677,     0.76777,\n",
              "           0.76877,     0.76977,     0.77077,     0.77177,     0.77277,     0.77377,     0.77477,     0.77578,     0.77678,     0.77778,     0.77878,     0.77978,     0.78078,     0.78178,     0.78278,     0.78378,     0.78478,     0.78579,     0.78679,     0.78779,     0.78879,     0.78979,     0.79079,     0.79179,\n",
              "           0.79279,     0.79379,     0.79479,      0.7958,      0.7968,      0.7978,      0.7988,      0.7998,      0.8008,      0.8018,      0.8028,      0.8038,      0.8048,     0.80581,     0.80681,     0.80781,     0.80881,     0.80981,     0.81081,     0.81181,     0.81281,     0.81381,     0.81481,     0.81582,\n",
              "           0.81682,     0.81782,     0.81882,     0.81982,     0.82082,     0.82182,     0.82282,     0.82382,     0.82482,     0.82583,     0.82683,     0.82783,     0.82883,     0.82983,     0.83083,     0.83183,     0.83283,     0.83383,     0.83483,     0.83584,     0.83684,     0.83784,     0.83884,     0.83984,\n",
              "           0.84084,     0.84184,     0.84284,     0.84384,     0.84484,     0.84585,     0.84685,     0.84785,     0.84885,     0.84985,     0.85085,     0.85185,     0.85285,     0.85385,     0.85485,     0.85586,     0.85686,     0.85786,     0.85886,     0.85986,     0.86086,     0.86186,     0.86286,     0.86386,\n",
              "           0.86486,     0.86587,     0.86687,     0.86787,     0.86887,     0.86987,     0.87087,     0.87187,     0.87287,     0.87387,     0.87487,     0.87588,     0.87688,     0.87788,     0.87888,     0.87988,     0.88088,     0.88188,     0.88288,     0.88388,     0.88488,     0.88589,     0.88689,     0.88789,\n",
              "           0.88889,     0.88989,     0.89089,     0.89189,     0.89289,     0.89389,     0.89489,      0.8959,      0.8969,      0.8979,      0.8989,      0.8999,      0.9009,      0.9019,      0.9029,      0.9039,      0.9049,     0.90591,     0.90691,     0.90791,     0.90891,     0.90991,     0.91091,     0.91191,\n",
              "           0.91291,     0.91391,     0.91491,     0.91592,     0.91692,     0.91792,     0.91892,     0.91992,     0.92092,     0.92192,     0.92292,     0.92392,     0.92492,     0.92593,     0.92693,     0.92793,     0.92893,     0.92993,     0.93093,     0.93193,     0.93293,     0.93393,     0.93493,     0.93594,\n",
              "           0.93694,     0.93794,     0.93894,     0.93994,     0.94094,     0.94194,     0.94294,     0.94394,     0.94494,     0.94595,     0.94695,     0.94795,     0.94895,     0.94995,     0.95095,     0.95195,     0.95295,     0.95395,     0.95495,     0.95596,     0.95696,     0.95796,     0.95896,     0.95996,\n",
              "           0.96096,     0.96196,     0.96296,     0.96396,     0.96496,     0.96597,     0.96697,     0.96797,     0.96897,     0.96997,     0.97097,     0.97197,     0.97297,     0.97397,     0.97497,     0.97598,     0.97698,     0.97798,     0.97898,     0.97998,     0.98098,     0.98198,     0.98298,     0.98398,\n",
              "           0.98498,     0.98599,     0.98699,     0.98799,     0.98899,     0.98999,     0.99099,     0.99199,     0.99299,     0.99399,     0.99499,       0.996,       0.997,       0.998,       0.999,           1]), array([[    0.17201,     0.17201,     0.23869, ...,           1,           1,           1],\n",
              "       [    0.19625,     0.19625,     0.26688, ...,           1,           1,           1],\n",
              "       [    0.28092,     0.28092,     0.39016, ...,           1,           1,           1],\n",
              "       [    0.19037,     0.19037,     0.25034, ...,           1,           1,           1]]), 'Confidence', 'Precision'], [array([          0,    0.001001,    0.002002,    0.003003,    0.004004,    0.005005,    0.006006,    0.007007,    0.008008,    0.009009,     0.01001,    0.011011,    0.012012,    0.013013,    0.014014,    0.015015,    0.016016,    0.017017,    0.018018,    0.019019,     0.02002,    0.021021,    0.022022,    0.023023,\n",
              "          0.024024,    0.025025,    0.026026,    0.027027,    0.028028,    0.029029,     0.03003,    0.031031,    0.032032,    0.033033,    0.034034,    0.035035,    0.036036,    0.037037,    0.038038,    0.039039,     0.04004,    0.041041,    0.042042,    0.043043,    0.044044,    0.045045,    0.046046,    0.047047,\n",
              "          0.048048,    0.049049,     0.05005,    0.051051,    0.052052,    0.053053,    0.054054,    0.055055,    0.056056,    0.057057,    0.058058,    0.059059,     0.06006,    0.061061,    0.062062,    0.063063,    0.064064,    0.065065,    0.066066,    0.067067,    0.068068,    0.069069,     0.07007,    0.071071,\n",
              "          0.072072,    0.073073,    0.074074,    0.075075,    0.076076,    0.077077,    0.078078,    0.079079,     0.08008,    0.081081,    0.082082,    0.083083,    0.084084,    0.085085,    0.086086,    0.087087,    0.088088,    0.089089,     0.09009,    0.091091,    0.092092,    0.093093,    0.094094,    0.095095,\n",
              "          0.096096,    0.097097,    0.098098,    0.099099,      0.1001,      0.1011,      0.1021,      0.1031,      0.1041,     0.10511,     0.10611,     0.10711,     0.10811,     0.10911,     0.11011,     0.11111,     0.11211,     0.11311,     0.11411,     0.11512,     0.11612,     0.11712,     0.11812,     0.11912,\n",
              "           0.12012,     0.12112,     0.12212,     0.12312,     0.12412,     0.12513,     0.12613,     0.12713,     0.12813,     0.12913,     0.13013,     0.13113,     0.13213,     0.13313,     0.13413,     0.13514,     0.13614,     0.13714,     0.13814,     0.13914,     0.14014,     0.14114,     0.14214,     0.14314,\n",
              "           0.14414,     0.14515,     0.14615,     0.14715,     0.14815,     0.14915,     0.15015,     0.15115,     0.15215,     0.15315,     0.15415,     0.15516,     0.15616,     0.15716,     0.15816,     0.15916,     0.16016,     0.16116,     0.16216,     0.16316,     0.16416,     0.16517,     0.16617,     0.16717,\n",
              "           0.16817,     0.16917,     0.17017,     0.17117,     0.17217,     0.17317,     0.17417,     0.17518,     0.17618,     0.17718,     0.17818,     0.17918,     0.18018,     0.18118,     0.18218,     0.18318,     0.18418,     0.18519,     0.18619,     0.18719,     0.18819,     0.18919,     0.19019,     0.19119,\n",
              "           0.19219,     0.19319,     0.19419,      0.1952,      0.1962,      0.1972,      0.1982,      0.1992,      0.2002,      0.2012,      0.2022,      0.2032,      0.2042,     0.20521,     0.20621,     0.20721,     0.20821,     0.20921,     0.21021,     0.21121,     0.21221,     0.21321,     0.21421,     0.21522,\n",
              "           0.21622,     0.21722,     0.21822,     0.21922,     0.22022,     0.22122,     0.22222,     0.22322,     0.22422,     0.22523,     0.22623,     0.22723,     0.22823,     0.22923,     0.23023,     0.23123,     0.23223,     0.23323,     0.23423,     0.23524,     0.23624,     0.23724,     0.23824,     0.23924,\n",
              "           0.24024,     0.24124,     0.24224,     0.24324,     0.24424,     0.24525,     0.24625,     0.24725,     0.24825,     0.24925,     0.25025,     0.25125,     0.25225,     0.25325,     0.25425,     0.25526,     0.25626,     0.25726,     0.25826,     0.25926,     0.26026,     0.26126,     0.26226,     0.26326,\n",
              "           0.26426,     0.26527,     0.26627,     0.26727,     0.26827,     0.26927,     0.27027,     0.27127,     0.27227,     0.27327,     0.27427,     0.27528,     0.27628,     0.27728,     0.27828,     0.27928,     0.28028,     0.28128,     0.28228,     0.28328,     0.28428,     0.28529,     0.28629,     0.28729,\n",
              "           0.28829,     0.28929,     0.29029,     0.29129,     0.29229,     0.29329,     0.29429,      0.2953,      0.2963,      0.2973,      0.2983,      0.2993,      0.3003,      0.3013,      0.3023,      0.3033,      0.3043,     0.30531,     0.30631,     0.30731,     0.30831,     0.30931,     0.31031,     0.31131,\n",
              "           0.31231,     0.31331,     0.31431,     0.31532,     0.31632,     0.31732,     0.31832,     0.31932,     0.32032,     0.32132,     0.32232,     0.32332,     0.32432,     0.32533,     0.32633,     0.32733,     0.32833,     0.32933,     0.33033,     0.33133,     0.33233,     0.33333,     0.33433,     0.33534,\n",
              "           0.33634,     0.33734,     0.33834,     0.33934,     0.34034,     0.34134,     0.34234,     0.34334,     0.34434,     0.34535,     0.34635,     0.34735,     0.34835,     0.34935,     0.35035,     0.35135,     0.35235,     0.35335,     0.35435,     0.35536,     0.35636,     0.35736,     0.35836,     0.35936,\n",
              "           0.36036,     0.36136,     0.36236,     0.36336,     0.36436,     0.36537,     0.36637,     0.36737,     0.36837,     0.36937,     0.37037,     0.37137,     0.37237,     0.37337,     0.37437,     0.37538,     0.37638,     0.37738,     0.37838,     0.37938,     0.38038,     0.38138,     0.38238,     0.38338,\n",
              "           0.38438,     0.38539,     0.38639,     0.38739,     0.38839,     0.38939,     0.39039,     0.39139,     0.39239,     0.39339,     0.39439,      0.3954,      0.3964,      0.3974,      0.3984,      0.3994,      0.4004,      0.4014,      0.4024,      0.4034,      0.4044,     0.40541,     0.40641,     0.40741,\n",
              "           0.40841,     0.40941,     0.41041,     0.41141,     0.41241,     0.41341,     0.41441,     0.41542,     0.41642,     0.41742,     0.41842,     0.41942,     0.42042,     0.42142,     0.42242,     0.42342,     0.42442,     0.42543,     0.42643,     0.42743,     0.42843,     0.42943,     0.43043,     0.43143,\n",
              "           0.43243,     0.43343,     0.43443,     0.43544,     0.43644,     0.43744,     0.43844,     0.43944,     0.44044,     0.44144,     0.44244,     0.44344,     0.44444,     0.44545,     0.44645,     0.44745,     0.44845,     0.44945,     0.45045,     0.45145,     0.45245,     0.45345,     0.45445,     0.45546,\n",
              "           0.45646,     0.45746,     0.45846,     0.45946,     0.46046,     0.46146,     0.46246,     0.46346,     0.46446,     0.46547,     0.46647,     0.46747,     0.46847,     0.46947,     0.47047,     0.47147,     0.47247,     0.47347,     0.47447,     0.47548,     0.47648,     0.47748,     0.47848,     0.47948,\n",
              "           0.48048,     0.48148,     0.48248,     0.48348,     0.48448,     0.48549,     0.48649,     0.48749,     0.48849,     0.48949,     0.49049,     0.49149,     0.49249,     0.49349,     0.49449,      0.4955,      0.4965,      0.4975,      0.4985,      0.4995,      0.5005,      0.5015,      0.5025,      0.5035,\n",
              "            0.5045,     0.50551,     0.50651,     0.50751,     0.50851,     0.50951,     0.51051,     0.51151,     0.51251,     0.51351,     0.51451,     0.51552,     0.51652,     0.51752,     0.51852,     0.51952,     0.52052,     0.52152,     0.52252,     0.52352,     0.52452,     0.52553,     0.52653,     0.52753,\n",
              "           0.52853,     0.52953,     0.53053,     0.53153,     0.53253,     0.53353,     0.53453,     0.53554,     0.53654,     0.53754,     0.53854,     0.53954,     0.54054,     0.54154,     0.54254,     0.54354,     0.54454,     0.54555,     0.54655,     0.54755,     0.54855,     0.54955,     0.55055,     0.55155,\n",
              "           0.55255,     0.55355,     0.55455,     0.55556,     0.55656,     0.55756,     0.55856,     0.55956,     0.56056,     0.56156,     0.56256,     0.56356,     0.56456,     0.56557,     0.56657,     0.56757,     0.56857,     0.56957,     0.57057,     0.57157,     0.57257,     0.57357,     0.57457,     0.57558,\n",
              "           0.57658,     0.57758,     0.57858,     0.57958,     0.58058,     0.58158,     0.58258,     0.58358,     0.58458,     0.58559,     0.58659,     0.58759,     0.58859,     0.58959,     0.59059,     0.59159,     0.59259,     0.59359,     0.59459,      0.5956,      0.5966,      0.5976,      0.5986,      0.5996,\n",
              "            0.6006,      0.6016,      0.6026,      0.6036,      0.6046,     0.60561,     0.60661,     0.60761,     0.60861,     0.60961,     0.61061,     0.61161,     0.61261,     0.61361,     0.61461,     0.61562,     0.61662,     0.61762,     0.61862,     0.61962,     0.62062,     0.62162,     0.62262,     0.62362,\n",
              "           0.62462,     0.62563,     0.62663,     0.62763,     0.62863,     0.62963,     0.63063,     0.63163,     0.63263,     0.63363,     0.63463,     0.63564,     0.63664,     0.63764,     0.63864,     0.63964,     0.64064,     0.64164,     0.64264,     0.64364,     0.64464,     0.64565,     0.64665,     0.64765,\n",
              "           0.64865,     0.64965,     0.65065,     0.65165,     0.65265,     0.65365,     0.65465,     0.65566,     0.65666,     0.65766,     0.65866,     0.65966,     0.66066,     0.66166,     0.66266,     0.66366,     0.66466,     0.66567,     0.66667,     0.66767,     0.66867,     0.66967,     0.67067,     0.67167,\n",
              "           0.67267,     0.67367,     0.67467,     0.67568,     0.67668,     0.67768,     0.67868,     0.67968,     0.68068,     0.68168,     0.68268,     0.68368,     0.68468,     0.68569,     0.68669,     0.68769,     0.68869,     0.68969,     0.69069,     0.69169,     0.69269,     0.69369,     0.69469,      0.6957,\n",
              "            0.6967,      0.6977,      0.6987,      0.6997,      0.7007,      0.7017,      0.7027,      0.7037,      0.7047,     0.70571,     0.70671,     0.70771,     0.70871,     0.70971,     0.71071,     0.71171,     0.71271,     0.71371,     0.71471,     0.71572,     0.71672,     0.71772,     0.71872,     0.71972,\n",
              "           0.72072,     0.72172,     0.72272,     0.72372,     0.72472,     0.72573,     0.72673,     0.72773,     0.72873,     0.72973,     0.73073,     0.73173,     0.73273,     0.73373,     0.73473,     0.73574,     0.73674,     0.73774,     0.73874,     0.73974,     0.74074,     0.74174,     0.74274,     0.74374,\n",
              "           0.74474,     0.74575,     0.74675,     0.74775,     0.74875,     0.74975,     0.75075,     0.75175,     0.75275,     0.75375,     0.75475,     0.75576,     0.75676,     0.75776,     0.75876,     0.75976,     0.76076,     0.76176,     0.76276,     0.76376,     0.76476,     0.76577,     0.76677,     0.76777,\n",
              "           0.76877,     0.76977,     0.77077,     0.77177,     0.77277,     0.77377,     0.77477,     0.77578,     0.77678,     0.77778,     0.77878,     0.77978,     0.78078,     0.78178,     0.78278,     0.78378,     0.78478,     0.78579,     0.78679,     0.78779,     0.78879,     0.78979,     0.79079,     0.79179,\n",
              "           0.79279,     0.79379,     0.79479,      0.7958,      0.7968,      0.7978,      0.7988,      0.7998,      0.8008,      0.8018,      0.8028,      0.8038,      0.8048,     0.80581,     0.80681,     0.80781,     0.80881,     0.80981,     0.81081,     0.81181,     0.81281,     0.81381,     0.81481,     0.81582,\n",
              "           0.81682,     0.81782,     0.81882,     0.81982,     0.82082,     0.82182,     0.82282,     0.82382,     0.82482,     0.82583,     0.82683,     0.82783,     0.82883,     0.82983,     0.83083,     0.83183,     0.83283,     0.83383,     0.83483,     0.83584,     0.83684,     0.83784,     0.83884,     0.83984,\n",
              "           0.84084,     0.84184,     0.84284,     0.84384,     0.84484,     0.84585,     0.84685,     0.84785,     0.84885,     0.84985,     0.85085,     0.85185,     0.85285,     0.85385,     0.85485,     0.85586,     0.85686,     0.85786,     0.85886,     0.85986,     0.86086,     0.86186,     0.86286,     0.86386,\n",
              "           0.86486,     0.86587,     0.86687,     0.86787,     0.86887,     0.86987,     0.87087,     0.87187,     0.87287,     0.87387,     0.87487,     0.87588,     0.87688,     0.87788,     0.87888,     0.87988,     0.88088,     0.88188,     0.88288,     0.88388,     0.88488,     0.88589,     0.88689,     0.88789,\n",
              "           0.88889,     0.88989,     0.89089,     0.89189,     0.89289,     0.89389,     0.89489,      0.8959,      0.8969,      0.8979,      0.8989,      0.8999,      0.9009,      0.9019,      0.9029,      0.9039,      0.9049,     0.90591,     0.90691,     0.90791,     0.90891,     0.90991,     0.91091,     0.91191,\n",
              "           0.91291,     0.91391,     0.91491,     0.91592,     0.91692,     0.91792,     0.91892,     0.91992,     0.92092,     0.92192,     0.92292,     0.92392,     0.92492,     0.92593,     0.92693,     0.92793,     0.92893,     0.92993,     0.93093,     0.93193,     0.93293,     0.93393,     0.93493,     0.93594,\n",
              "           0.93694,     0.93794,     0.93894,     0.93994,     0.94094,     0.94194,     0.94294,     0.94394,     0.94494,     0.94595,     0.94695,     0.94795,     0.94895,     0.94995,     0.95095,     0.95195,     0.95295,     0.95395,     0.95495,     0.95596,     0.95696,     0.95796,     0.95896,     0.95996,\n",
              "           0.96096,     0.96196,     0.96296,     0.96396,     0.96496,     0.96597,     0.96697,     0.96797,     0.96897,     0.96997,     0.97097,     0.97197,     0.97297,     0.97397,     0.97497,     0.97598,     0.97698,     0.97798,     0.97898,     0.97998,     0.98098,     0.98198,     0.98298,     0.98398,\n",
              "           0.98498,     0.98599,     0.98699,     0.98799,     0.98899,     0.98999,     0.99099,     0.99199,     0.99299,     0.99399,     0.99499,       0.996,       0.997,       0.998,       0.999,           1]), array([[    0.98883,     0.98883,     0.98883, ...,           0,           0,           0],\n",
              "       [    0.99231,     0.99231,     0.99231, ...,           0,           0,           0],\n",
              "       [    0.98982,     0.98982,     0.98778, ...,           0,           0,           0],\n",
              "       [    0.99713,     0.99713,     0.99713, ...,           0,           0,           0]]), 'Confidence', 'Recall']]\n",
              "fitness: 0.8033577223001772\n",
              "keys: ['metrics/precision(B)', 'metrics/recall(B)', 'metrics/mAP50(B)', 'metrics/mAP50-95(B)']\n",
              "maps: array([    0.79771,     0.77733,     0.78176,     0.77961])\n",
              "names: {0: 'Ferrari', 1: 'Mclaren', 2: 'Mercedes', 3: 'Redbull'}\n",
              "plot: True\n",
              "results_dict: {'metrics/precision(B)': 0.9590738308333628, 'metrics/recall(B)': 0.9618287911440823, 'metrics/mAP50(B)': 0.976668335607906, 'metrics/mAP50-95(B)': 0.7841009874882072, 'fitness': 0.8033577223001772}\n",
              "save_dir: PosixPath('/content/drive/MyDrive/FormulaOneCarDetection/Results/vehiclesDetection3')\n",
              "speed: {'preprocess': 0.09426323804108533, 'inference': 1.1354069369415898, 'loss': 0.0011504563868913235, 'postprocess': 0.8938869336208203}\n",
              "task: 'detect'"
            ]
          },
          "metadata": {},
          "execution_count": 11
        }
      ],
      "source": [
        "from ultralytics import YOLO\n",
        "\n",
        "# Load a YOLOv8 model\n",
        "model = YOLO('yolov8s.pt')\n",
        "\n",
        "# Train the model\n",
        "model.train(data='/content/drive/MyDrive/FormulaOneCarDetection/data.yaml',\n",
        "            epochs=30,\n",
        "            imgsz=416,\n",
        "            batch=5,\n",
        "            project='/content/drive/MyDrive/FormulaOneCarDetection/Results',\n",
        "            name='vehiclesDetection')\n"
      ]
    },
    {
      "cell_type": "markdown",
      "source": [
        "#Evaluation"
      ],
      "metadata": {
        "id": "tM8lXWR4dXmd"
      }
    },
    {
      "cell_type": "code",
      "source": [
        "# Load a pretrained YOLOv8s model\n",
        "model = YOLO('/content/drive/MyDrive/FormulaOneCarDetection/Results/vehiclesDetection3/weights/best.pt')\n",
        "\n",
        "# Validate the model\n",
        "metrics = model.val()  # no arguments needed, dataset and settings remembered\n"
      ],
      "metadata": {
        "colab": {
          "base_uri": "https://localhost:8080/"
        },
        "id": "VIjeAKjo3Ywq",
        "outputId": "1fcf2fbf-557b-46d8-99b7-e3a9ab526758"
      },
      "execution_count": null,
      "outputs": [
        {
          "output_type": "stream",
          "name": "stdout",
          "text": [
            "Ultralytics YOLOv8.2.63 🚀 Python-3.10.12 torch-2.3.1+cu121 CUDA:0 (NVIDIA A100-SXM4-40GB, 40514MiB)\n",
            "Model summary (fused): 168 layers, 11,127,132 parameters, 0 gradients, 28.4 GFLOPs\n"
          ]
        },
        {
          "output_type": "stream",
          "name": "stderr",
          "text": [
            "\u001b[34m\u001b[1mval: \u001b[0mScanning /content/drive/MyDrive/FormulaOneCarDetection/valid/labels.cache... 1443 images, 0 backgrounds, 0 corrupt: 100%|██████████| 1443/1443 [00:00<?, ?it/s]\n",
            "                 Class     Images  Instances      Box(P          R      mAP50  mAP50-95): 100%|██████████| 91/91 [00:09<00:00,  9.29it/s]\n"
          ]
        },
        {
          "output_type": "stream",
          "name": "stdout",
          "text": [
            "                   all       1443       1588      0.959      0.962      0.977      0.784\n",
            "               Ferrari        342        358      0.959      0.961       0.98      0.797\n",
            "               Mclaren        378        390      0.952      0.962      0.974      0.778\n",
            "              Mercedes        469        491      0.943      0.959      0.969      0.781\n",
            "               Redbull        344        349      0.981      0.966      0.983      0.781\n",
            "Speed: 0.1ms preprocess, 1.1ms inference, 0.0ms loss, 0.9ms postprocess per image\n",
            "Results saved to \u001b[1mruns/detect/val3\u001b[0m\n"
          ]
        }
      ]
    },
    {
      "cell_type": "markdown",
      "metadata": {
        "id": "0bNKzKVGxhzk"
      },
      "source": [
        "#Predict"
      ]
    },
    {
      "cell_type": "code",
      "execution_count": null,
      "metadata": {
        "id": "BGlMZ5QZxlXc",
        "colab": {
          "base_uri": "https://localhost:8080/"
        },
        "outputId": "50188ae5-eec5-4d09-dd5d-8a8696dee1bb"
      },
      "outputs": [
        {
          "output_type": "stream",
          "name": "stdout",
          "text": [
            "\n",
            "\n",
            "WARNING ⚠️ inference results will accumulate in RAM unless `stream=True` is passed, causing potential out-of-memory\n",
            "errors for large sources or long-running streams and videos. See https://docs.ultralytics.com/modes/predict/ for help.\n",
            "\n",
            "Example:\n",
            "    results = model(source=..., stream=True)  # generator of Results objects\n",
            "    for r in results:\n",
            "        boxes = r.boxes  # Boxes object for bbox outputs\n",
            "        masks = r.masks  # Masks object for segment masks outputs\n",
            "        probs = r.probs  # Class probabilities for classification outputs\n",
            "\n",
            "video 1/1 (frame 1/6094) /content/drive/MyDrive/FormulaOneCarDetection/2021_Final.mp4: 256x416 1 Redbull, 9.7ms\n",
            "video 1/1 (frame 2/6094) /content/drive/MyDrive/FormulaOneCarDetection/2021_Final.mp4: 256x416 1 Redbull, 9.2ms\n",
            "video 1/1 (frame 3/6094) /content/drive/MyDrive/FormulaOneCarDetection/2021_Final.mp4: 256x416 1 Redbull, 8.6ms\n",
            "video 1/1 (frame 4/6094) /content/drive/MyDrive/FormulaOneCarDetection/2021_Final.mp4: 256x416 (no detections), 8.3ms\n",
            "video 1/1 (frame 5/6094) /content/drive/MyDrive/FormulaOneCarDetection/2021_Final.mp4: 256x416 (no detections), 11.6ms\n",
            "video 1/1 (frame 6/6094) /content/drive/MyDrive/FormulaOneCarDetection/2021_Final.mp4: 256x416 1 Redbull, 12.7ms\n",
            "video 1/1 (frame 7/6094) /content/drive/MyDrive/FormulaOneCarDetection/2021_Final.mp4: 256x416 1 Redbull, 10.5ms\n",
            "video 1/1 (frame 8/6094) /content/drive/MyDrive/FormulaOneCarDetection/2021_Final.mp4: 256x416 1 Redbull, 8.2ms\n",
            "video 1/1 (frame 9/6094) /content/drive/MyDrive/FormulaOneCarDetection/2021_Final.mp4: 256x416 1 Redbull, 8.2ms\n",
            "video 1/1 (frame 10/6094) /content/drive/MyDrive/FormulaOneCarDetection/2021_Final.mp4: 256x416 1 Redbull, 8.1ms\n",
            "video 1/1 (frame 11/6094) /content/drive/MyDrive/FormulaOneCarDetection/2021_Final.mp4: 256x416 1 Redbull, 8.1ms\n",
            "video 1/1 (frame 12/6094) /content/drive/MyDrive/FormulaOneCarDetection/2021_Final.mp4: 256x416 (no detections), 8.3ms\n",
            "video 1/1 (frame 13/6094) /content/drive/MyDrive/FormulaOneCarDetection/2021_Final.mp4: 256x416 (no detections), 8.4ms\n",
            "video 1/1 (frame 14/6094) /content/drive/MyDrive/FormulaOneCarDetection/2021_Final.mp4: 256x416 (no detections), 8.1ms\n",
            "video 1/1 (frame 15/6094) /content/drive/MyDrive/FormulaOneCarDetection/2021_Final.mp4: 256x416 (no detections), 8.3ms\n",
            "video 1/1 (frame 16/6094) /content/drive/MyDrive/FormulaOneCarDetection/2021_Final.mp4: 256x416 (no detections), 8.0ms\n",
            "video 1/1 (frame 17/6094) /content/drive/MyDrive/FormulaOneCarDetection/2021_Final.mp4: 256x416 1 Redbull, 8.1ms\n",
            "video 1/1 (frame 18/6094) /content/drive/MyDrive/FormulaOneCarDetection/2021_Final.mp4: 256x416 (no detections), 8.3ms\n",
            "video 1/1 (frame 19/6094) /content/drive/MyDrive/FormulaOneCarDetection/2021_Final.mp4: 256x416 (no detections), 10.9ms\n",
            "video 1/1 (frame 20/6094) /content/drive/MyDrive/FormulaOneCarDetection/2021_Final.mp4: 256x416 1 Redbull, 8.3ms\n",
            "video 1/1 (frame 21/6094) /content/drive/MyDrive/FormulaOneCarDetection/2021_Final.mp4: 256x416 1 Redbull, 8.3ms\n",
            "video 1/1 (frame 22/6094) /content/drive/MyDrive/FormulaOneCarDetection/2021_Final.mp4: 256x416 1 Redbull, 9.1ms\n",
            "video 1/1 (frame 23/6094) /content/drive/MyDrive/FormulaOneCarDetection/2021_Final.mp4: 256x416 1 Redbull, 8.4ms\n",
            "video 1/1 (frame 24/6094) /content/drive/MyDrive/FormulaOneCarDetection/2021_Final.mp4: 256x416 1 Redbull, 8.2ms\n",
            "video 1/1 (frame 25/6094) /content/drive/MyDrive/FormulaOneCarDetection/2021_Final.mp4: 256x416 1 Redbull, 8.2ms\n",
            "video 1/1 (frame 26/6094) /content/drive/MyDrive/FormulaOneCarDetection/2021_Final.mp4: 256x416 1 Redbull, 8.4ms\n",
            "video 1/1 (frame 27/6094) /content/drive/MyDrive/FormulaOneCarDetection/2021_Final.mp4: 256x416 1 Redbull, 8.3ms\n",
            "video 1/1 (frame 28/6094) /content/drive/MyDrive/FormulaOneCarDetection/2021_Final.mp4: 256x416 1 Redbull, 7.9ms\n",
            "video 1/1 (frame 29/6094) /content/drive/MyDrive/FormulaOneCarDetection/2021_Final.mp4: 256x416 1 Redbull, 7.9ms\n",
            "video 1/1 (frame 30/6094) /content/drive/MyDrive/FormulaOneCarDetection/2021_Final.mp4: 256x416 1 Redbull, 8.0ms\n",
            "video 1/1 (frame 31/6094) /content/drive/MyDrive/FormulaOneCarDetection/2021_Final.mp4: 256x416 1 Redbull, 10.2ms\n",
            "video 1/1 (frame 32/6094) /content/drive/MyDrive/FormulaOneCarDetection/2021_Final.mp4: 256x416 1 Redbull, 8.1ms\n",
            "video 1/1 (frame 33/6094) /content/drive/MyDrive/FormulaOneCarDetection/2021_Final.mp4: 256x416 1 Redbull, 7.9ms\n",
            "video 1/1 (frame 34/6094) /content/drive/MyDrive/FormulaOneCarDetection/2021_Final.mp4: 256x416 1 Redbull, 8.1ms\n",
            "video 1/1 (frame 35/6094) /content/drive/MyDrive/FormulaOneCarDetection/2021_Final.mp4: 256x416 1 Redbull, 8.3ms\n",
            "video 1/1 (frame 36/6094) /content/drive/MyDrive/FormulaOneCarDetection/2021_Final.mp4: 256x416 1 Redbull, 8.1ms\n",
            "video 1/1 (frame 37/6094) /content/drive/MyDrive/FormulaOneCarDetection/2021_Final.mp4: 256x416 1 Mercedes, 1 Redbull, 8.0ms\n",
            "video 1/1 (frame 38/6094) /content/drive/MyDrive/FormulaOneCarDetection/2021_Final.mp4: 256x416 1 Mercedes, 1 Redbull, 8.2ms\n",
            "video 1/1 (frame 39/6094) /content/drive/MyDrive/FormulaOneCarDetection/2021_Final.mp4: 256x416 1 Mercedes, 1 Redbull, 8.3ms\n",
            "video 1/1 (frame 40/6094) /content/drive/MyDrive/FormulaOneCarDetection/2021_Final.mp4: 256x416 1 Mercedes, 1 Redbull, 8.1ms\n",
            "video 1/1 (frame 41/6094) /content/drive/MyDrive/FormulaOneCarDetection/2021_Final.mp4: 256x416 1 Mercedes, 1 Redbull, 8.2ms\n",
            "video 1/1 (frame 42/6094) /content/drive/MyDrive/FormulaOneCarDetection/2021_Final.mp4: 256x416 1 Mercedes, 1 Redbull, 8.6ms\n",
            "video 1/1 (frame 43/6094) /content/drive/MyDrive/FormulaOneCarDetection/2021_Final.mp4: 256x416 1 Mercedes, 1 Redbull, 11.8ms\n",
            "video 1/1 (frame 44/6094) /content/drive/MyDrive/FormulaOneCarDetection/2021_Final.mp4: 256x416 1 Mercedes, 1 Redbull, 9.1ms\n",
            "video 1/1 (frame 45/6094) /content/drive/MyDrive/FormulaOneCarDetection/2021_Final.mp4: 256x416 1 Mercedes, 1 Redbull, 8.3ms\n",
            "video 1/1 (frame 46/6094) /content/drive/MyDrive/FormulaOneCarDetection/2021_Final.mp4: 256x416 1 Mercedes, 1 Redbull, 8.5ms\n",
            "video 1/1 (frame 47/6094) /content/drive/MyDrive/FormulaOneCarDetection/2021_Final.mp4: 256x416 1 Mercedes, 1 Redbull, 8.1ms\n",
            "video 1/1 (frame 48/6094) /content/drive/MyDrive/FormulaOneCarDetection/2021_Final.mp4: 256x416 1 Mercedes, 1 Redbull, 9.5ms\n",
            "video 1/1 (frame 49/6094) /content/drive/MyDrive/FormulaOneCarDetection/2021_Final.mp4: 256x416 1 Mercedes, 1 Redbull, 8.3ms\n",
            "video 1/1 (frame 50/6094) /content/drive/MyDrive/FormulaOneCarDetection/2021_Final.mp4: 256x416 1 Mercedes, 1 Redbull, 14.1ms\n",
            "video 1/1 (frame 51/6094) /content/drive/MyDrive/FormulaOneCarDetection/2021_Final.mp4: 256x416 1 Mercedes, 1 Redbull, 8.2ms\n",
            "video 1/1 (frame 52/6094) /content/drive/MyDrive/FormulaOneCarDetection/2021_Final.mp4: 256x416 1 Mercedes, 1 Redbull, 8.3ms\n",
            "video 1/1 (frame 53/6094) /content/drive/MyDrive/FormulaOneCarDetection/2021_Final.mp4: 256x416 1 Mercedes, 1 Redbull, 8.1ms\n",
            "video 1/1 (frame 54/6094) /content/drive/MyDrive/FormulaOneCarDetection/2021_Final.mp4: 256x416 1 Mercedes, 1 Redbull, 8.1ms\n",
            "video 1/1 (frame 55/6094) /content/drive/MyDrive/FormulaOneCarDetection/2021_Final.mp4: 256x416 1 Mercedes, 1 Redbull, 10.8ms\n",
            "video 1/1 (frame 56/6094) /content/drive/MyDrive/FormulaOneCarDetection/2021_Final.mp4: 256x416 1 Mercedes, 1 Redbull, 8.2ms\n",
            "video 1/1 (frame 57/6094) /content/drive/MyDrive/FormulaOneCarDetection/2021_Final.mp4: 256x416 1 Mercedes, 1 Redbull, 8.2ms\n",
            "video 1/1 (frame 58/6094) /content/drive/MyDrive/FormulaOneCarDetection/2021_Final.mp4: 256x416 1 Mercedes, 1 Redbull, 8.1ms\n",
            "video 1/1 (frame 59/6094) /content/drive/MyDrive/FormulaOneCarDetection/2021_Final.mp4: 256x416 1 Mercedes, 1 Redbull, 8.0ms\n",
            "video 1/1 (frame 60/6094) /content/drive/MyDrive/FormulaOneCarDetection/2021_Final.mp4: 256x416 1 Mercedes, 1 Redbull, 8.1ms\n",
            "video 1/1 (frame 61/6094) /content/drive/MyDrive/FormulaOneCarDetection/2021_Final.mp4: 256x416 1 Mercedes, 1 Redbull, 8.8ms\n",
            "video 1/1 (frame 62/6094) /content/drive/MyDrive/FormulaOneCarDetection/2021_Final.mp4: 256x416 1 Mercedes, 1 Redbull, 8.2ms\n",
            "video 1/1 (frame 63/6094) /content/drive/MyDrive/FormulaOneCarDetection/2021_Final.mp4: 256x416 1 Mercedes, 1 Redbull, 8.1ms\n",
            "video 1/1 (frame 64/6094) /content/drive/MyDrive/FormulaOneCarDetection/2021_Final.mp4: 256x416 1 Mercedes, 1 Redbull, 9.2ms\n",
            "video 1/1 (frame 65/6094) /content/drive/MyDrive/FormulaOneCarDetection/2021_Final.mp4: 256x416 1 Mercedes, 1 Redbull, 9.4ms\n",
            "video 1/1 (frame 66/6094) /content/drive/MyDrive/FormulaOneCarDetection/2021_Final.mp4: 256x416 1 Mercedes, 1 Redbull, 8.6ms\n",
            "video 1/1 (frame 67/6094) /content/drive/MyDrive/FormulaOneCarDetection/2021_Final.mp4: 256x416 1 Mercedes, 1 Redbull, 8.1ms\n",
            "video 1/1 (frame 68/6094) /content/drive/MyDrive/FormulaOneCarDetection/2021_Final.mp4: 256x416 1 Mercedes, 1 Redbull, 8.4ms\n",
            "video 1/1 (frame 69/6094) /content/drive/MyDrive/FormulaOneCarDetection/2021_Final.mp4: 256x416 1 Mercedes, 1 Redbull, 8.6ms\n",
            "video 1/1 (frame 70/6094) /content/drive/MyDrive/FormulaOneCarDetection/2021_Final.mp4: 256x416 1 Mercedes, 1 Redbull, 8.1ms\n",
            "video 1/1 (frame 71/6094) /content/drive/MyDrive/FormulaOneCarDetection/2021_Final.mp4: 256x416 1 Mercedes, 1 Redbull, 8.0ms\n",
            "video 1/1 (frame 72/6094) /content/drive/MyDrive/FormulaOneCarDetection/2021_Final.mp4: 256x416 1 Mercedes, 1 Redbull, 8.0ms\n",
            "video 1/1 (frame 73/6094) /content/drive/MyDrive/FormulaOneCarDetection/2021_Final.mp4: 256x416 1 Mercedes, 1 Redbull, 8.0ms\n",
            "video 1/1 (frame 74/6094) /content/drive/MyDrive/FormulaOneCarDetection/2021_Final.mp4: 256x416 1 Mercedes, 1 Redbull, 8.0ms\n",
            "video 1/1 (frame 75/6094) /content/drive/MyDrive/FormulaOneCarDetection/2021_Final.mp4: 256x416 1 Mercedes, 1 Redbull, 8.1ms\n",
            "video 1/1 (frame 76/6094) /content/drive/MyDrive/FormulaOneCarDetection/2021_Final.mp4: 256x416 1 Mercedes, 1 Redbull, 8.0ms\n",
            "video 1/1 (frame 77/6094) /content/drive/MyDrive/FormulaOneCarDetection/2021_Final.mp4: 256x416 1 Mercedes, 1 Redbull, 8.0ms\n",
            "video 1/1 (frame 78/6094) /content/drive/MyDrive/FormulaOneCarDetection/2021_Final.mp4: 256x416 1 Mercedes, 1 Redbull, 8.3ms\n",
            "video 1/1 (frame 79/6094) /content/drive/MyDrive/FormulaOneCarDetection/2021_Final.mp4: 256x416 1 Mercedes, 1 Redbull, 8.2ms\n",
            "video 1/1 (frame 80/6094) /content/drive/MyDrive/FormulaOneCarDetection/2021_Final.mp4: 256x416 1 Mercedes, 1 Redbull, 8.1ms\n",
            "video 1/1 (frame 81/6094) /content/drive/MyDrive/FormulaOneCarDetection/2021_Final.mp4: 256x416 2 Mercedess, 1 Redbull, 8.2ms\n",
            "video 1/1 (frame 82/6094) /content/drive/MyDrive/FormulaOneCarDetection/2021_Final.mp4: 256x416 1 Mercedes, 1 Redbull, 8.9ms\n",
            "video 1/1 (frame 83/6094) /content/drive/MyDrive/FormulaOneCarDetection/2021_Final.mp4: 256x416 1 Mercedes, 1 Redbull, 8.8ms\n",
            "video 1/1 (frame 84/6094) /content/drive/MyDrive/FormulaOneCarDetection/2021_Final.mp4: 256x416 1 Mercedes, 1 Redbull, 8.6ms\n",
            "video 1/1 (frame 85/6094) /content/drive/MyDrive/FormulaOneCarDetection/2021_Final.mp4: 256x416 1 Mercedes, 1 Redbull, 8.5ms\n",
            "video 1/1 (frame 86/6094) /content/drive/MyDrive/FormulaOneCarDetection/2021_Final.mp4: 256x416 1 Mercedes, 1 Redbull, 9.2ms\n",
            "video 1/1 (frame 87/6094) /content/drive/MyDrive/FormulaOneCarDetection/2021_Final.mp4: 256x416 1 Mercedes, 1 Redbull, 9.2ms\n",
            "video 1/1 (frame 88/6094) /content/drive/MyDrive/FormulaOneCarDetection/2021_Final.mp4: 256x416 1 Mercedes, 1 Redbull, 9.6ms\n",
            "video 1/1 (frame 89/6094) /content/drive/MyDrive/FormulaOneCarDetection/2021_Final.mp4: 256x416 1 Mercedes, 1 Redbull, 10.8ms\n",
            "video 1/1 (frame 90/6094) /content/drive/MyDrive/FormulaOneCarDetection/2021_Final.mp4: 256x416 1 Mercedes, 1 Redbull, 8.9ms\n",
            "video 1/1 (frame 91/6094) /content/drive/MyDrive/FormulaOneCarDetection/2021_Final.mp4: 256x416 2 Mercedess, 1 Redbull, 8.1ms\n",
            "video 1/1 (frame 92/6094) /content/drive/MyDrive/FormulaOneCarDetection/2021_Final.mp4: 256x416 2 Mercedess, 1 Redbull, 8.1ms\n",
            "video 1/1 (frame 93/6094) /content/drive/MyDrive/FormulaOneCarDetection/2021_Final.mp4: 256x416 2 Mercedess, 1 Redbull, 8.1ms\n",
            "video 1/1 (frame 94/6094) /content/drive/MyDrive/FormulaOneCarDetection/2021_Final.mp4: 256x416 2 Mercedess, 1 Redbull, 8.2ms\n",
            "video 1/1 (frame 95/6094) /content/drive/MyDrive/FormulaOneCarDetection/2021_Final.mp4: 256x416 1 Mercedes, 1 Redbull, 8.4ms\n",
            "video 1/1 (frame 96/6094) /content/drive/MyDrive/FormulaOneCarDetection/2021_Final.mp4: 256x416 1 Mercedes, 9.0ms\n",
            "video 1/1 (frame 97/6094) /content/drive/MyDrive/FormulaOneCarDetection/2021_Final.mp4: 256x416 1 Mercedes, 1 Redbull, 8.1ms\n",
            "video 1/1 (frame 98/6094) /content/drive/MyDrive/FormulaOneCarDetection/2021_Final.mp4: 256x416 1 Mercedes, 8.1ms\n",
            "video 1/1 (frame 99/6094) /content/drive/MyDrive/FormulaOneCarDetection/2021_Final.mp4: 256x416 1 Mercedes, 8.6ms\n",
            "video 1/1 (frame 100/6094) /content/drive/MyDrive/FormulaOneCarDetection/2021_Final.mp4: 256x416 1 Mercedes, 1 Redbull, 8.2ms\n",
            "video 1/1 (frame 101/6094) /content/drive/MyDrive/FormulaOneCarDetection/2021_Final.mp4: 256x416 1 Mercedes, 8.2ms\n",
            "video 1/1 (frame 102/6094) /content/drive/MyDrive/FormulaOneCarDetection/2021_Final.mp4: 256x416 1 Mercedes, 1 Redbull, 8.3ms\n",
            "video 1/1 (frame 103/6094) /content/drive/MyDrive/FormulaOneCarDetection/2021_Final.mp4: 256x416 1 Mercedes, 8.2ms\n",
            "video 1/1 (frame 104/6094) /content/drive/MyDrive/FormulaOneCarDetection/2021_Final.mp4: 256x416 1 Mercedes, 1 Redbull, 8.2ms\n",
            "video 1/1 (frame 105/6094) /content/drive/MyDrive/FormulaOneCarDetection/2021_Final.mp4: 256x416 1 Mercedes, 1 Redbull, 8.2ms\n",
            "video 1/1 (frame 106/6094) /content/drive/MyDrive/FormulaOneCarDetection/2021_Final.mp4: 256x416 1 Mercedes, 1 Redbull, 8.5ms\n",
            "video 1/1 (frame 107/6094) /content/drive/MyDrive/FormulaOneCarDetection/2021_Final.mp4: 256x416 1 Mercedes, 1 Redbull, 8.2ms\n",
            "video 1/1 (frame 108/6094) /content/drive/MyDrive/FormulaOneCarDetection/2021_Final.mp4: 256x416 1 Mercedes, 1 Redbull, 8.3ms\n",
            "video 1/1 (frame 109/6094) /content/drive/MyDrive/FormulaOneCarDetection/2021_Final.mp4: 256x416 1 Mercedes, 1 Redbull, 9.3ms\n",
            "video 1/1 (frame 110/6094) /content/drive/MyDrive/FormulaOneCarDetection/2021_Final.mp4: 256x416 1 Mercedes, 9.8ms\n",
            "video 1/1 (frame 111/6094) /content/drive/MyDrive/FormulaOneCarDetection/2021_Final.mp4: 256x416 1 Mercedes, 8.3ms\n",
            "video 1/1 (frame 112/6094) /content/drive/MyDrive/FormulaOneCarDetection/2021_Final.mp4: 256x416 1 Mercedes, 8.4ms\n",
            "video 1/1 (frame 113/6094) /content/drive/MyDrive/FormulaOneCarDetection/2021_Final.mp4: 256x416 1 Mercedes, 7.9ms\n",
            "video 1/1 (frame 114/6094) /content/drive/MyDrive/FormulaOneCarDetection/2021_Final.mp4: 256x416 1 Mercedes, 8.0ms\n",
            "video 1/1 (frame 115/6094) /content/drive/MyDrive/FormulaOneCarDetection/2021_Final.mp4: 256x416 1 Mercedes, 8.1ms\n",
            "video 1/1 (frame 116/6094) /content/drive/MyDrive/FormulaOneCarDetection/2021_Final.mp4: 256x416 1 Mercedes, 8.0ms\n",
            "video 1/1 (frame 117/6094) /content/drive/MyDrive/FormulaOneCarDetection/2021_Final.mp4: 256x416 1 Mercedes, 8.5ms\n",
            "video 1/1 (frame 118/6094) /content/drive/MyDrive/FormulaOneCarDetection/2021_Final.mp4: 256x416 1 Mercedes, 8.3ms\n",
            "video 1/1 (frame 119/6094) /content/drive/MyDrive/FormulaOneCarDetection/2021_Final.mp4: 256x416 1 Mercedes, 8.2ms\n",
            "video 1/1 (frame 120/6094) /content/drive/MyDrive/FormulaOneCarDetection/2021_Final.mp4: 256x416 1 Mercedes, 8.1ms\n",
            "video 1/1 (frame 121/6094) /content/drive/MyDrive/FormulaOneCarDetection/2021_Final.mp4: 256x416 1 Mercedes, 8.0ms\n",
            "video 1/1 (frame 122/6094) /content/drive/MyDrive/FormulaOneCarDetection/2021_Final.mp4: 256x416 1 Mercedes, 8.1ms\n",
            "video 1/1 (frame 123/6094) /content/drive/MyDrive/FormulaOneCarDetection/2021_Final.mp4: 256x416 1 Mercedes, 8.1ms\n",
            "video 1/1 (frame 124/6094) /content/drive/MyDrive/FormulaOneCarDetection/2021_Final.mp4: 256x416 1 Mercedes, 8.2ms\n",
            "video 1/1 (frame 125/6094) /content/drive/MyDrive/FormulaOneCarDetection/2021_Final.mp4: 256x416 1 Mercedes, 8.1ms\n",
            "video 1/1 (frame 126/6094) /content/drive/MyDrive/FormulaOneCarDetection/2021_Final.mp4: 256x416 1 Mercedes, 8.0ms\n",
            "video 1/1 (frame 127/6094) /content/drive/MyDrive/FormulaOneCarDetection/2021_Final.mp4: 256x416 1 Mercedes, 8.2ms\n",
            "video 1/1 (frame 128/6094) /content/drive/MyDrive/FormulaOneCarDetection/2021_Final.mp4: 256x416 1 Mercedes, 8.3ms\n",
            "video 1/1 (frame 129/6094) /content/drive/MyDrive/FormulaOneCarDetection/2021_Final.mp4: 256x416 1 Mercedes, 10.0ms\n",
            "video 1/1 (frame 130/6094) /content/drive/MyDrive/FormulaOneCarDetection/2021_Final.mp4: 256x416 1 Mercedes, 10.7ms\n",
            "video 1/1 (frame 131/6094) /content/drive/MyDrive/FormulaOneCarDetection/2021_Final.mp4: 256x416 1 Mercedes, 9.7ms\n",
            "video 1/1 (frame 132/6094) /content/drive/MyDrive/FormulaOneCarDetection/2021_Final.mp4: 256x416 1 Mercedes, 8.3ms\n",
            "video 1/1 (frame 133/6094) /content/drive/MyDrive/FormulaOneCarDetection/2021_Final.mp4: 256x416 1 Mercedes, 8.2ms\n",
            "video 1/1 (frame 134/6094) /content/drive/MyDrive/FormulaOneCarDetection/2021_Final.mp4: 256x416 1 Mercedes, 8.1ms\n",
            "video 1/1 (frame 135/6094) /content/drive/MyDrive/FormulaOneCarDetection/2021_Final.mp4: 256x416 1 Mercedes, 8.4ms\n",
            "video 1/1 (frame 136/6094) /content/drive/MyDrive/FormulaOneCarDetection/2021_Final.mp4: 256x416 1 Mercedes, 8.1ms\n",
            "video 1/1 (frame 137/6094) /content/drive/MyDrive/FormulaOneCarDetection/2021_Final.mp4: 256x416 1 Mercedes, 9.2ms\n",
            "video 1/1 (frame 138/6094) /content/drive/MyDrive/FormulaOneCarDetection/2021_Final.mp4: 256x416 (no detections), 8.3ms\n",
            "video 1/1 (frame 139/6094) /content/drive/MyDrive/FormulaOneCarDetection/2021_Final.mp4: 256x416 (no detections), 8.1ms\n",
            "video 1/1 (frame 140/6094) /content/drive/MyDrive/FormulaOneCarDetection/2021_Final.mp4: 256x416 (no detections), 8.1ms\n",
            "video 1/1 (frame 141/6094) /content/drive/MyDrive/FormulaOneCarDetection/2021_Final.mp4: 256x416 (no detections), 8.1ms\n",
            "video 1/1 (frame 142/6094) /content/drive/MyDrive/FormulaOneCarDetection/2021_Final.mp4: 256x416 (no detections), 8.1ms\n",
            "video 1/1 (frame 143/6094) /content/drive/MyDrive/FormulaOneCarDetection/2021_Final.mp4: 256x416 (no detections), 8.1ms\n",
            "video 1/1 (frame 144/6094) /content/drive/MyDrive/FormulaOneCarDetection/2021_Final.mp4: 256x416 (no detections), 8.2ms\n",
            "video 1/1 (frame 145/6094) /content/drive/MyDrive/FormulaOneCarDetection/2021_Final.mp4: 256x416 (no detections), 8.1ms\n",
            "video 1/1 (frame 146/6094) /content/drive/MyDrive/FormulaOneCarDetection/2021_Final.mp4: 256x416 1 Mercedes, 8.1ms\n",
            "video 1/1 (frame 147/6094) /content/drive/MyDrive/FormulaOneCarDetection/2021_Final.mp4: 256x416 (no detections), 8.1ms\n",
            "video 1/1 (frame 148/6094) /content/drive/MyDrive/FormulaOneCarDetection/2021_Final.mp4: 256x416 (no detections), 8.2ms\n",
            "video 1/1 (frame 149/6094) /content/drive/MyDrive/FormulaOneCarDetection/2021_Final.mp4: 256x416 (no detections), 8.1ms\n",
            "video 1/1 (frame 150/6094) /content/drive/MyDrive/FormulaOneCarDetection/2021_Final.mp4: 256x416 (no detections), 8.1ms\n",
            "video 1/1 (frame 151/6094) /content/drive/MyDrive/FormulaOneCarDetection/2021_Final.mp4: 256x416 (no detections), 8.1ms\n",
            "video 1/1 (frame 152/6094) /content/drive/MyDrive/FormulaOneCarDetection/2021_Final.mp4: 256x416 (no detections), 10.2ms\n",
            "video 1/1 (frame 153/6094) /content/drive/MyDrive/FormulaOneCarDetection/2021_Final.mp4: 256x416 (no detections), 9.5ms\n",
            "video 1/1 (frame 154/6094) /content/drive/MyDrive/FormulaOneCarDetection/2021_Final.mp4: 256x416 1 Redbull, 9.6ms\n",
            "video 1/1 (frame 155/6094) /content/drive/MyDrive/FormulaOneCarDetection/2021_Final.mp4: 256x416 1 Redbull, 9.5ms\n",
            "video 1/1 (frame 156/6094) /content/drive/MyDrive/FormulaOneCarDetection/2021_Final.mp4: 256x416 1 Redbull, 8.1ms\n",
            "video 1/1 (frame 157/6094) /content/drive/MyDrive/FormulaOneCarDetection/2021_Final.mp4: 256x416 1 Redbull, 8.0ms\n",
            "video 1/1 (frame 158/6094) /content/drive/MyDrive/FormulaOneCarDetection/2021_Final.mp4: 256x416 1 Redbull, 8.1ms\n",
            "video 1/1 (frame 159/6094) /content/drive/MyDrive/FormulaOneCarDetection/2021_Final.mp4: 256x416 1 Redbull, 8.0ms\n",
            "video 1/1 (frame 160/6094) /content/drive/MyDrive/FormulaOneCarDetection/2021_Final.mp4: 256x416 1 Redbull, 10.5ms\n",
            "video 1/1 (frame 161/6094) /content/drive/MyDrive/FormulaOneCarDetection/2021_Final.mp4: 256x416 1 Redbull, 8.5ms\n",
            "video 1/1 (frame 162/6094) /content/drive/MyDrive/FormulaOneCarDetection/2021_Final.mp4: 256x416 1 Redbull, 8.3ms\n",
            "video 1/1 (frame 163/6094) /content/drive/MyDrive/FormulaOneCarDetection/2021_Final.mp4: 256x416 1 Redbull, 8.1ms\n",
            "video 1/1 (frame 164/6094) /content/drive/MyDrive/FormulaOneCarDetection/2021_Final.mp4: 256x416 1 Redbull, 8.2ms\n",
            "video 1/1 (frame 165/6094) /content/drive/MyDrive/FormulaOneCarDetection/2021_Final.mp4: 256x416 1 Redbull, 8.0ms\n",
            "video 1/1 (frame 166/6094) /content/drive/MyDrive/FormulaOneCarDetection/2021_Final.mp4: 256x416 1 Redbull, 8.5ms\n",
            "video 1/1 (frame 167/6094) /content/drive/MyDrive/FormulaOneCarDetection/2021_Final.mp4: 256x416 1 Redbull, 10.7ms\n",
            "video 1/1 (frame 168/6094) /content/drive/MyDrive/FormulaOneCarDetection/2021_Final.mp4: 256x416 1 Redbull, 8.2ms\n",
            "video 1/1 (frame 169/6094) /content/drive/MyDrive/FormulaOneCarDetection/2021_Final.mp4: 256x416 1 Redbull, 12.0ms\n",
            "video 1/1 (frame 170/6094) /content/drive/MyDrive/FormulaOneCarDetection/2021_Final.mp4: 256x416 1 Redbull, 8.2ms\n",
            "video 1/1 (frame 171/6094) /content/drive/MyDrive/FormulaOneCarDetection/2021_Final.mp4: 256x416 1 Redbull, 8.2ms\n",
            "video 1/1 (frame 172/6094) /content/drive/MyDrive/FormulaOneCarDetection/2021_Final.mp4: 256x416 1 Redbull, 8.5ms\n",
            "video 1/1 (frame 173/6094) /content/drive/MyDrive/FormulaOneCarDetection/2021_Final.mp4: 256x416 1 Redbull, 8.1ms\n",
            "video 1/1 (frame 174/6094) /content/drive/MyDrive/FormulaOneCarDetection/2021_Final.mp4: 256x416 1 Redbull, 8.5ms\n",
            "video 1/1 (frame 175/6094) /content/drive/MyDrive/FormulaOneCarDetection/2021_Final.mp4: 256x416 1 Redbull, 8.2ms\n",
            "video 1/1 (frame 176/6094) /content/drive/MyDrive/FormulaOneCarDetection/2021_Final.mp4: 256x416 1 Redbull, 8.2ms\n",
            "video 1/1 (frame 177/6094) /content/drive/MyDrive/FormulaOneCarDetection/2021_Final.mp4: 256x416 1 Redbull, 8.2ms\n",
            "video 1/1 (frame 178/6094) /content/drive/MyDrive/FormulaOneCarDetection/2021_Final.mp4: 256x416 1 Redbull, 8.6ms\n",
            "video 1/1 (frame 179/6094) /content/drive/MyDrive/FormulaOneCarDetection/2021_Final.mp4: 256x416 1 Redbull, 9.8ms\n",
            "video 1/1 (frame 180/6094) /content/drive/MyDrive/FormulaOneCarDetection/2021_Final.mp4: 256x416 1 Redbull, 8.5ms\n",
            "video 1/1 (frame 181/6094) /content/drive/MyDrive/FormulaOneCarDetection/2021_Final.mp4: 256x416 1 Redbull, 10.9ms\n",
            "video 1/1 (frame 182/6094) /content/drive/MyDrive/FormulaOneCarDetection/2021_Final.mp4: 256x416 1 Redbull, 8.6ms\n",
            "video 1/1 (frame 183/6094) /content/drive/MyDrive/FormulaOneCarDetection/2021_Final.mp4: 256x416 1 Redbull, 8.4ms\n",
            "video 1/1 (frame 184/6094) /content/drive/MyDrive/FormulaOneCarDetection/2021_Final.mp4: 256x416 1 Redbull, 8.5ms\n",
            "video 1/1 (frame 185/6094) /content/drive/MyDrive/FormulaOneCarDetection/2021_Final.mp4: 256x416 1 Redbull, 8.4ms\n",
            "video 1/1 (frame 186/6094) /content/drive/MyDrive/FormulaOneCarDetection/2021_Final.mp4: 256x416 1 Redbull, 8.6ms\n",
            "video 1/1 (frame 187/6094) /content/drive/MyDrive/FormulaOneCarDetection/2021_Final.mp4: 256x416 1 Redbull, 8.5ms\n",
            "video 1/1 (frame 188/6094) /content/drive/MyDrive/FormulaOneCarDetection/2021_Final.mp4: 256x416 1 Redbull, 8.1ms\n",
            "video 1/1 (frame 189/6094) /content/drive/MyDrive/FormulaOneCarDetection/2021_Final.mp4: 256x416 1 Redbull, 8.2ms\n",
            "video 1/1 (frame 190/6094) /content/drive/MyDrive/FormulaOneCarDetection/2021_Final.mp4: 256x416 2 Redbulls, 8.1ms\n",
            "video 1/1 (frame 191/6094) /content/drive/MyDrive/FormulaOneCarDetection/2021_Final.mp4: 256x416 2 Redbulls, 8.2ms\n",
            "video 1/1 (frame 192/6094) /content/drive/MyDrive/FormulaOneCarDetection/2021_Final.mp4: 256x416 2 Redbulls, 8.0ms\n",
            "video 1/1 (frame 193/6094) /content/drive/MyDrive/FormulaOneCarDetection/2021_Final.mp4: 256x416 1 Redbull, 8.5ms\n",
            "video 1/1 (frame 194/6094) /content/drive/MyDrive/FormulaOneCarDetection/2021_Final.mp4: 256x416 1 Redbull, 8.1ms\n",
            "video 1/1 (frame 195/6094) /content/drive/MyDrive/FormulaOneCarDetection/2021_Final.mp4: 256x416 2 Redbulls, 8.1ms\n",
            "video 1/1 (frame 196/6094) /content/drive/MyDrive/FormulaOneCarDetection/2021_Final.mp4: 256x416 2 Redbulls, 9.1ms\n",
            "video 1/1 (frame 197/6094) /content/drive/MyDrive/FormulaOneCarDetection/2021_Final.mp4: 256x416 1 Redbull, 8.5ms\n",
            "video 1/1 (frame 198/6094) /content/drive/MyDrive/FormulaOneCarDetection/2021_Final.mp4: 256x416 2 Redbulls, 10.6ms\n",
            "video 1/1 (frame 199/6094) /content/drive/MyDrive/FormulaOneCarDetection/2021_Final.mp4: 256x416 1 Redbull, 8.0ms\n",
            "video 1/1 (frame 200/6094) /content/drive/MyDrive/FormulaOneCarDetection/2021_Final.mp4: 256x416 1 Redbull, 8.1ms\n",
            "video 1/1 (frame 201/6094) /content/drive/MyDrive/FormulaOneCarDetection/2021_Final.mp4: 256x416 2 Redbulls, 8.9ms\n",
            "video 1/1 (frame 202/6094) /content/drive/MyDrive/FormulaOneCarDetection/2021_Final.mp4: 256x416 2 Redbulls, 7.9ms\n",
            "video 1/1 (frame 203/6094) /content/drive/MyDrive/FormulaOneCarDetection/2021_Final.mp4: 256x416 2 Redbulls, 8.3ms\n",
            "video 1/1 (frame 204/6094) /content/drive/MyDrive/FormulaOneCarDetection/2021_Final.mp4: 256x416 2 Redbulls, 8.1ms\n",
            "video 1/1 (frame 205/6094) /content/drive/MyDrive/FormulaOneCarDetection/2021_Final.mp4: 256x416 2 Redbulls, 8.2ms\n",
            "video 1/1 (frame 206/6094) /content/drive/MyDrive/FormulaOneCarDetection/2021_Final.mp4: 256x416 1 Redbull, 8.2ms\n",
            "video 1/1 (frame 207/6094) /content/drive/MyDrive/FormulaOneCarDetection/2021_Final.mp4: 256x416 1 Redbull, 8.2ms\n",
            "video 1/1 (frame 208/6094) /content/drive/MyDrive/FormulaOneCarDetection/2021_Final.mp4: 256x416 1 Redbull, 9.6ms\n",
            "video 1/1 (frame 209/6094) /content/drive/MyDrive/FormulaOneCarDetection/2021_Final.mp4: 256x416 1 Redbull, 8.3ms\n",
            "video 1/1 (frame 210/6094) /content/drive/MyDrive/FormulaOneCarDetection/2021_Final.mp4: 256x416 (no detections), 8.0ms\n",
            "video 1/1 (frame 211/6094) /content/drive/MyDrive/FormulaOneCarDetection/2021_Final.mp4: 256x416 1 Redbull, 7.8ms\n",
            "video 1/1 (frame 212/6094) /content/drive/MyDrive/FormulaOneCarDetection/2021_Final.mp4: 256x416 1 Mercedes, 1 Redbull, 7.9ms\n",
            "video 1/1 (frame 213/6094) /content/drive/MyDrive/FormulaOneCarDetection/2021_Final.mp4: 256x416 1 Mercedes, 1 Redbull, 8.2ms\n",
            "video 1/1 (frame 214/6094) /content/drive/MyDrive/FormulaOneCarDetection/2021_Final.mp4: 256x416 1 Mercedes, 1 Redbull, 8.2ms\n",
            "video 1/1 (frame 215/6094) /content/drive/MyDrive/FormulaOneCarDetection/2021_Final.mp4: 256x416 1 Mercedes, 1 Redbull, 10.0ms\n",
            "video 1/1 (frame 216/6094) /content/drive/MyDrive/FormulaOneCarDetection/2021_Final.mp4: 256x416 1 Mercedes, 1 Redbull, 9.5ms\n",
            "video 1/1 (frame 217/6094) /content/drive/MyDrive/FormulaOneCarDetection/2021_Final.mp4: 256x416 1 Mercedes, 1 Redbull, 10.8ms\n",
            "video 1/1 (frame 218/6094) /content/drive/MyDrive/FormulaOneCarDetection/2021_Final.mp4: 256x416 1 Mercedes, 1 Redbull, 8.2ms\n",
            "video 1/1 (frame 219/6094) /content/drive/MyDrive/FormulaOneCarDetection/2021_Final.mp4: 256x416 1 Mercedes, 1 Redbull, 8.2ms\n",
            "video 1/1 (frame 220/6094) /content/drive/MyDrive/FormulaOneCarDetection/2021_Final.mp4: 256x416 1 Mercedes, 1 Redbull, 8.5ms\n",
            "video 1/1 (frame 221/6094) /content/drive/MyDrive/FormulaOneCarDetection/2021_Final.mp4: 256x416 1 Mercedes, 1 Redbull, 8.2ms\n",
            "video 1/1 (frame 222/6094) /content/drive/MyDrive/FormulaOneCarDetection/2021_Final.mp4: 256x416 1 Mercedes, 9.3ms\n",
            "video 1/1 (frame 223/6094) /content/drive/MyDrive/FormulaOneCarDetection/2021_Final.mp4: 256x416 1 Mercedes, 1 Redbull, 8.3ms\n",
            "video 1/1 (frame 224/6094) /content/drive/MyDrive/FormulaOneCarDetection/2021_Final.mp4: 256x416 1 Mercedes, 1 Redbull, 10.0ms\n",
            "video 1/1 (frame 225/6094) /content/drive/MyDrive/FormulaOneCarDetection/2021_Final.mp4: 256x416 1 Mercedes, 1 Redbull, 8.1ms\n",
            "video 1/1 (frame 226/6094) /content/drive/MyDrive/FormulaOneCarDetection/2021_Final.mp4: 256x416 1 Mercedes, 8.6ms\n",
            "video 1/1 (frame 227/6094) /content/drive/MyDrive/FormulaOneCarDetection/2021_Final.mp4: 256x416 1 Mercedes, 1 Redbull, 8.0ms\n",
            "video 1/1 (frame 228/6094) /content/drive/MyDrive/FormulaOneCarDetection/2021_Final.mp4: 256x416 1 Mercedes, 1 Redbull, 7.9ms\n",
            "video 1/1 (frame 229/6094) /content/drive/MyDrive/FormulaOneCarDetection/2021_Final.mp4: 256x416 1 Mercedes, 1 Redbull, 8.5ms\n",
            "video 1/1 (frame 230/6094) /content/drive/MyDrive/FormulaOneCarDetection/2021_Final.mp4: 256x416 1 Mercedes, 1 Redbull, 8.0ms\n",
            "video 1/1 (frame 231/6094) /content/drive/MyDrive/FormulaOneCarDetection/2021_Final.mp4: 256x416 1 Mercedes, 1 Redbull, 8.0ms\n",
            "video 1/1 (frame 232/6094) /content/drive/MyDrive/FormulaOneCarDetection/2021_Final.mp4: 256x416 1 Mercedes, 1 Redbull, 8.1ms\n",
            "video 1/1 (frame 233/6094) /content/drive/MyDrive/FormulaOneCarDetection/2021_Final.mp4: 256x416 1 Mercedes, 1 Redbull, 8.1ms\n",
            "video 1/1 (frame 234/6094) /content/drive/MyDrive/FormulaOneCarDetection/2021_Final.mp4: 256x416 1 Mercedes, 1 Redbull, 8.1ms\n",
            "video 1/1 (frame 235/6094) /content/drive/MyDrive/FormulaOneCarDetection/2021_Final.mp4: 256x416 1 Mercedes, 1 Redbull, 8.3ms\n",
            "video 1/1 (frame 236/6094) /content/drive/MyDrive/FormulaOneCarDetection/2021_Final.mp4: 256x416 1 Mercedes, 1 Redbull, 8.2ms\n",
            "video 1/1 (frame 237/6094) /content/drive/MyDrive/FormulaOneCarDetection/2021_Final.mp4: 256x416 1 Mercedes, 1 Redbull, 8.1ms\n",
            "video 1/1 (frame 238/6094) /content/drive/MyDrive/FormulaOneCarDetection/2021_Final.mp4: 256x416 1 Mercedes, 1 Redbull, 9.2ms\n",
            "video 1/1 (frame 239/6094) /content/drive/MyDrive/FormulaOneCarDetection/2021_Final.mp4: 256x416 1 Mercedes, 1 Redbull, 8.9ms\n",
            "video 1/1 (frame 240/6094) /content/drive/MyDrive/FormulaOneCarDetection/2021_Final.mp4: 256x416 1 Mercedes, 1 Redbull, 10.5ms\n",
            "video 1/1 (frame 241/6094) /content/drive/MyDrive/FormulaOneCarDetection/2021_Final.mp4: 256x416 1 Mercedes, 1 Redbull, 8.3ms\n",
            "video 1/1 (frame 242/6094) /content/drive/MyDrive/FormulaOneCarDetection/2021_Final.mp4: 256x416 1 Mercedes, 1 Redbull, 8.5ms\n",
            "video 1/1 (frame 243/6094) /content/drive/MyDrive/FormulaOneCarDetection/2021_Final.mp4: 256x416 1 Mercedes, 1 Redbull, 8.1ms\n",
            "video 1/1 (frame 244/6094) /content/drive/MyDrive/FormulaOneCarDetection/2021_Final.mp4: 256x416 1 Mercedes, 1 Redbull, 8.2ms\n",
            "video 1/1 (frame 245/6094) /content/drive/MyDrive/FormulaOneCarDetection/2021_Final.mp4: 256x416 1 Mercedes, 1 Redbull, 10.9ms\n",
            "video 1/1 (frame 246/6094) /content/drive/MyDrive/FormulaOneCarDetection/2021_Final.mp4: 256x416 1 Mercedes, 1 Redbull, 8.6ms\n",
            "video 1/1 (frame 247/6094) /content/drive/MyDrive/FormulaOneCarDetection/2021_Final.mp4: 256x416 1 Mercedes, 1 Redbull, 8.6ms\n",
            "video 1/1 (frame 248/6094) /content/drive/MyDrive/FormulaOneCarDetection/2021_Final.mp4: 256x416 1 Mercedes, 1 Redbull, 8.1ms\n",
            "video 1/1 (frame 249/6094) /content/drive/MyDrive/FormulaOneCarDetection/2021_Final.mp4: 256x416 1 Mercedes, 1 Redbull, 8.1ms\n",
            "video 1/1 (frame 250/6094) /content/drive/MyDrive/FormulaOneCarDetection/2021_Final.mp4: 256x416 1 Mercedes, 1 Redbull, 10.1ms\n",
            "video 1/1 (frame 251/6094) /content/drive/MyDrive/FormulaOneCarDetection/2021_Final.mp4: 256x416 1 Mercedes, 8.0ms\n",
            "video 1/1 (frame 252/6094) /content/drive/MyDrive/FormulaOneCarDetection/2021_Final.mp4: 256x416 1 Mercedes, 1 Redbull, 8.2ms\n",
            "video 1/1 (frame 253/6094) /content/drive/MyDrive/FormulaOneCarDetection/2021_Final.mp4: 256x416 1 Mercedes, 1 Redbull, 8.2ms\n",
            "video 1/1 (frame 254/6094) /content/drive/MyDrive/FormulaOneCarDetection/2021_Final.mp4: 256x416 1 Mercedes, 1 Redbull, 8.1ms\n",
            "video 1/1 (frame 255/6094) /content/drive/MyDrive/FormulaOneCarDetection/2021_Final.mp4: 256x416 1 Mercedes, 1 Redbull, 8.0ms\n",
            "video 1/1 (frame 256/6094) /content/drive/MyDrive/FormulaOneCarDetection/2021_Final.mp4: 256x416 1 Mercedes, 1 Redbull, 8.0ms\n",
            "video 1/1 (frame 257/6094) /content/drive/MyDrive/FormulaOneCarDetection/2021_Final.mp4: 256x416 1 Mercedes, 1 Redbull, 7.9ms\n",
            "video 1/1 (frame 258/6094) /content/drive/MyDrive/FormulaOneCarDetection/2021_Final.mp4: 256x416 1 Mercedes, 1 Redbull, 7.8ms\n",
            "video 1/1 (frame 259/6094) /content/drive/MyDrive/FormulaOneCarDetection/2021_Final.mp4: 256x416 1 Mercedes, 1 Redbull, 8.1ms\n",
            "video 1/1 (frame 260/6094) /content/drive/MyDrive/FormulaOneCarDetection/2021_Final.mp4: 256x416 1 Mercedes, 11.1ms\n",
            "video 1/1 (frame 261/6094) /content/drive/MyDrive/FormulaOneCarDetection/2021_Final.mp4: 256x416 1 Mercedes, 8.0ms\n",
            "video 1/1 (frame 262/6094) /content/drive/MyDrive/FormulaOneCarDetection/2021_Final.mp4: 256x416 1 Mercedes, 1 Redbull, 8.1ms\n",
            "video 1/1 (frame 263/6094) /content/drive/MyDrive/FormulaOneCarDetection/2021_Final.mp4: 256x416 1 Mercedes, 1 Redbull, 8.2ms\n",
            "video 1/1 (frame 264/6094) /content/drive/MyDrive/FormulaOneCarDetection/2021_Final.mp4: 256x416 1 Mercedes, 1 Redbull, 8.3ms\n",
            "video 1/1 (frame 265/6094) /content/drive/MyDrive/FormulaOneCarDetection/2021_Final.mp4: 256x416 1 Mercedes, 1 Redbull, 8.7ms\n",
            "video 1/1 (frame 266/6094) /content/drive/MyDrive/FormulaOneCarDetection/2021_Final.mp4: 256x416 1 Mercedes, 9.0ms\n",
            "video 1/1 (frame 267/6094) /content/drive/MyDrive/FormulaOneCarDetection/2021_Final.mp4: 256x416 1 Mercedes, 8.2ms\n",
            "video 1/1 (frame 268/6094) /content/drive/MyDrive/FormulaOneCarDetection/2021_Final.mp4: 256x416 1 Mercedes, 7.9ms\n",
            "video 1/1 (frame 269/6094) /content/drive/MyDrive/FormulaOneCarDetection/2021_Final.mp4: 256x416 1 Mercedes, 1 Redbull, 8.2ms\n",
            "video 1/1 (frame 270/6094) /content/drive/MyDrive/FormulaOneCarDetection/2021_Final.mp4: 256x416 1 Mercedes, 1 Redbull, 8.2ms\n",
            "video 1/1 (frame 271/6094) /content/drive/MyDrive/FormulaOneCarDetection/2021_Final.mp4: 256x416 1 Mercedes, 1 Redbull, 8.0ms\n",
            "video 1/1 (frame 272/6094) /content/drive/MyDrive/FormulaOneCarDetection/2021_Final.mp4: 256x416 1 Mercedes, 9.6ms\n",
            "video 1/1 (frame 273/6094) /content/drive/MyDrive/FormulaOneCarDetection/2021_Final.mp4: 256x416 1 Mercedes, 8.1ms\n",
            "video 1/1 (frame 274/6094) /content/drive/MyDrive/FormulaOneCarDetection/2021_Final.mp4: 256x416 1 Mercedes, 1 Redbull, 7.9ms\n",
            "video 1/1 (frame 275/6094) /content/drive/MyDrive/FormulaOneCarDetection/2021_Final.mp4: 256x416 1 Mercedes, 1 Redbull, 8.0ms\n",
            "video 1/1 (frame 276/6094) /content/drive/MyDrive/FormulaOneCarDetection/2021_Final.mp4: 256x416 1 Mercedes, 1 Redbull, 8.0ms\n",
            "video 1/1 (frame 277/6094) /content/drive/MyDrive/FormulaOneCarDetection/2021_Final.mp4: 256x416 1 Mercedes, 1 Redbull, 7.9ms\n",
            "video 1/1 (frame 278/6094) /content/drive/MyDrive/FormulaOneCarDetection/2021_Final.mp4: 256x416 1 Mercedes, 1 Redbull, 7.9ms\n",
            "video 1/1 (frame 279/6094) /content/drive/MyDrive/FormulaOneCarDetection/2021_Final.mp4: 256x416 1 Mercedes, 1 Redbull, 8.1ms\n",
            "video 1/1 (frame 280/6094) /content/drive/MyDrive/FormulaOneCarDetection/2021_Final.mp4: 256x416 1 Mercedes, 1 Redbull, 7.9ms\n",
            "video 1/1 (frame 281/6094) /content/drive/MyDrive/FormulaOneCarDetection/2021_Final.mp4: 256x416 1 Mercedes, 1 Redbull, 8.1ms\n",
            "video 1/1 (frame 282/6094) /content/drive/MyDrive/FormulaOneCarDetection/2021_Final.mp4: 256x416 1 Mercedes, 1 Redbull, 8.3ms\n",
            "video 1/1 (frame 283/6094) /content/drive/MyDrive/FormulaOneCarDetection/2021_Final.mp4: 256x416 1 Mercedes, 1 Redbull, 8.1ms\n",
            "video 1/1 (frame 284/6094) /content/drive/MyDrive/FormulaOneCarDetection/2021_Final.mp4: 256x416 1 Mercedes, 1 Redbull, 10.9ms\n",
            "video 1/1 (frame 285/6094) /content/drive/MyDrive/FormulaOneCarDetection/2021_Final.mp4: 256x416 1 Mercedes, 1 Redbull, 8.8ms\n",
            "video 1/1 (frame 286/6094) /content/drive/MyDrive/FormulaOneCarDetection/2021_Final.mp4: 256x416 1 Mercedes, 1 Redbull, 9.2ms\n",
            "video 1/1 (frame 287/6094) /content/drive/MyDrive/FormulaOneCarDetection/2021_Final.mp4: 256x416 1 Mercedes, 1 Redbull, 8.2ms\n",
            "video 1/1 (frame 288/6094) /content/drive/MyDrive/FormulaOneCarDetection/2021_Final.mp4: 256x416 1 Mercedes, 1 Redbull, 8.6ms\n",
            "video 1/1 (frame 289/6094) /content/drive/MyDrive/FormulaOneCarDetection/2021_Final.mp4: 256x416 1 Mercedes, 1 Redbull, 8.1ms\n",
            "video 1/1 (frame 290/6094) /content/drive/MyDrive/FormulaOneCarDetection/2021_Final.mp4: 256x416 1 Mercedes, 1 Redbull, 8.4ms\n",
            "video 1/1 (frame 291/6094) /content/drive/MyDrive/FormulaOneCarDetection/2021_Final.mp4: 256x416 1 Mercedes, 1 Redbull, 8.5ms\n",
            "video 1/1 (frame 292/6094) /content/drive/MyDrive/FormulaOneCarDetection/2021_Final.mp4: 256x416 1 Mercedes, 1 Redbull, 9.4ms\n",
            "video 1/1 (frame 293/6094) /content/drive/MyDrive/FormulaOneCarDetection/2021_Final.mp4: 256x416 1 Mercedes, 1 Redbull, 8.1ms\n",
            "video 1/1 (frame 294/6094) /content/drive/MyDrive/FormulaOneCarDetection/2021_Final.mp4: 256x416 1 Mercedes, 1 Redbull, 8.3ms\n",
            "video 1/1 (frame 295/6094) /content/drive/MyDrive/FormulaOneCarDetection/2021_Final.mp4: 256x416 1 Mercedes, 1 Redbull, 8.0ms\n",
            "video 1/1 (frame 296/6094) /content/drive/MyDrive/FormulaOneCarDetection/2021_Final.mp4: 256x416 1 Mercedes, 1 Redbull, 8.0ms\n",
            "video 1/1 (frame 297/6094) /content/drive/MyDrive/FormulaOneCarDetection/2021_Final.mp4: 256x416 1 Mercedes, 1 Redbull, 8.1ms\n",
            "video 1/1 (frame 298/6094) /content/drive/MyDrive/FormulaOneCarDetection/2021_Final.mp4: 256x416 1 Mercedes, 1 Redbull, 8.1ms\n",
            "video 1/1 (frame 299/6094) /content/drive/MyDrive/FormulaOneCarDetection/2021_Final.mp4: 256x416 1 Mercedes, 1 Redbull, 8.3ms\n",
            "video 1/1 (frame 300/6094) /content/drive/MyDrive/FormulaOneCarDetection/2021_Final.mp4: 256x416 1 Mercedes, 1 Redbull, 8.9ms\n",
            "video 1/1 (frame 301/6094) /content/drive/MyDrive/FormulaOneCarDetection/2021_Final.mp4: 256x416 1 Mercedes, 1 Redbull, 9.6ms\n",
            "video 1/1 (frame 302/6094) /content/drive/MyDrive/FormulaOneCarDetection/2021_Final.mp4: 256x416 1 Mercedes, 1 Redbull, 8.3ms\n",
            "video 1/1 (frame 303/6094) /content/drive/MyDrive/FormulaOneCarDetection/2021_Final.mp4: 256x416 1 Mercedes, 1 Redbull, 7.9ms\n",
            "video 1/1 (frame 304/6094) /content/drive/MyDrive/FormulaOneCarDetection/2021_Final.mp4: 256x416 1 Mercedes, 1 Redbull, 8.2ms\n",
            "video 1/1 (frame 305/6094) /content/drive/MyDrive/FormulaOneCarDetection/2021_Final.mp4: 256x416 1 Mercedes, 2 Redbulls, 8.3ms\n",
            "video 1/1 (frame 306/6094) /content/drive/MyDrive/FormulaOneCarDetection/2021_Final.mp4: 256x416 1 Mercedes, 1 Redbull, 8.7ms\n",
            "video 1/1 (frame 307/6094) /content/drive/MyDrive/FormulaOneCarDetection/2021_Final.mp4: 256x416 1 Mercedes, 10.1ms\n",
            "video 1/1 (frame 308/6094) /content/drive/MyDrive/FormulaOneCarDetection/2021_Final.mp4: 256x416 1 Mercedes, 1 Redbull, 8.4ms\n",
            "video 1/1 (frame 309/6094) /content/drive/MyDrive/FormulaOneCarDetection/2021_Final.mp4: 256x416 1 Mercedes, 1 Redbull, 8.3ms\n",
            "video 1/1 (frame 310/6094) /content/drive/MyDrive/FormulaOneCarDetection/2021_Final.mp4: 256x416 1 Mercedes, 1 Redbull, 8.1ms\n",
            "video 1/1 (frame 311/6094) /content/drive/MyDrive/FormulaOneCarDetection/2021_Final.mp4: 256x416 1 Mercedes, 1 Redbull, 8.1ms\n",
            "video 1/1 (frame 312/6094) /content/drive/MyDrive/FormulaOneCarDetection/2021_Final.mp4: 256x416 1 Mercedes, 8.3ms\n",
            "video 1/1 (frame 313/6094) /content/drive/MyDrive/FormulaOneCarDetection/2021_Final.mp4: 256x416 1 Mercedes, 8.1ms\n",
            "video 1/1 (frame 314/6094) /content/drive/MyDrive/FormulaOneCarDetection/2021_Final.mp4: 256x416 1 Mercedes, 8.4ms\n",
            "video 1/1 (frame 315/6094) /content/drive/MyDrive/FormulaOneCarDetection/2021_Final.mp4: 256x416 1 Mercedes, 8.0ms\n",
            "video 1/1 (frame 316/6094) /content/drive/MyDrive/FormulaOneCarDetection/2021_Final.mp4: 256x416 1 Mercedes, 8.1ms\n",
            "video 1/1 (frame 317/6094) /content/drive/MyDrive/FormulaOneCarDetection/2021_Final.mp4: 256x416 1 Mercedes, 8.0ms\n",
            "video 1/1 (frame 318/6094) /content/drive/MyDrive/FormulaOneCarDetection/2021_Final.mp4: 256x416 1 Mercedes, 8.0ms\n",
            "video 1/1 (frame 319/6094) /content/drive/MyDrive/FormulaOneCarDetection/2021_Final.mp4: 256x416 1 Mercedes, 8.1ms\n",
            "video 1/1 (frame 320/6094) /content/drive/MyDrive/FormulaOneCarDetection/2021_Final.mp4: 256x416 1 Mercedes, 8.1ms\n",
            "video 1/1 (frame 321/6094) /content/drive/MyDrive/FormulaOneCarDetection/2021_Final.mp4: 256x416 1 Mercedes, 8.4ms\n",
            "video 1/1 (frame 322/6094) /content/drive/MyDrive/FormulaOneCarDetection/2021_Final.mp4: 256x416 1 Mercedes, 8.0ms\n",
            "video 1/1 (frame 323/6094) /content/drive/MyDrive/FormulaOneCarDetection/2021_Final.mp4: 256x416 1 Mercedes, 8.1ms\n",
            "video 1/1 (frame 324/6094) /content/drive/MyDrive/FormulaOneCarDetection/2021_Final.mp4: 256x416 1 Mercedes, 8.1ms\n",
            "video 1/1 (frame 325/6094) /content/drive/MyDrive/FormulaOneCarDetection/2021_Final.mp4: 256x416 1 Mercedes, 8.2ms\n",
            "video 1/1 (frame 326/6094) /content/drive/MyDrive/FormulaOneCarDetection/2021_Final.mp4: 256x416 1 Mercedes, 8.2ms\n",
            "video 1/1 (frame 327/6094) /content/drive/MyDrive/FormulaOneCarDetection/2021_Final.mp4: 256x416 1 Mercedes, 8.2ms\n",
            "video 1/1 (frame 328/6094) /content/drive/MyDrive/FormulaOneCarDetection/2021_Final.mp4: 256x416 1 Mercedes, 8.2ms\n",
            "video 1/1 (frame 329/6094) /content/drive/MyDrive/FormulaOneCarDetection/2021_Final.mp4: 256x416 1 Mercedes, 8.2ms\n",
            "video 1/1 (frame 330/6094) /content/drive/MyDrive/FormulaOneCarDetection/2021_Final.mp4: 256x416 1 Mercedes, 8.2ms\n",
            "video 1/1 (frame 331/6094) /content/drive/MyDrive/FormulaOneCarDetection/2021_Final.mp4: 256x416 1 Mercedes, 8.2ms\n",
            "video 1/1 (frame 332/6094) /content/drive/MyDrive/FormulaOneCarDetection/2021_Final.mp4: 256x416 1 Mercedes, 8.1ms\n",
            "video 1/1 (frame 333/6094) /content/drive/MyDrive/FormulaOneCarDetection/2021_Final.mp4: 256x416 1 Mercedes, 8.1ms\n",
            "video 1/1 (frame 334/6094) /content/drive/MyDrive/FormulaOneCarDetection/2021_Final.mp4: 256x416 1 Mercedes, 8.0ms\n",
            "video 1/1 (frame 335/6094) /content/drive/MyDrive/FormulaOneCarDetection/2021_Final.mp4: 256x416 1 Mercedes, 8.2ms\n",
            "video 1/1 (frame 336/6094) /content/drive/MyDrive/FormulaOneCarDetection/2021_Final.mp4: 256x416 1 Mercedes, 7.9ms\n",
            "video 1/1 (frame 337/6094) /content/drive/MyDrive/FormulaOneCarDetection/2021_Final.mp4: 256x416 1 Mercedes, 8.0ms\n",
            "video 1/1 (frame 338/6094) /content/drive/MyDrive/FormulaOneCarDetection/2021_Final.mp4: 256x416 1 Mercedes, 8.3ms\n",
            "video 1/1 (frame 339/6094) /content/drive/MyDrive/FormulaOneCarDetection/2021_Final.mp4: 256x416 1 Mercedes, 7.8ms\n",
            "video 1/1 (frame 340/6094) /content/drive/MyDrive/FormulaOneCarDetection/2021_Final.mp4: 256x416 1 Mercedes, 8.1ms\n",
            "video 1/1 (frame 341/6094) /content/drive/MyDrive/FormulaOneCarDetection/2021_Final.mp4: 256x416 1 Mercedes, 8.1ms\n",
            "video 1/1 (frame 342/6094) /content/drive/MyDrive/FormulaOneCarDetection/2021_Final.mp4: 256x416 1 Mercedes, 8.6ms\n",
            "video 1/1 (frame 343/6094) /content/drive/MyDrive/FormulaOneCarDetection/2021_Final.mp4: 256x416 1 Mercedes, 7.9ms\n",
            "video 1/1 (frame 344/6094) /content/drive/MyDrive/FormulaOneCarDetection/2021_Final.mp4: 256x416 1 Mercedes, 7.9ms\n",
            "video 1/1 (frame 345/6094) /content/drive/MyDrive/FormulaOneCarDetection/2021_Final.mp4: 256x416 1 Mercedes, 8.0ms\n",
            "video 1/1 (frame 346/6094) /content/drive/MyDrive/FormulaOneCarDetection/2021_Final.mp4: 256x416 1 Mercedes, 9.9ms\n",
            "video 1/1 (frame 347/6094) /content/drive/MyDrive/FormulaOneCarDetection/2021_Final.mp4: 256x416 1 Mercedes, 8.1ms\n",
            "video 1/1 (frame 348/6094) /content/drive/MyDrive/FormulaOneCarDetection/2021_Final.mp4: 256x416 1 Mercedes, 10.0ms\n",
            "video 1/1 (frame 349/6094) /content/drive/MyDrive/FormulaOneCarDetection/2021_Final.mp4: 256x416 1 Mercedes, 12.0ms\n",
            "video 1/1 (frame 350/6094) /content/drive/MyDrive/FormulaOneCarDetection/2021_Final.mp4: 256x416 1 Mercedes, 8.1ms\n",
            "video 1/1 (frame 351/6094) /content/drive/MyDrive/FormulaOneCarDetection/2021_Final.mp4: 256x416 1 Mercedes, 8.1ms\n",
            "video 1/1 (frame 352/6094) /content/drive/MyDrive/FormulaOneCarDetection/2021_Final.mp4: 256x416 1 Mercedes, 9.0ms\n",
            "video 1/1 (frame 353/6094) /content/drive/MyDrive/FormulaOneCarDetection/2021_Final.mp4: 256x416 1 Mercedes, 9.0ms\n",
            "video 1/1 (frame 354/6094) /content/drive/MyDrive/FormulaOneCarDetection/2021_Final.mp4: 256x416 1 Mercedes, 8.4ms\n",
            "video 1/1 (frame 355/6094) /content/drive/MyDrive/FormulaOneCarDetection/2021_Final.mp4: 256x416 1 Mercedes, 8.3ms\n",
            "video 1/1 (frame 356/6094) /content/drive/MyDrive/FormulaOneCarDetection/2021_Final.mp4: 256x416 1 Mercedes, 9.0ms\n",
            "video 1/1 (frame 357/6094) /content/drive/MyDrive/FormulaOneCarDetection/2021_Final.mp4: 256x416 1 Mercedes, 8.4ms\n",
            "video 1/1 (frame 358/6094) /content/drive/MyDrive/FormulaOneCarDetection/2021_Final.mp4: 256x416 1 Mercedes, 8.3ms\n",
            "video 1/1 (frame 359/6094) /content/drive/MyDrive/FormulaOneCarDetection/2021_Final.mp4: 256x416 1 Mercedes, 8.2ms\n",
            "video 1/1 (frame 360/6094) /content/drive/MyDrive/FormulaOneCarDetection/2021_Final.mp4: 256x416 1 Mercedes, 8.1ms\n",
            "video 1/1 (frame 361/6094) /content/drive/MyDrive/FormulaOneCarDetection/2021_Final.mp4: 256x416 1 Mercedes, 8.1ms\n",
            "video 1/1 (frame 362/6094) /content/drive/MyDrive/FormulaOneCarDetection/2021_Final.mp4: 256x416 1 Mercedes, 8.2ms\n",
            "video 1/1 (frame 363/6094) /content/drive/MyDrive/FormulaOneCarDetection/2021_Final.mp4: 256x416 1 Mercedes, 8.1ms\n",
            "video 1/1 (frame 364/6094) /content/drive/MyDrive/FormulaOneCarDetection/2021_Final.mp4: 256x416 1 Mercedes, 8.0ms\n",
            "video 1/1 (frame 365/6094) /content/drive/MyDrive/FormulaOneCarDetection/2021_Final.mp4: 256x416 1 Mercedes, 8.0ms\n",
            "video 1/1 (frame 366/6094) /content/drive/MyDrive/FormulaOneCarDetection/2021_Final.mp4: 256x416 1 Mercedes, 8.3ms\n",
            "video 1/1 (frame 367/6094) /content/drive/MyDrive/FormulaOneCarDetection/2021_Final.mp4: 256x416 1 Mercedes, 8.1ms\n",
            "video 1/1 (frame 368/6094) /content/drive/MyDrive/FormulaOneCarDetection/2021_Final.mp4: 256x416 1 Mercedes, 8.0ms\n",
            "video 1/1 (frame 369/6094) /content/drive/MyDrive/FormulaOneCarDetection/2021_Final.mp4: 256x416 1 Mercedes, 8.2ms\n",
            "video 1/1 (frame 370/6094) /content/drive/MyDrive/FormulaOneCarDetection/2021_Final.mp4: 256x416 1 Mercedes, 8.4ms\n",
            "video 1/1 (frame 371/6094) /content/drive/MyDrive/FormulaOneCarDetection/2021_Final.mp4: 256x416 1 Mercedes, 8.2ms\n",
            "video 1/1 (frame 372/6094) /content/drive/MyDrive/FormulaOneCarDetection/2021_Final.mp4: 256x416 1 Mercedes, 8.2ms\n",
            "video 1/1 (frame 373/6094) /content/drive/MyDrive/FormulaOneCarDetection/2021_Final.mp4: 256x416 1 Mercedes, 9.0ms\n",
            "video 1/1 (frame 374/6094) /content/drive/MyDrive/FormulaOneCarDetection/2021_Final.mp4: 256x416 1 Mercedes, 9.3ms\n",
            "video 1/1 (frame 375/6094) /content/drive/MyDrive/FormulaOneCarDetection/2021_Final.mp4: 256x416 1 Mercedes, 9.3ms\n",
            "video 1/1 (frame 376/6094) /content/drive/MyDrive/FormulaOneCarDetection/2021_Final.mp4: 256x416 1 Mercedes, 11.1ms\n",
            "video 1/1 (frame 377/6094) /content/drive/MyDrive/FormulaOneCarDetection/2021_Final.mp4: 256x416 1 Mercedes, 8.4ms\n",
            "video 1/1 (frame 378/6094) /content/drive/MyDrive/FormulaOneCarDetection/2021_Final.mp4: 256x416 1 Mercedes, 8.5ms\n",
            "video 1/1 (frame 379/6094) /content/drive/MyDrive/FormulaOneCarDetection/2021_Final.mp4: 256x416 1 Mercedes, 8.3ms\n",
            "video 1/1 (frame 380/6094) /content/drive/MyDrive/FormulaOneCarDetection/2021_Final.mp4: 256x416 1 Mercedes, 8.2ms\n",
            "video 1/1 (frame 381/6094) /content/drive/MyDrive/FormulaOneCarDetection/2021_Final.mp4: 256x416 1 Mercedes, 8.1ms\n",
            "video 1/1 (frame 382/6094) /content/drive/MyDrive/FormulaOneCarDetection/2021_Final.mp4: 256x416 1 Mercedes, 8.1ms\n",
            "video 1/1 (frame 383/6094) /content/drive/MyDrive/FormulaOneCarDetection/2021_Final.mp4: 256x416 1 Mercedes, 8.1ms\n",
            "video 1/1 (frame 384/6094) /content/drive/MyDrive/FormulaOneCarDetection/2021_Final.mp4: 256x416 1 Mercedes, 8.6ms\n",
            "video 1/1 (frame 385/6094) /content/drive/MyDrive/FormulaOneCarDetection/2021_Final.mp4: 256x416 1 Mercedes, 8.4ms\n",
            "video 1/1 (frame 386/6094) /content/drive/MyDrive/FormulaOneCarDetection/2021_Final.mp4: 256x416 1 Mercedes, 8.3ms\n",
            "video 1/1 (frame 387/6094) /content/drive/MyDrive/FormulaOneCarDetection/2021_Final.mp4: 256x416 1 Mercedes, 8.3ms\n",
            "video 1/1 (frame 388/6094) /content/drive/MyDrive/FormulaOneCarDetection/2021_Final.mp4: 256x416 1 Mercedes, 9.2ms\n",
            "video 1/1 (frame 389/6094) /content/drive/MyDrive/FormulaOneCarDetection/2021_Final.mp4: 256x416 1 Mercedes, 8.2ms\n",
            "video 1/1 (frame 390/6094) /content/drive/MyDrive/FormulaOneCarDetection/2021_Final.mp4: 256x416 1 Mercedes, 8.2ms\n",
            "video 1/1 (frame 391/6094) /content/drive/MyDrive/FormulaOneCarDetection/2021_Final.mp4: 256x416 2 Mercedess, 8.4ms\n",
            "video 1/1 (frame 392/6094) /content/drive/MyDrive/FormulaOneCarDetection/2021_Final.mp4: 256x416 1 Mercedes, 8.0ms\n",
            "video 1/1 (frame 393/6094) /content/drive/MyDrive/FormulaOneCarDetection/2021_Final.mp4: 256x416 1 Mercedes, 8.2ms\n",
            "video 1/1 (frame 394/6094) /content/drive/MyDrive/FormulaOneCarDetection/2021_Final.mp4: 256x416 1 Mercedes, 8.1ms\n",
            "video 1/1 (frame 395/6094) /content/drive/MyDrive/FormulaOneCarDetection/2021_Final.mp4: 256x416 1 Mercedes, 8.7ms\n",
            "video 1/1 (frame 396/6094) /content/drive/MyDrive/FormulaOneCarDetection/2021_Final.mp4: 256x416 1 Mercedes, 11.1ms\n",
            "video 1/1 (frame 397/6094) /content/drive/MyDrive/FormulaOneCarDetection/2021_Final.mp4: 256x416 1 Mercedes, 11.0ms\n",
            "video 1/1 (frame 398/6094) /content/drive/MyDrive/FormulaOneCarDetection/2021_Final.mp4: 256x416 1 Mercedes, 1 Redbull, 8.2ms\n",
            "video 1/1 (frame 399/6094) /content/drive/MyDrive/FormulaOneCarDetection/2021_Final.mp4: 256x416 1 Mercedes, 8.2ms\n",
            "video 1/1 (frame 400/6094) /content/drive/MyDrive/FormulaOneCarDetection/2021_Final.mp4: 256x416 1 Mercedes, 1 Redbull, 8.2ms\n",
            "video 1/1 (frame 401/6094) /content/drive/MyDrive/FormulaOneCarDetection/2021_Final.mp4: 256x416 1 Mercedes, 1 Redbull, 8.3ms\n",
            "video 1/1 (frame 402/6094) /content/drive/MyDrive/FormulaOneCarDetection/2021_Final.mp4: 256x416 1 Mercedes, 1 Redbull, 8.2ms\n",
            "video 1/1 (frame 403/6094) /content/drive/MyDrive/FormulaOneCarDetection/2021_Final.mp4: 256x416 1 Mercedes, 1 Redbull, 8.6ms\n",
            "video 1/1 (frame 404/6094) /content/drive/MyDrive/FormulaOneCarDetection/2021_Final.mp4: 256x416 1 Mercedes, 1 Redbull, 8.5ms\n",
            "video 1/1 (frame 405/6094) /content/drive/MyDrive/FormulaOneCarDetection/2021_Final.mp4: 256x416 1 Mercedes, 1 Redbull, 8.4ms\n",
            "video 1/1 (frame 406/6094) /content/drive/MyDrive/FormulaOneCarDetection/2021_Final.mp4: 256x416 1 Mercedes, 1 Redbull, 8.5ms\n",
            "video 1/1 (frame 407/6094) /content/drive/MyDrive/FormulaOneCarDetection/2021_Final.mp4: 256x416 1 Mercedes, 1 Redbull, 8.8ms\n",
            "video 1/1 (frame 408/6094) /content/drive/MyDrive/FormulaOneCarDetection/2021_Final.mp4: 256x416 1 Mercedes, 1 Redbull, 8.2ms\n",
            "video 1/1 (frame 409/6094) /content/drive/MyDrive/FormulaOneCarDetection/2021_Final.mp4: 256x416 1 Mercedes, 1 Redbull, 8.4ms\n",
            "video 1/1 (frame 410/6094) /content/drive/MyDrive/FormulaOneCarDetection/2021_Final.mp4: 256x416 1 Mercedes, 1 Redbull, 8.0ms\n",
            "video 1/1 (frame 411/6094) /content/drive/MyDrive/FormulaOneCarDetection/2021_Final.mp4: 256x416 1 Mercedes, 1 Redbull, 8.5ms\n",
            "video 1/1 (frame 412/6094) /content/drive/MyDrive/FormulaOneCarDetection/2021_Final.mp4: 256x416 1 Mercedes, 1 Redbull, 8.5ms\n",
            "video 1/1 (frame 413/6094) /content/drive/MyDrive/FormulaOneCarDetection/2021_Final.mp4: 256x416 1 Mercedes, 1 Redbull, 8.2ms\n",
            "video 1/1 (frame 414/6094) /content/drive/MyDrive/FormulaOneCarDetection/2021_Final.mp4: 256x416 1 Mercedes, 1 Redbull, 8.2ms\n",
            "video 1/1 (frame 415/6094) /content/drive/MyDrive/FormulaOneCarDetection/2021_Final.mp4: 256x416 1 Mercedes, 1 Redbull, 8.2ms\n",
            "video 1/1 (frame 416/6094) /content/drive/MyDrive/FormulaOneCarDetection/2021_Final.mp4: 256x416 1 Mercedes, 1 Redbull, 8.6ms\n",
            "video 1/1 (frame 417/6094) /content/drive/MyDrive/FormulaOneCarDetection/2021_Final.mp4: 256x416 1 Mercedes, 1 Redbull, 11.0ms\n",
            "video 1/1 (frame 418/6094) /content/drive/MyDrive/FormulaOneCarDetection/2021_Final.mp4: 256x416 1 Mercedes, 1 Redbull, 8.1ms\n",
            "video 1/1 (frame 419/6094) /content/drive/MyDrive/FormulaOneCarDetection/2021_Final.mp4: 256x416 1 Mercedes, 1 Redbull, 8.2ms\n",
            "video 1/1 (frame 420/6094) /content/drive/MyDrive/FormulaOneCarDetection/2021_Final.mp4: 256x416 1 Mercedes, 1 Redbull, 8.3ms\n",
            "video 1/1 (frame 421/6094) /content/drive/MyDrive/FormulaOneCarDetection/2021_Final.mp4: 256x416 1 Mercedes, 1 Redbull, 8.7ms\n",
            "video 1/1 (frame 422/6094) /content/drive/MyDrive/FormulaOneCarDetection/2021_Final.mp4: 256x416 1 Mercedes, 1 Redbull, 9.9ms\n",
            "video 1/1 (frame 423/6094) /content/drive/MyDrive/FormulaOneCarDetection/2021_Final.mp4: 256x416 1 Mercedes, 1 Redbull, 7.9ms\n",
            "video 1/1 (frame 424/6094) /content/drive/MyDrive/FormulaOneCarDetection/2021_Final.mp4: 256x416 1 Mercedes, 7.9ms\n",
            "video 1/1 (frame 425/6094) /content/drive/MyDrive/FormulaOneCarDetection/2021_Final.mp4: 256x416 1 Mercedes, 1 Redbull, 7.9ms\n",
            "video 1/1 (frame 426/6094) /content/drive/MyDrive/FormulaOneCarDetection/2021_Final.mp4: 256x416 1 Mercedes, 1 Redbull, 8.0ms\n",
            "video 1/1 (frame 427/6094) /content/drive/MyDrive/FormulaOneCarDetection/2021_Final.mp4: 256x416 1 Mercedes, 8.7ms\n",
            "video 1/1 (frame 428/6094) /content/drive/MyDrive/FormulaOneCarDetection/2021_Final.mp4: 256x416 1 Mercedes, 1 Redbull, 7.9ms\n",
            "video 1/1 (frame 429/6094) /content/drive/MyDrive/FormulaOneCarDetection/2021_Final.mp4: 256x416 1 Mercedes, 8.1ms\n",
            "video 1/1 (frame 430/6094) /content/drive/MyDrive/FormulaOneCarDetection/2021_Final.mp4: 256x416 1 Mercedes, 1 Redbull, 7.9ms\n",
            "video 1/1 (frame 431/6094) /content/drive/MyDrive/FormulaOneCarDetection/2021_Final.mp4: 256x416 1 Mercedes, 1 Redbull, 8.3ms\n",
            "video 1/1 (frame 432/6094) /content/drive/MyDrive/FormulaOneCarDetection/2021_Final.mp4: 256x416 1 Mercedes, 1 Redbull, 7.9ms\n",
            "video 1/1 (frame 433/6094) /content/drive/MyDrive/FormulaOneCarDetection/2021_Final.mp4: 256x416 1 Mercedes, 1 Redbull, 9.6ms\n",
            "video 1/1 (frame 434/6094) /content/drive/MyDrive/FormulaOneCarDetection/2021_Final.mp4: 256x416 1 Mercedes, 1 Redbull, 9.2ms\n",
            "video 1/1 (frame 435/6094) /content/drive/MyDrive/FormulaOneCarDetection/2021_Final.mp4: 256x416 1 Mercedes, 1 Redbull, 8.0ms\n",
            "video 1/1 (frame 436/6094) /content/drive/MyDrive/FormulaOneCarDetection/2021_Final.mp4: 256x416 1 Mercedes, 1 Redbull, 7.9ms\n",
            "video 1/1 (frame 437/6094) /content/drive/MyDrive/FormulaOneCarDetection/2021_Final.mp4: 256x416 1 Mercedes, 1 Redbull, 8.2ms\n",
            "video 1/1 (frame 438/6094) /content/drive/MyDrive/FormulaOneCarDetection/2021_Final.mp4: 256x416 1 Mercedes, 1 Redbull, 9.2ms\n",
            "video 1/1 (frame 439/6094) /content/drive/MyDrive/FormulaOneCarDetection/2021_Final.mp4: 256x416 1 Mercedes, 1 Redbull, 8.2ms\n",
            "video 1/1 (frame 440/6094) /content/drive/MyDrive/FormulaOneCarDetection/2021_Final.mp4: 256x416 1 Mercedes, 1 Redbull, 8.2ms\n",
            "video 1/1 (frame 441/6094) /content/drive/MyDrive/FormulaOneCarDetection/2021_Final.mp4: 256x416 1 Mercedes, 1 Redbull, 8.2ms\n",
            "video 1/1 (frame 442/6094) /content/drive/MyDrive/FormulaOneCarDetection/2021_Final.mp4: 256x416 1 Mercedes, 1 Redbull, 8.5ms\n",
            "video 1/1 (frame 443/6094) /content/drive/MyDrive/FormulaOneCarDetection/2021_Final.mp4: 256x416 1 Mercedes, 1 Redbull, 8.5ms\n",
            "video 1/1 (frame 444/6094) /content/drive/MyDrive/FormulaOneCarDetection/2021_Final.mp4: 256x416 1 Mercedes, 1 Redbull, 9.5ms\n",
            "video 1/1 (frame 445/6094) /content/drive/MyDrive/FormulaOneCarDetection/2021_Final.mp4: 256x416 1 Mercedes, 1 Redbull, 8.6ms\n",
            "video 1/1 (frame 446/6094) /content/drive/MyDrive/FormulaOneCarDetection/2021_Final.mp4: 256x416 1 Mercedes, 1 Redbull, 8.3ms\n",
            "video 1/1 (frame 447/6094) /content/drive/MyDrive/FormulaOneCarDetection/2021_Final.mp4: 256x416 1 Mercedes, 1 Redbull, 8.6ms\n",
            "video 1/1 (frame 448/6094) /content/drive/MyDrive/FormulaOneCarDetection/2021_Final.mp4: 256x416 1 Mercedes, 1 Redbull, 8.2ms\n",
            "video 1/1 (frame 449/6094) /content/drive/MyDrive/FormulaOneCarDetection/2021_Final.mp4: 256x416 1 Mercedes, 1 Redbull, 8.0ms\n",
            "video 1/1 (frame 450/6094) /content/drive/MyDrive/FormulaOneCarDetection/2021_Final.mp4: 256x416 1 Mercedes, 1 Redbull, 8.3ms\n",
            "video 1/1 (frame 451/6094) /content/drive/MyDrive/FormulaOneCarDetection/2021_Final.mp4: 256x416 1 Mercedes, 1 Redbull, 8.1ms\n",
            "video 1/1 (frame 452/6094) /content/drive/MyDrive/FormulaOneCarDetection/2021_Final.mp4: 256x416 1 Mercedes, 1 Redbull, 8.1ms\n",
            "video 1/1 (frame 453/6094) /content/drive/MyDrive/FormulaOneCarDetection/2021_Final.mp4: 256x416 1 Mercedes, 1 Redbull, 8.4ms\n",
            "video 1/1 (frame 454/6094) /content/drive/MyDrive/FormulaOneCarDetection/2021_Final.mp4: 256x416 1 Mercedes, 8.1ms\n",
            "video 1/1 (frame 455/6094) /content/drive/MyDrive/FormulaOneCarDetection/2021_Final.mp4: 256x416 1 Mercedes, 1 Redbull, 8.3ms\n",
            "video 1/1 (frame 456/6094) /content/drive/MyDrive/FormulaOneCarDetection/2021_Final.mp4: 256x416 1 Mercedes, 1 Redbull, 8.1ms\n",
            "video 1/1 (frame 457/6094) /content/drive/MyDrive/FormulaOneCarDetection/2021_Final.mp4: 256x416 1 Mercedes, 1 Redbull, 8.6ms\n",
            "video 1/1 (frame 458/6094) /content/drive/MyDrive/FormulaOneCarDetection/2021_Final.mp4: 256x416 1 Mercedes, 1 Redbull, 8.6ms\n",
            "video 1/1 (frame 459/6094) /content/drive/MyDrive/FormulaOneCarDetection/2021_Final.mp4: 256x416 1 Mercedes, 1 Redbull, 9.2ms\n",
            "video 1/1 (frame 460/6094) /content/drive/MyDrive/FormulaOneCarDetection/2021_Final.mp4: 256x416 1 Mercedes, 1 Redbull, 8.2ms\n",
            "video 1/1 (frame 461/6094) /content/drive/MyDrive/FormulaOneCarDetection/2021_Final.mp4: 256x416 1 Mercedes, 1 Redbull, 8.3ms\n",
            "video 1/1 (frame 462/6094) /content/drive/MyDrive/FormulaOneCarDetection/2021_Final.mp4: 256x416 1 Mercedes, 1 Redbull, 8.2ms\n",
            "video 1/1 (frame 463/6094) /content/drive/MyDrive/FormulaOneCarDetection/2021_Final.mp4: 256x416 1 Mercedes, 1 Redbull, 8.1ms\n",
            "video 1/1 (frame 464/6094) /content/drive/MyDrive/FormulaOneCarDetection/2021_Final.mp4: 256x416 1 Mercedes, 1 Redbull, 8.5ms\n",
            "video 1/1 (frame 465/6094) /content/drive/MyDrive/FormulaOneCarDetection/2021_Final.mp4: 256x416 1 Mercedes, 1 Redbull, 8.6ms\n",
            "video 1/1 (frame 466/6094) /content/drive/MyDrive/FormulaOneCarDetection/2021_Final.mp4: 256x416 1 Mercedes, 1 Redbull, 8.4ms\n",
            "video 1/1 (frame 467/6094) /content/drive/MyDrive/FormulaOneCarDetection/2021_Final.mp4: 256x416 1 Mercedes, 8.3ms\n",
            "video 1/1 (frame 468/6094) /content/drive/MyDrive/FormulaOneCarDetection/2021_Final.mp4: 256x416 1 Mercedes, 8.5ms\n",
            "video 1/1 (frame 469/6094) /content/drive/MyDrive/FormulaOneCarDetection/2021_Final.mp4: 256x416 1 Mercedes, 8.0ms\n",
            "video 1/1 (frame 470/6094) /content/drive/MyDrive/FormulaOneCarDetection/2021_Final.mp4: 256x416 1 Mercedes, 10.0ms\n",
            "video 1/1 (frame 471/6094) /content/drive/MyDrive/FormulaOneCarDetection/2021_Final.mp4: 256x416 1 Mercedes, 8.5ms\n",
            "video 1/1 (frame 472/6094) /content/drive/MyDrive/FormulaOneCarDetection/2021_Final.mp4: 256x416 1 Mercedes, 8.6ms\n",
            "video 1/1 (frame 473/6094) /content/drive/MyDrive/FormulaOneCarDetection/2021_Final.mp4: 256x416 1 Mercedes, 8.4ms\n",
            "video 1/1 (frame 474/6094) /content/drive/MyDrive/FormulaOneCarDetection/2021_Final.mp4: 256x416 1 Mercedes, 8.6ms\n",
            "video 1/1 (frame 475/6094) /content/drive/MyDrive/FormulaOneCarDetection/2021_Final.mp4: 256x416 1 Mercedes, 8.2ms\n",
            "video 1/1 (frame 476/6094) /content/drive/MyDrive/FormulaOneCarDetection/2021_Final.mp4: 256x416 1 Mercedes, 8.5ms\n",
            "video 1/1 (frame 477/6094) /content/drive/MyDrive/FormulaOneCarDetection/2021_Final.mp4: 256x416 1 Mercedes, 8.7ms\n",
            "video 1/1 (frame 478/6094) /content/drive/MyDrive/FormulaOneCarDetection/2021_Final.mp4: 256x416 1 Mercedes, 8.6ms\n",
            "video 1/1 (frame 479/6094) /content/drive/MyDrive/FormulaOneCarDetection/2021_Final.mp4: 256x416 1 Mercedes, 9.9ms\n",
            "video 1/1 (frame 480/6094) /content/drive/MyDrive/FormulaOneCarDetection/2021_Final.mp4: 256x416 1 Mercedes, 9.2ms\n",
            "video 1/1 (frame 481/6094) /content/drive/MyDrive/FormulaOneCarDetection/2021_Final.mp4: 256x416 1 Mercedes, 8.1ms\n",
            "video 1/1 (frame 482/6094) /content/drive/MyDrive/FormulaOneCarDetection/2021_Final.mp4: 256x416 1 Mercedes, 8.6ms\n",
            "video 1/1 (frame 483/6094) /content/drive/MyDrive/FormulaOneCarDetection/2021_Final.mp4: 256x416 1 Mercedes, 9.5ms\n",
            "video 1/1 (frame 484/6094) /content/drive/MyDrive/FormulaOneCarDetection/2021_Final.mp4: 256x416 1 Mercedes, 8.3ms\n",
            "video 1/1 (frame 485/6094) /content/drive/MyDrive/FormulaOneCarDetection/2021_Final.mp4: 256x416 1 Mercedes, 8.1ms\n",
            "video 1/1 (frame 486/6094) /content/drive/MyDrive/FormulaOneCarDetection/2021_Final.mp4: 256x416 1 Mercedes, 1 Redbull, 8.4ms\n",
            "video 1/1 (frame 487/6094) /content/drive/MyDrive/FormulaOneCarDetection/2021_Final.mp4: 256x416 1 Mercedes, 1 Redbull, 8.2ms\n",
            "video 1/1 (frame 488/6094) /content/drive/MyDrive/FormulaOneCarDetection/2021_Final.mp4: 256x416 1 Mercedes, 1 Redbull, 8.6ms\n",
            "video 1/1 (frame 489/6094) /content/drive/MyDrive/FormulaOneCarDetection/2021_Final.mp4: 256x416 1 Mercedes, 1 Redbull, 9.0ms\n",
            "video 1/1 (frame 490/6094) /content/drive/MyDrive/FormulaOneCarDetection/2021_Final.mp4: 256x416 1 Mercedes, 1 Redbull, 8.6ms\n",
            "video 1/1 (frame 491/6094) /content/drive/MyDrive/FormulaOneCarDetection/2021_Final.mp4: 256x416 1 Mercedes, 1 Redbull, 8.3ms\n",
            "video 1/1 (frame 492/6094) /content/drive/MyDrive/FormulaOneCarDetection/2021_Final.mp4: 256x416 1 Mercedes, 1 Redbull, 9.4ms\n",
            "video 1/1 (frame 493/6094) /content/drive/MyDrive/FormulaOneCarDetection/2021_Final.mp4: 256x416 1 Mercedes, 1 Redbull, 8.3ms\n",
            "video 1/1 (frame 494/6094) /content/drive/MyDrive/FormulaOneCarDetection/2021_Final.mp4: 256x416 1 Mercedes, 1 Redbull, 8.3ms\n",
            "video 1/1 (frame 495/6094) /content/drive/MyDrive/FormulaOneCarDetection/2021_Final.mp4: 256x416 1 Mercedes, 1 Redbull, 8.3ms\n",
            "video 1/1 (frame 496/6094) /content/drive/MyDrive/FormulaOneCarDetection/2021_Final.mp4: 256x416 1 Mercedes, 1 Redbull, 8.1ms\n",
            "video 1/1 (frame 497/6094) /content/drive/MyDrive/FormulaOneCarDetection/2021_Final.mp4: 256x416 1 Mercedes, 1 Redbull, 8.2ms\n",
            "video 1/1 (frame 498/6094) /content/drive/MyDrive/FormulaOneCarDetection/2021_Final.mp4: 256x416 1 Mercedes, 1 Redbull, 8.4ms\n",
            "video 1/1 (frame 499/6094) /content/drive/MyDrive/FormulaOneCarDetection/2021_Final.mp4: 256x416 1 Mercedes, 1 Redbull, 8.4ms\n",
            "video 1/1 (frame 500/6094) /content/drive/MyDrive/FormulaOneCarDetection/2021_Final.mp4: 256x416 1 Mercedes, 1 Redbull, 8.4ms\n",
            "video 1/1 (frame 501/6094) /content/drive/MyDrive/FormulaOneCarDetection/2021_Final.mp4: 256x416 1 Mercedes, 1 Redbull, 8.4ms\n",
            "video 1/1 (frame 502/6094) /content/drive/MyDrive/FormulaOneCarDetection/2021_Final.mp4: 256x416 1 Mercedes, 1 Redbull, 8.3ms\n",
            "video 1/1 (frame 503/6094) /content/drive/MyDrive/FormulaOneCarDetection/2021_Final.mp4: 256x416 1 Mercedes, 1 Redbull, 8.5ms\n",
            "video 1/1 (frame 504/6094) /content/drive/MyDrive/FormulaOneCarDetection/2021_Final.mp4: 256x416 1 Mercedes, 1 Redbull, 8.4ms\n",
            "video 1/1 (frame 505/6094) /content/drive/MyDrive/FormulaOneCarDetection/2021_Final.mp4: 256x416 1 Mercedes, 1 Redbull, 8.2ms\n",
            "video 1/1 (frame 506/6094) /content/drive/MyDrive/FormulaOneCarDetection/2021_Final.mp4: 256x416 1 Mclaren, 1 Mercedes, 1 Redbull, 8.1ms\n",
            "video 1/1 (frame 507/6094) /content/drive/MyDrive/FormulaOneCarDetection/2021_Final.mp4: 256x416 1 Mclaren, 1 Mercedes, 1 Redbull, 9.3ms\n",
            "video 1/1 (frame 508/6094) /content/drive/MyDrive/FormulaOneCarDetection/2021_Final.mp4: 256x416 1 Mclaren, 1 Mercedes, 1 Redbull, 8.7ms\n",
            "video 1/1 (frame 509/6094) /content/drive/MyDrive/FormulaOneCarDetection/2021_Final.mp4: 256x416 1 Mercedes, 1 Redbull, 8.4ms\n",
            "video 1/1 (frame 510/6094) /content/drive/MyDrive/FormulaOneCarDetection/2021_Final.mp4: 256x416 1 Mclaren, 1 Mercedes, 1 Redbull, 9.3ms\n",
            "video 1/1 (frame 511/6094) /content/drive/MyDrive/FormulaOneCarDetection/2021_Final.mp4: 256x416 1 Mclaren, 1 Mercedes, 1 Redbull, 8.4ms\n",
            "video 1/1 (frame 512/6094) /content/drive/MyDrive/FormulaOneCarDetection/2021_Final.mp4: 256x416 1 Mclaren, 1 Mercedes, 1 Redbull, 8.5ms\n",
            "video 1/1 (frame 513/6094) /content/drive/MyDrive/FormulaOneCarDetection/2021_Final.mp4: 256x416 1 Mclaren, 1 Mercedes, 1 Redbull, 9.2ms\n",
            "video 1/1 (frame 514/6094) /content/drive/MyDrive/FormulaOneCarDetection/2021_Final.mp4: 256x416 1 Mercedes, 1 Redbull, 8.5ms\n",
            "video 1/1 (frame 515/6094) /content/drive/MyDrive/FormulaOneCarDetection/2021_Final.mp4: 256x416 1 Mclaren, 1 Mercedes, 1 Redbull, 8.8ms\n",
            "video 1/1 (frame 516/6094) /content/drive/MyDrive/FormulaOneCarDetection/2021_Final.mp4: 256x416 1 Mercedes, 1 Redbull, 9.3ms\n",
            "video 1/1 (frame 517/6094) /content/drive/MyDrive/FormulaOneCarDetection/2021_Final.mp4: 256x416 1 Mercedes, 1 Redbull, 8.4ms\n",
            "video 1/1 (frame 518/6094) /content/drive/MyDrive/FormulaOneCarDetection/2021_Final.mp4: 256x416 1 Mercedes, 1 Redbull, 8.2ms\n",
            "video 1/1 (frame 519/6094) /content/drive/MyDrive/FormulaOneCarDetection/2021_Final.mp4: 256x416 1 Mercedes, 1 Redbull, 8.3ms\n",
            "video 1/1 (frame 520/6094) /content/drive/MyDrive/FormulaOneCarDetection/2021_Final.mp4: 256x416 1 Mercedes, 1 Redbull, 8.2ms\n",
            "video 1/1 (frame 521/6094) /content/drive/MyDrive/FormulaOneCarDetection/2021_Final.mp4: 256x416 1 Mercedes, 1 Redbull, 8.4ms\n",
            "video 1/1 (frame 522/6094) /content/drive/MyDrive/FormulaOneCarDetection/2021_Final.mp4: 256x416 1 Mercedes, 1 Redbull, 10.7ms\n",
            "video 1/1 (frame 523/6094) /content/drive/MyDrive/FormulaOneCarDetection/2021_Final.mp4: 256x416 1 Mercedes, 1 Redbull, 11.4ms\n",
            "video 1/1 (frame 524/6094) /content/drive/MyDrive/FormulaOneCarDetection/2021_Final.mp4: 256x416 1 Mercedes, 1 Redbull, 9.7ms\n",
            "video 1/1 (frame 525/6094) /content/drive/MyDrive/FormulaOneCarDetection/2021_Final.mp4: 256x416 1 Mercedes, 1 Redbull, 8.2ms\n",
            "video 1/1 (frame 526/6094) /content/drive/MyDrive/FormulaOneCarDetection/2021_Final.mp4: 256x416 1 Mercedes, 1 Redbull, 11.1ms\n",
            "video 1/1 (frame 527/6094) /content/drive/MyDrive/FormulaOneCarDetection/2021_Final.mp4: 256x416 1 Mercedes, 1 Redbull, 11.0ms\n",
            "video 1/1 (frame 528/6094) /content/drive/MyDrive/FormulaOneCarDetection/2021_Final.mp4: 256x416 1 Mercedes, 1 Redbull, 8.1ms\n",
            "video 1/1 (frame 529/6094) /content/drive/MyDrive/FormulaOneCarDetection/2021_Final.mp4: 256x416 1 Mercedes, 1 Redbull, 8.0ms\n",
            "video 1/1 (frame 530/6094) /content/drive/MyDrive/FormulaOneCarDetection/2021_Final.mp4: 256x416 1 Mercedes, 1 Redbull, 8.0ms\n",
            "video 1/1 (frame 531/6094) /content/drive/MyDrive/FormulaOneCarDetection/2021_Final.mp4: 256x416 1 Mercedes, 1 Redbull, 8.4ms\n",
            "video 1/1 (frame 532/6094) /content/drive/MyDrive/FormulaOneCarDetection/2021_Final.mp4: 256x416 1 Mclaren, 1 Mercedes, 1 Redbull, 8.4ms\n",
            "video 1/1 (frame 533/6094) /content/drive/MyDrive/FormulaOneCarDetection/2021_Final.mp4: 256x416 1 Mclaren, 1 Mercedes, 1 Redbull, 12.4ms\n",
            "video 1/1 (frame 534/6094) /content/drive/MyDrive/FormulaOneCarDetection/2021_Final.mp4: 256x416 1 Mclaren, 1 Mercedes, 1 Redbull, 8.2ms\n",
            "video 1/1 (frame 535/6094) /content/drive/MyDrive/FormulaOneCarDetection/2021_Final.mp4: 256x416 1 Mclaren, 1 Mercedes, 1 Redbull, 8.4ms\n",
            "video 1/1 (frame 536/6094) /content/drive/MyDrive/FormulaOneCarDetection/2021_Final.mp4: 256x416 1 Mclaren, 1 Mercedes, 1 Redbull, 8.5ms\n",
            "video 1/1 (frame 537/6094) /content/drive/MyDrive/FormulaOneCarDetection/2021_Final.mp4: 256x416 1 Mclaren, 1 Mercedes, 1 Redbull, 8.4ms\n",
            "video 1/1 (frame 538/6094) /content/drive/MyDrive/FormulaOneCarDetection/2021_Final.mp4: 256x416 1 Mclaren, 1 Mercedes, 1 Redbull, 8.1ms\n",
            "video 1/1 (frame 539/6094) /content/drive/MyDrive/FormulaOneCarDetection/2021_Final.mp4: 256x416 1 Mclaren, 1 Mercedes, 1 Redbull, 8.1ms\n",
            "video 1/1 (frame 540/6094) /content/drive/MyDrive/FormulaOneCarDetection/2021_Final.mp4: 256x416 1 Mclaren, 1 Mercedes, 8.2ms\n",
            "video 1/1 (frame 541/6094) /content/drive/MyDrive/FormulaOneCarDetection/2021_Final.mp4: 256x416 1 Mclaren, 1 Mercedes, 1 Redbull, 8.3ms\n",
            "video 1/1 (frame 542/6094) /content/drive/MyDrive/FormulaOneCarDetection/2021_Final.mp4: 256x416 1 Mclaren, 1 Mercedes, 8.2ms\n",
            "video 1/1 (frame 543/6094) /content/drive/MyDrive/FormulaOneCarDetection/2021_Final.mp4: 256x416 1 Mclaren, 1 Mercedes, 8.7ms\n",
            "video 1/1 (frame 544/6094) /content/drive/MyDrive/FormulaOneCarDetection/2021_Final.mp4: 256x416 1 Mclaren, 1 Mercedes, 8.5ms\n",
            "video 1/1 (frame 545/6094) /content/drive/MyDrive/FormulaOneCarDetection/2021_Final.mp4: 256x416 1 Mclaren, 1 Mercedes, 8.4ms\n",
            "video 1/1 (frame 546/6094) /content/drive/MyDrive/FormulaOneCarDetection/2021_Final.mp4: 256x416 1 Mclaren, 1 Mercedes, 8.5ms\n",
            "video 1/1 (frame 547/6094) /content/drive/MyDrive/FormulaOneCarDetection/2021_Final.mp4: 256x416 1 Mclaren, 1 Mercedes, 8.4ms\n",
            "video 1/1 (frame 548/6094) /content/drive/MyDrive/FormulaOneCarDetection/2021_Final.mp4: 256x416 1 Mclaren, 1 Mercedes, 8.6ms\n",
            "video 1/1 (frame 549/6094) /content/drive/MyDrive/FormulaOneCarDetection/2021_Final.mp4: 256x416 1 Mclaren, 1 Mercedes, 8.5ms\n",
            "video 1/1 (frame 550/6094) /content/drive/MyDrive/FormulaOneCarDetection/2021_Final.mp4: 256x416 1 Mclaren, 1 Mercedes, 1 Redbull, 10.7ms\n",
            "video 1/1 (frame 551/6094) /content/drive/MyDrive/FormulaOneCarDetection/2021_Final.mp4: 256x416 1 Mclaren, 1 Mercedes, 1 Redbull, 8.5ms\n",
            "video 1/1 (frame 552/6094) /content/drive/MyDrive/FormulaOneCarDetection/2021_Final.mp4: 256x416 1 Mclaren, 1 Mercedes, 1 Redbull, 8.4ms\n",
            "video 1/1 (frame 553/6094) /content/drive/MyDrive/FormulaOneCarDetection/2021_Final.mp4: 256x416 1 Mclaren, 1 Mercedes, 1 Redbull, 8.2ms\n",
            "video 1/1 (frame 554/6094) /content/drive/MyDrive/FormulaOneCarDetection/2021_Final.mp4: 256x416 1 Mclaren, 1 Mercedes, 1 Redbull, 8.0ms\n",
            "video 1/1 (frame 555/6094) /content/drive/MyDrive/FormulaOneCarDetection/2021_Final.mp4: 256x416 1 Mclaren, 1 Mercedes, 1 Redbull, 8.2ms\n",
            "video 1/1 (frame 556/6094) /content/drive/MyDrive/FormulaOneCarDetection/2021_Final.mp4: 256x416 1 Mclaren, 1 Mercedes, 1 Redbull, 8.1ms\n",
            "video 1/1 (frame 557/6094) /content/drive/MyDrive/FormulaOneCarDetection/2021_Final.mp4: 256x416 1 Mercedes, 1 Redbull, 8.2ms\n",
            "video 1/1 (frame 558/6094) /content/drive/MyDrive/FormulaOneCarDetection/2021_Final.mp4: 256x416 1 Redbull, 8.3ms\n",
            "video 1/1 (frame 559/6094) /content/drive/MyDrive/FormulaOneCarDetection/2021_Final.mp4: 256x416 1 Redbull, 8.3ms\n",
            "video 1/1 (frame 560/6094) /content/drive/MyDrive/FormulaOneCarDetection/2021_Final.mp4: 256x416 1 Mercedes, 1 Redbull, 8.0ms\n",
            "video 1/1 (frame 561/6094) /content/drive/MyDrive/FormulaOneCarDetection/2021_Final.mp4: 256x416 1 Ferrari, 1 Mercedes, 1 Redbull, 11.7ms\n",
            "video 1/1 (frame 562/6094) /content/drive/MyDrive/FormulaOneCarDetection/2021_Final.mp4: 256x416 1 Ferrari, 1 Redbull, 8.2ms\n",
            "video 1/1 (frame 563/6094) /content/drive/MyDrive/FormulaOneCarDetection/2021_Final.mp4: 256x416 1 Redbull, 8.7ms\n",
            "video 1/1 (frame 564/6094) /content/drive/MyDrive/FormulaOneCarDetection/2021_Final.mp4: 256x416 1 Ferrari, 1 Redbull, 8.5ms\n",
            "video 1/1 (frame 565/6094) /content/drive/MyDrive/FormulaOneCarDetection/2021_Final.mp4: 256x416 1 Redbull, 8.2ms\n",
            "video 1/1 (frame 566/6094) /content/drive/MyDrive/FormulaOneCarDetection/2021_Final.mp4: 256x416 1 Redbull, 11.3ms\n",
            "video 1/1 (frame 567/6094) /content/drive/MyDrive/FormulaOneCarDetection/2021_Final.mp4: 256x416 1 Redbull, 8.1ms\n",
            "video 1/1 (frame 568/6094) /content/drive/MyDrive/FormulaOneCarDetection/2021_Final.mp4: 256x416 1 Redbull, 10.8ms\n",
            "video 1/1 (frame 569/6094) /content/drive/MyDrive/FormulaOneCarDetection/2021_Final.mp4: 256x416 1 Redbull, 8.0ms\n",
            "video 1/1 (frame 570/6094) /content/drive/MyDrive/FormulaOneCarDetection/2021_Final.mp4: 256x416 1 Redbull, 8.3ms\n",
            "video 1/1 (frame 571/6094) /content/drive/MyDrive/FormulaOneCarDetection/2021_Final.mp4: 256x416 1 Redbull, 8.3ms\n",
            "video 1/1 (frame 572/6094) /content/drive/MyDrive/FormulaOneCarDetection/2021_Final.mp4: 256x416 1 Redbull, 8.2ms\n",
            "video 1/1 (frame 573/6094) /content/drive/MyDrive/FormulaOneCarDetection/2021_Final.mp4: 256x416 1 Mclaren, 1 Redbull, 7.9ms\n",
            "video 1/1 (frame 574/6094) /content/drive/MyDrive/FormulaOneCarDetection/2021_Final.mp4: 256x416 1 Mclaren, 1 Redbull, 8.0ms\n",
            "video 1/1 (frame 575/6094) /content/drive/MyDrive/FormulaOneCarDetection/2021_Final.mp4: 256x416 1 Mclaren, 1 Redbull, 8.0ms\n",
            "video 1/1 (frame 576/6094) /content/drive/MyDrive/FormulaOneCarDetection/2021_Final.mp4: 256x416 1 Mclaren, 1 Redbull, 7.9ms\n",
            "video 1/1 (frame 577/6094) /content/drive/MyDrive/FormulaOneCarDetection/2021_Final.mp4: 256x416 1 Mclaren, 1 Redbull, 7.9ms\n",
            "video 1/1 (frame 578/6094) /content/drive/MyDrive/FormulaOneCarDetection/2021_Final.mp4: 256x416 1 Mclaren, 1 Redbull, 8.9ms\n",
            "video 1/1 (frame 579/6094) /content/drive/MyDrive/FormulaOneCarDetection/2021_Final.mp4: 256x416 1 Mclaren, 1 Redbull, 9.3ms\n",
            "video 1/1 (frame 580/6094) /content/drive/MyDrive/FormulaOneCarDetection/2021_Final.mp4: 256x416 1 Redbull, 8.1ms\n",
            "video 1/1 (frame 581/6094) /content/drive/MyDrive/FormulaOneCarDetection/2021_Final.mp4: 256x416 1 Redbull, 8.1ms\n",
            "video 1/1 (frame 582/6094) /content/drive/MyDrive/FormulaOneCarDetection/2021_Final.mp4: 256x416 1 Redbull, 8.3ms\n",
            "video 1/1 (frame 583/6094) /content/drive/MyDrive/FormulaOneCarDetection/2021_Final.mp4: 256x416 1 Redbull, 8.3ms\n",
            "video 1/1 (frame 584/6094) /content/drive/MyDrive/FormulaOneCarDetection/2021_Final.mp4: 256x416 1 Redbull, 8.5ms\n",
            "video 1/1 (frame 585/6094) /content/drive/MyDrive/FormulaOneCarDetection/2021_Final.mp4: 256x416 1 Redbull, 8.0ms\n",
            "video 1/1 (frame 586/6094) /content/drive/MyDrive/FormulaOneCarDetection/2021_Final.mp4: 256x416 1 Redbull, 7.9ms\n",
            "video 1/1 (frame 587/6094) /content/drive/MyDrive/FormulaOneCarDetection/2021_Final.mp4: 256x416 1 Redbull, 8.0ms\n",
            "video 1/1 (frame 588/6094) /content/drive/MyDrive/FormulaOneCarDetection/2021_Final.mp4: 256x416 1 Redbull, 8.5ms\n",
            "video 1/1 (frame 589/6094) /content/drive/MyDrive/FormulaOneCarDetection/2021_Final.mp4: 256x416 1 Redbull, 8.5ms\n",
            "video 1/1 (frame 590/6094) /content/drive/MyDrive/FormulaOneCarDetection/2021_Final.mp4: 256x416 1 Redbull, 7.9ms\n",
            "video 1/1 (frame 591/6094) /content/drive/MyDrive/FormulaOneCarDetection/2021_Final.mp4: 256x416 1 Redbull, 8.0ms\n",
            "video 1/1 (frame 592/6094) /content/drive/MyDrive/FormulaOneCarDetection/2021_Final.mp4: 256x416 1 Redbull, 7.9ms\n",
            "video 1/1 (frame 593/6094) /content/drive/MyDrive/FormulaOneCarDetection/2021_Final.mp4: 256x416 1 Redbull, 7.8ms\n",
            "video 1/1 (frame 594/6094) /content/drive/MyDrive/FormulaOneCarDetection/2021_Final.mp4: 256x416 1 Redbull, 8.2ms\n",
            "video 1/1 (frame 595/6094) /content/drive/MyDrive/FormulaOneCarDetection/2021_Final.mp4: 256x416 1 Redbull, 8.0ms\n",
            "video 1/1 (frame 596/6094) /content/drive/MyDrive/FormulaOneCarDetection/2021_Final.mp4: 256x416 1 Redbull, 8.1ms\n",
            "video 1/1 (frame 597/6094) /content/drive/MyDrive/FormulaOneCarDetection/2021_Final.mp4: 256x416 1 Redbull, 8.2ms\n",
            "video 1/1 (frame 598/6094) /content/drive/MyDrive/FormulaOneCarDetection/2021_Final.mp4: 256x416 1 Redbull, 8.2ms\n",
            "video 1/1 (frame 599/6094) /content/drive/MyDrive/FormulaOneCarDetection/2021_Final.mp4: 256x416 1 Redbull, 8.6ms\n",
            "video 1/1 (frame 600/6094) /content/drive/MyDrive/FormulaOneCarDetection/2021_Final.mp4: 256x416 1 Redbull, 8.4ms\n",
            "video 1/1 (frame 601/6094) /content/drive/MyDrive/FormulaOneCarDetection/2021_Final.mp4: 256x416 1 Redbull, 8.4ms\n",
            "video 1/1 (frame 602/6094) /content/drive/MyDrive/FormulaOneCarDetection/2021_Final.mp4: 256x416 1 Redbull, 8.7ms\n",
            "video 1/1 (frame 603/6094) /content/drive/MyDrive/FormulaOneCarDetection/2021_Final.mp4: 256x416 1 Redbull, 8.6ms\n",
            "video 1/1 (frame 604/6094) /content/drive/MyDrive/FormulaOneCarDetection/2021_Final.mp4: 256x416 1 Redbull, 8.9ms\n",
            "video 1/1 (frame 605/6094) /content/drive/MyDrive/FormulaOneCarDetection/2021_Final.mp4: 256x416 1 Redbull, 8.2ms\n",
            "video 1/1 (frame 606/6094) /content/drive/MyDrive/FormulaOneCarDetection/2021_Final.mp4: 256x416 1 Redbull, 8.4ms\n",
            "video 1/1 (frame 607/6094) /content/drive/MyDrive/FormulaOneCarDetection/2021_Final.mp4: 256x416 1 Redbull, 8.2ms\n",
            "video 1/1 (frame 608/6094) /content/drive/MyDrive/FormulaOneCarDetection/2021_Final.mp4: 256x416 1 Redbull, 8.3ms\n",
            "video 1/1 (frame 609/6094) /content/drive/MyDrive/FormulaOneCarDetection/2021_Final.mp4: 256x416 1 Redbull, 8.3ms\n",
            "video 1/1 (frame 610/6094) /content/drive/MyDrive/FormulaOneCarDetection/2021_Final.mp4: 256x416 1 Redbull, 8.6ms\n",
            "video 1/1 (frame 611/6094) /content/drive/MyDrive/FormulaOneCarDetection/2021_Final.mp4: 256x416 1 Redbull, 8.3ms\n",
            "video 1/1 (frame 612/6094) /content/drive/MyDrive/FormulaOneCarDetection/2021_Final.mp4: 256x416 1 Redbull, 8.3ms\n",
            "video 1/1 (frame 613/6094) /content/drive/MyDrive/FormulaOneCarDetection/2021_Final.mp4: 256x416 1 Redbull, 8.2ms\n",
            "video 1/1 (frame 614/6094) /content/drive/MyDrive/FormulaOneCarDetection/2021_Final.mp4: 256x416 1 Redbull, 8.4ms\n",
            "video 1/1 (frame 615/6094) /content/drive/MyDrive/FormulaOneCarDetection/2021_Final.mp4: 256x416 1 Redbull, 8.4ms\n",
            "video 1/1 (frame 616/6094) /content/drive/MyDrive/FormulaOneCarDetection/2021_Final.mp4: 256x416 1 Redbull, 8.6ms\n",
            "video 1/1 (frame 617/6094) /content/drive/MyDrive/FormulaOneCarDetection/2021_Final.mp4: 256x416 1 Redbull, 8.5ms\n",
            "video 1/1 (frame 618/6094) /content/drive/MyDrive/FormulaOneCarDetection/2021_Final.mp4: 256x416 1 Redbull, 8.4ms\n",
            "video 1/1 (frame 619/6094) /content/drive/MyDrive/FormulaOneCarDetection/2021_Final.mp4: 256x416 1 Redbull, 8.4ms\n",
            "video 1/1 (frame 620/6094) /content/drive/MyDrive/FormulaOneCarDetection/2021_Final.mp4: 256x416 1 Redbull, 8.3ms\n",
            "video 1/1 (frame 621/6094) /content/drive/MyDrive/FormulaOneCarDetection/2021_Final.mp4: 256x416 1 Redbull, 8.2ms\n",
            "video 1/1 (frame 622/6094) /content/drive/MyDrive/FormulaOneCarDetection/2021_Final.mp4: 256x416 1 Redbull, 8.4ms\n",
            "video 1/1 (frame 623/6094) /content/drive/MyDrive/FormulaOneCarDetection/2021_Final.mp4: 256x416 1 Redbull, 8.3ms\n",
            "video 1/1 (frame 624/6094) /content/drive/MyDrive/FormulaOneCarDetection/2021_Final.mp4: 256x416 1 Redbull, 8.3ms\n",
            "video 1/1 (frame 625/6094) /content/drive/MyDrive/FormulaOneCarDetection/2021_Final.mp4: 256x416 1 Redbull, 9.6ms\n",
            "video 1/1 (frame 626/6094) /content/drive/MyDrive/FormulaOneCarDetection/2021_Final.mp4: 256x416 1 Redbull, 8.2ms\n",
            "video 1/1 (frame 627/6094) /content/drive/MyDrive/FormulaOneCarDetection/2021_Final.mp4: 256x416 1 Redbull, 8.3ms\n",
            "video 1/1 (frame 628/6094) /content/drive/MyDrive/FormulaOneCarDetection/2021_Final.mp4: 256x416 1 Redbull, 9.2ms\n",
            "video 1/1 (frame 629/6094) /content/drive/MyDrive/FormulaOneCarDetection/2021_Final.mp4: 256x416 1 Redbull, 8.1ms\n",
            "video 1/1 (frame 630/6094) /content/drive/MyDrive/FormulaOneCarDetection/2021_Final.mp4: 256x416 1 Redbull, 8.3ms\n",
            "video 1/1 (frame 631/6094) /content/drive/MyDrive/FormulaOneCarDetection/2021_Final.mp4: 256x416 1 Redbull, 8.7ms\n",
            "video 1/1 (frame 632/6094) /content/drive/MyDrive/FormulaOneCarDetection/2021_Final.mp4: 256x416 1 Redbull, 8.4ms\n",
            "video 1/1 (frame 633/6094) /content/drive/MyDrive/FormulaOneCarDetection/2021_Final.mp4: 256x416 1 Redbull, 8.1ms\n",
            "video 1/1 (frame 634/6094) /content/drive/MyDrive/FormulaOneCarDetection/2021_Final.mp4: 256x416 1 Redbull, 9.2ms\n",
            "video 1/1 (frame 635/6094) /content/drive/MyDrive/FormulaOneCarDetection/2021_Final.mp4: 256x416 1 Redbull, 8.0ms\n",
            "video 1/1 (frame 636/6094) /content/drive/MyDrive/FormulaOneCarDetection/2021_Final.mp4: 256x416 1 Redbull, 7.9ms\n",
            "video 1/1 (frame 637/6094) /content/drive/MyDrive/FormulaOneCarDetection/2021_Final.mp4: 256x416 1 Redbull, 8.0ms\n",
            "video 1/1 (frame 638/6094) /content/drive/MyDrive/FormulaOneCarDetection/2021_Final.mp4: 256x416 1 Redbull, 8.0ms\n",
            "video 1/1 (frame 639/6094) /content/drive/MyDrive/FormulaOneCarDetection/2021_Final.mp4: 256x416 1 Redbull, 8.0ms\n",
            "video 1/1 (frame 640/6094) /content/drive/MyDrive/FormulaOneCarDetection/2021_Final.mp4: 256x416 1 Redbull, 8.2ms\n",
            "video 1/1 (frame 641/6094) /content/drive/MyDrive/FormulaOneCarDetection/2021_Final.mp4: 256x416 1 Redbull, 8.0ms\n",
            "video 1/1 (frame 642/6094) /content/drive/MyDrive/FormulaOneCarDetection/2021_Final.mp4: 256x416 1 Redbull, 7.9ms\n",
            "video 1/1 (frame 643/6094) /content/drive/MyDrive/FormulaOneCarDetection/2021_Final.mp4: 256x416 1 Redbull, 8.1ms\n",
            "video 1/1 (frame 644/6094) /content/drive/MyDrive/FormulaOneCarDetection/2021_Final.mp4: 256x416 1 Redbull, 8.1ms\n",
            "video 1/1 (frame 645/6094) /content/drive/MyDrive/FormulaOneCarDetection/2021_Final.mp4: 256x416 1 Redbull, 8.4ms\n",
            "video 1/1 (frame 646/6094) /content/drive/MyDrive/FormulaOneCarDetection/2021_Final.mp4: 256x416 1 Redbull, 8.2ms\n",
            "video 1/1 (frame 647/6094) /content/drive/MyDrive/FormulaOneCarDetection/2021_Final.mp4: 256x416 1 Redbull, 8.0ms\n",
            "video 1/1 (frame 648/6094) /content/drive/MyDrive/FormulaOneCarDetection/2021_Final.mp4: 256x416 1 Redbull, 9.4ms\n",
            "video 1/1 (frame 649/6094) /content/drive/MyDrive/FormulaOneCarDetection/2021_Final.mp4: 256x416 1 Redbull, 8.4ms\n",
            "video 1/1 (frame 650/6094) /content/drive/MyDrive/FormulaOneCarDetection/2021_Final.mp4: 256x416 1 Redbull, 7.9ms\n",
            "video 1/1 (frame 651/6094) /content/drive/MyDrive/FormulaOneCarDetection/2021_Final.mp4: 256x416 (no detections), 8.0ms\n",
            "video 1/1 (frame 652/6094) /content/drive/MyDrive/FormulaOneCarDetection/2021_Final.mp4: 256x416 (no detections), 8.1ms\n",
            "video 1/1 (frame 653/6094) /content/drive/MyDrive/FormulaOneCarDetection/2021_Final.mp4: 256x416 (no detections), 8.4ms\n",
            "video 1/1 (frame 654/6094) /content/drive/MyDrive/FormulaOneCarDetection/2021_Final.mp4: 256x416 (no detections), 8.1ms\n",
            "video 1/1 (frame 655/6094) /content/drive/MyDrive/FormulaOneCarDetection/2021_Final.mp4: 256x416 (no detections), 8.3ms\n",
            "video 1/1 (frame 656/6094) /content/drive/MyDrive/FormulaOneCarDetection/2021_Final.mp4: 256x416 (no detections), 8.3ms\n",
            "video 1/1 (frame 657/6094) /content/drive/MyDrive/FormulaOneCarDetection/2021_Final.mp4: 256x416 (no detections), 8.2ms\n",
            "video 1/1 (frame 658/6094) /content/drive/MyDrive/FormulaOneCarDetection/2021_Final.mp4: 256x416 (no detections), 8.0ms\n",
            "video 1/1 (frame 659/6094) /content/drive/MyDrive/FormulaOneCarDetection/2021_Final.mp4: 256x416 (no detections), 10.0ms\n",
            "video 1/1 (frame 660/6094) /content/drive/MyDrive/FormulaOneCarDetection/2021_Final.mp4: 256x416 (no detections), 8.2ms\n",
            "video 1/1 (frame 661/6094) /content/drive/MyDrive/FormulaOneCarDetection/2021_Final.mp4: 256x416 (no detections), 8.3ms\n",
            "video 1/1 (frame 662/6094) /content/drive/MyDrive/FormulaOneCarDetection/2021_Final.mp4: 256x416 (no detections), 8.6ms\n",
            "video 1/1 (frame 663/6094) /content/drive/MyDrive/FormulaOneCarDetection/2021_Final.mp4: 256x416 (no detections), 8.6ms\n",
            "video 1/1 (frame 664/6094) /content/drive/MyDrive/FormulaOneCarDetection/2021_Final.mp4: 256x416 (no detections), 8.6ms\n",
            "video 1/1 (frame 665/6094) /content/drive/MyDrive/FormulaOneCarDetection/2021_Final.mp4: 256x416 (no detections), 8.7ms\n",
            "video 1/1 (frame 666/6094) /content/drive/MyDrive/FormulaOneCarDetection/2021_Final.mp4: 256x416 (no detections), 8.8ms\n",
            "video 1/1 (frame 667/6094) /content/drive/MyDrive/FormulaOneCarDetection/2021_Final.mp4: 256x416 (no detections), 8.3ms\n",
            "video 1/1 (frame 668/6094) /content/drive/MyDrive/FormulaOneCarDetection/2021_Final.mp4: 256x416 (no detections), 8.2ms\n",
            "video 1/1 (frame 669/6094) /content/drive/MyDrive/FormulaOneCarDetection/2021_Final.mp4: 256x416 (no detections), 8.0ms\n",
            "video 1/1 (frame 670/6094) /content/drive/MyDrive/FormulaOneCarDetection/2021_Final.mp4: 256x416 (no detections), 8.2ms\n",
            "video 1/1 (frame 671/6094) /content/drive/MyDrive/FormulaOneCarDetection/2021_Final.mp4: 256x416 (no detections), 13.0ms\n",
            "video 1/1 (frame 672/6094) /content/drive/MyDrive/FormulaOneCarDetection/2021_Final.mp4: 256x416 1 Mercedes, 8.3ms\n",
            "video 1/1 (frame 673/6094) /content/drive/MyDrive/FormulaOneCarDetection/2021_Final.mp4: 256x416 1 Mercedes, 8.1ms\n",
            "video 1/1 (frame 674/6094) /content/drive/MyDrive/FormulaOneCarDetection/2021_Final.mp4: 256x416 1 Mercedes, 8.4ms\n",
            "video 1/1 (frame 675/6094) /content/drive/MyDrive/FormulaOneCarDetection/2021_Final.mp4: 256x416 (no detections), 8.3ms\n",
            "video 1/1 (frame 676/6094) /content/drive/MyDrive/FormulaOneCarDetection/2021_Final.mp4: 256x416 1 Mercedes, 8.2ms\n",
            "video 1/1 (frame 677/6094) /content/drive/MyDrive/FormulaOneCarDetection/2021_Final.mp4: 256x416 1 Mercedes, 8.1ms\n",
            "video 1/1 (frame 678/6094) /content/drive/MyDrive/FormulaOneCarDetection/2021_Final.mp4: 256x416 1 Mercedes, 8.2ms\n",
            "video 1/1 (frame 679/6094) /content/drive/MyDrive/FormulaOneCarDetection/2021_Final.mp4: 256x416 1 Mercedes, 8.2ms\n",
            "video 1/1 (frame 680/6094) /content/drive/MyDrive/FormulaOneCarDetection/2021_Final.mp4: 256x416 1 Mercedes, 8.2ms\n",
            "video 1/1 (frame 681/6094) /content/drive/MyDrive/FormulaOneCarDetection/2021_Final.mp4: 256x416 1 Mercedes, 8.5ms\n",
            "video 1/1 (frame 682/6094) /content/drive/MyDrive/FormulaOneCarDetection/2021_Final.mp4: 256x416 1 Mercedes, 10.6ms\n",
            "video 1/1 (frame 683/6094) /content/drive/MyDrive/FormulaOneCarDetection/2021_Final.mp4: 256x416 1 Mercedes, 8.4ms\n",
            "video 1/1 (frame 684/6094) /content/drive/MyDrive/FormulaOneCarDetection/2021_Final.mp4: 256x416 1 Mercedes, 8.6ms\n",
            "video 1/1 (frame 685/6094) /content/drive/MyDrive/FormulaOneCarDetection/2021_Final.mp4: 256x416 1 Mercedes, 11.1ms\n",
            "video 1/1 (frame 686/6094) /content/drive/MyDrive/FormulaOneCarDetection/2021_Final.mp4: 256x416 1 Mercedes, 10.6ms\n",
            "video 1/1 (frame 687/6094) /content/drive/MyDrive/FormulaOneCarDetection/2021_Final.mp4: 256x416 1 Mercedes, 11.5ms\n",
            "video 1/1 (frame 688/6094) /content/drive/MyDrive/FormulaOneCarDetection/2021_Final.mp4: 256x416 1 Mercedes, 8.1ms\n",
            "video 1/1 (frame 689/6094) /content/drive/MyDrive/FormulaOneCarDetection/2021_Final.mp4: 256x416 1 Mercedes, 8.4ms\n",
            "video 1/1 (frame 690/6094) /content/drive/MyDrive/FormulaOneCarDetection/2021_Final.mp4: 256x416 1 Mercedes, 8.1ms\n",
            "video 1/1 (frame 691/6094) /content/drive/MyDrive/FormulaOneCarDetection/2021_Final.mp4: 256x416 1 Mercedes, 10.8ms\n",
            "video 1/1 (frame 692/6094) /content/drive/MyDrive/FormulaOneCarDetection/2021_Final.mp4: 256x416 1 Mercedes, 8.1ms\n",
            "video 1/1 (frame 693/6094) /content/drive/MyDrive/FormulaOneCarDetection/2021_Final.mp4: 256x416 1 Mercedes, 8.0ms\n",
            "video 1/1 (frame 694/6094) /content/drive/MyDrive/FormulaOneCarDetection/2021_Final.mp4: 256x416 1 Mercedes, 11.2ms\n",
            "video 1/1 (frame 695/6094) /content/drive/MyDrive/FormulaOneCarDetection/2021_Final.mp4: 256x416 1 Mercedes, 10.2ms\n",
            "video 1/1 (frame 696/6094) /content/drive/MyDrive/FormulaOneCarDetection/2021_Final.mp4: 256x416 1 Mercedes, 8.1ms\n",
            "video 1/1 (frame 697/6094) /content/drive/MyDrive/FormulaOneCarDetection/2021_Final.mp4: 256x416 1 Mercedes, 10.3ms\n",
            "video 1/1 (frame 698/6094) /content/drive/MyDrive/FormulaOneCarDetection/2021_Final.mp4: 256x416 1 Mercedes, 10.1ms\n",
            "video 1/1 (frame 699/6094) /content/drive/MyDrive/FormulaOneCarDetection/2021_Final.mp4: 256x416 1 Mercedes, 10.3ms\n",
            "video 1/1 (frame 700/6094) /content/drive/MyDrive/FormulaOneCarDetection/2021_Final.mp4: 256x416 1 Mercedes, 8.4ms\n",
            "video 1/1 (frame 701/6094) /content/drive/MyDrive/FormulaOneCarDetection/2021_Final.mp4: 256x416 1 Mercedes, 8.2ms\n",
            "video 1/1 (frame 702/6094) /content/drive/MyDrive/FormulaOneCarDetection/2021_Final.mp4: 256x416 1 Mercedes, 8.5ms\n",
            "video 1/1 (frame 703/6094) /content/drive/MyDrive/FormulaOneCarDetection/2021_Final.mp4: 256x416 1 Mercedes, 11.1ms\n",
            "video 1/1 (frame 704/6094) /content/drive/MyDrive/FormulaOneCarDetection/2021_Final.mp4: 256x416 1 Mercedes, 8.5ms\n",
            "video 1/1 (frame 705/6094) /content/drive/MyDrive/FormulaOneCarDetection/2021_Final.mp4: 256x416 1 Mercedes, 8.5ms\n",
            "video 1/1 (frame 706/6094) /content/drive/MyDrive/FormulaOneCarDetection/2021_Final.mp4: 256x416 1 Mercedes, 10.7ms\n",
            "video 1/1 (frame 707/6094) /content/drive/MyDrive/FormulaOneCarDetection/2021_Final.mp4: 256x416 1 Mercedes, 11.0ms\n",
            "video 1/1 (frame 708/6094) /content/drive/MyDrive/FormulaOneCarDetection/2021_Final.mp4: 256x416 1 Mercedes, 8.3ms\n",
            "video 1/1 (frame 709/6094) /content/drive/MyDrive/FormulaOneCarDetection/2021_Final.mp4: 256x416 1 Mercedes, 11.2ms\n",
            "video 1/1 (frame 710/6094) /content/drive/MyDrive/FormulaOneCarDetection/2021_Final.mp4: 256x416 1 Mercedes, 10.3ms\n",
            "video 1/1 (frame 711/6094) /content/drive/MyDrive/FormulaOneCarDetection/2021_Final.mp4: 256x416 1 Mercedes, 10.1ms\n",
            "video 1/1 (frame 712/6094) /content/drive/MyDrive/FormulaOneCarDetection/2021_Final.mp4: 256x416 1 Mercedes, 8.0ms\n",
            "video 1/1 (frame 713/6094) /content/drive/MyDrive/FormulaOneCarDetection/2021_Final.mp4: 256x416 1 Mercedes, 8.1ms\n",
            "video 1/1 (frame 714/6094) /content/drive/MyDrive/FormulaOneCarDetection/2021_Final.mp4: 256x416 1 Mercedes, 8.1ms\n",
            "video 1/1 (frame 715/6094) /content/drive/MyDrive/FormulaOneCarDetection/2021_Final.mp4: 256x416 1 Mercedes, 10.1ms\n",
            "video 1/1 (frame 716/6094) /content/drive/MyDrive/FormulaOneCarDetection/2021_Final.mp4: 256x416 1 Mercedes, 8.1ms\n",
            "video 1/1 (frame 717/6094) /content/drive/MyDrive/FormulaOneCarDetection/2021_Final.mp4: 256x416 1 Mercedes, 8.0ms\n",
            "video 1/1 (frame 718/6094) /content/drive/MyDrive/FormulaOneCarDetection/2021_Final.mp4: 256x416 1 Mclaren, 1 Mercedes, 10.6ms\n",
            "video 1/1 (frame 719/6094) /content/drive/MyDrive/FormulaOneCarDetection/2021_Final.mp4: 256x416 1 Mercedes, 10.7ms\n",
            "video 1/1 (frame 720/6094) /content/drive/MyDrive/FormulaOneCarDetection/2021_Final.mp4: 256x416 1 Mercedes, 8.0ms\n",
            "video 1/1 (frame 721/6094) /content/drive/MyDrive/FormulaOneCarDetection/2021_Final.mp4: 256x416 1 Mercedes, 9.9ms\n",
            "video 1/1 (frame 722/6094) /content/drive/MyDrive/FormulaOneCarDetection/2021_Final.mp4: 256x416 1 Mclaren, 1 Mercedes, 8.3ms\n",
            "video 1/1 (frame 723/6094) /content/drive/MyDrive/FormulaOneCarDetection/2021_Final.mp4: 256x416 1 Mercedes, 8.1ms\n",
            "video 1/1 (frame 724/6094) /content/drive/MyDrive/FormulaOneCarDetection/2021_Final.mp4: 256x416 1 Mclaren, 1 Mercedes, 8.2ms\n",
            "video 1/1 (frame 725/6094) /content/drive/MyDrive/FormulaOneCarDetection/2021_Final.mp4: 256x416 1 Mercedes, 10.2ms\n",
            "video 1/1 (frame 726/6094) /content/drive/MyDrive/FormulaOneCarDetection/2021_Final.mp4: 256x416 1 Mercedes, 8.2ms\n",
            "video 1/1 (frame 727/6094) /content/drive/MyDrive/FormulaOneCarDetection/2021_Final.mp4: 256x416 1 Mercedes, 8.0ms\n",
            "video 1/1 (frame 728/6094) /content/drive/MyDrive/FormulaOneCarDetection/2021_Final.mp4: 256x416 2 Mercedess, 8.5ms\n",
            "video 1/1 (frame 729/6094) /content/drive/MyDrive/FormulaOneCarDetection/2021_Final.mp4: 256x416 1 Mercedes, 10.2ms\n",
            "video 1/1 (frame 730/6094) /content/drive/MyDrive/FormulaOneCarDetection/2021_Final.mp4: 256x416 1 Mercedes, 8.4ms\n",
            "video 1/1 (frame 731/6094) /content/drive/MyDrive/FormulaOneCarDetection/2021_Final.mp4: 256x416 1 Mercedes, 8.2ms\n",
            "video 1/1 (frame 732/6094) /content/drive/MyDrive/FormulaOneCarDetection/2021_Final.mp4: 256x416 1 Mercedes, 1 Redbull, 8.2ms\n",
            "video 1/1 (frame 733/6094) /content/drive/MyDrive/FormulaOneCarDetection/2021_Final.mp4: 256x416 1 Mclaren, 1 Mercedes, 8.2ms\n",
            "video 1/1 (frame 734/6094) /content/drive/MyDrive/FormulaOneCarDetection/2021_Final.mp4: 256x416 1 Mercedes, 1 Redbull, 8.0ms\n",
            "video 1/1 (frame 735/6094) /content/drive/MyDrive/FormulaOneCarDetection/2021_Final.mp4: 256x416 1 Mercedes, 1 Redbull, 8.0ms\n",
            "video 1/1 (frame 736/6094) /content/drive/MyDrive/FormulaOneCarDetection/2021_Final.mp4: 256x416 1 Mercedes, 1 Redbull, 8.4ms\n",
            "video 1/1 (frame 737/6094) /content/drive/MyDrive/FormulaOneCarDetection/2021_Final.mp4: 256x416 1 Mercedes, 1 Redbull, 10.0ms\n",
            "video 1/1 (frame 738/6094) /content/drive/MyDrive/FormulaOneCarDetection/2021_Final.mp4: 256x416 1 Mercedes, 1 Redbull, 9.4ms\n",
            "video 1/1 (frame 739/6094) /content/drive/MyDrive/FormulaOneCarDetection/2021_Final.mp4: 256x416 1 Mercedes, 1 Redbull, 8.3ms\n",
            "video 1/1 (frame 740/6094) /content/drive/MyDrive/FormulaOneCarDetection/2021_Final.mp4: 256x416 1 Mercedes, 1 Redbull, 8.1ms\n",
            "video 1/1 (frame 741/6094) /content/drive/MyDrive/FormulaOneCarDetection/2021_Final.mp4: 256x416 1 Mercedes, 1 Redbull, 8.1ms\n",
            "video 1/1 (frame 742/6094) /content/drive/MyDrive/FormulaOneCarDetection/2021_Final.mp4: 256x416 1 Mercedes, 1 Redbull, 8.0ms\n",
            "video 1/1 (frame 743/6094) /content/drive/MyDrive/FormulaOneCarDetection/2021_Final.mp4: 256x416 1 Mercedes, 1 Redbull, 7.9ms\n",
            "video 1/1 (frame 744/6094) /content/drive/MyDrive/FormulaOneCarDetection/2021_Final.mp4: 256x416 1 Mercedes, 1 Redbull, 8.2ms\n",
            "video 1/1 (frame 745/6094) /content/drive/MyDrive/FormulaOneCarDetection/2021_Final.mp4: 256x416 1 Mercedes, 1 Redbull, 8.3ms\n",
            "video 1/1 (frame 746/6094) /content/drive/MyDrive/FormulaOneCarDetection/2021_Final.mp4: 256x416 1 Mercedes, 1 Redbull, 8.2ms\n",
            "video 1/1 (frame 747/6094) /content/drive/MyDrive/FormulaOneCarDetection/2021_Final.mp4: 256x416 1 Mercedes, 1 Redbull, 8.3ms\n",
            "video 1/1 (frame 748/6094) /content/drive/MyDrive/FormulaOneCarDetection/2021_Final.mp4: 256x416 1 Mercedes, 1 Redbull, 8.2ms\n",
            "video 1/1 (frame 749/6094) /content/drive/MyDrive/FormulaOneCarDetection/2021_Final.mp4: 256x416 1 Mercedes, 1 Redbull, 10.2ms\n",
            "video 1/1 (frame 750/6094) /content/drive/MyDrive/FormulaOneCarDetection/2021_Final.mp4: 256x416 1 Mercedes, 1 Redbull, 8.4ms\n",
            "video 1/1 (frame 751/6094) /content/drive/MyDrive/FormulaOneCarDetection/2021_Final.mp4: 256x416 1 Mercedes, 1 Redbull, 8.2ms\n",
            "video 1/1 (frame 752/6094) /content/drive/MyDrive/FormulaOneCarDetection/2021_Final.mp4: 256x416 1 Mercedes, 1 Redbull, 8.2ms\n",
            "video 1/1 (frame 753/6094) /content/drive/MyDrive/FormulaOneCarDetection/2021_Final.mp4: 256x416 1 Mercedes, 1 Redbull, 8.2ms\n",
            "video 1/1 (frame 754/6094) /content/drive/MyDrive/FormulaOneCarDetection/2021_Final.mp4: 256x416 1 Mercedes, 1 Redbull, 8.4ms\n",
            "video 1/1 (frame 755/6094) /content/drive/MyDrive/FormulaOneCarDetection/2021_Final.mp4: 256x416 1 Mercedes, 1 Redbull, 8.1ms\n",
            "video 1/1 (frame 756/6094) /content/drive/MyDrive/FormulaOneCarDetection/2021_Final.mp4: 256x416 1 Mercedes, 1 Redbull, 8.0ms\n",
            "video 1/1 (frame 757/6094) /content/drive/MyDrive/FormulaOneCarDetection/2021_Final.mp4: 256x416 1 Mercedes, 1 Redbull, 8.1ms\n",
            "video 1/1 (frame 758/6094) /content/drive/MyDrive/FormulaOneCarDetection/2021_Final.mp4: 256x416 1 Mercedes, 1 Redbull, 8.5ms\n",
            "video 1/1 (frame 759/6094) /content/drive/MyDrive/FormulaOneCarDetection/2021_Final.mp4: 256x416 1 Mercedes, 1 Redbull, 8.1ms\n",
            "video 1/1 (frame 760/6094) /content/drive/MyDrive/FormulaOneCarDetection/2021_Final.mp4: 256x416 1 Mercedes, 8.1ms\n",
            "video 1/1 (frame 761/6094) /content/drive/MyDrive/FormulaOneCarDetection/2021_Final.mp4: 256x416 1 Mercedes, 10.2ms\n",
            "video 1/1 (frame 762/6094) /content/drive/MyDrive/FormulaOneCarDetection/2021_Final.mp4: 256x416 1 Mercedes, 8.9ms\n",
            "video 1/1 (frame 763/6094) /content/drive/MyDrive/FormulaOneCarDetection/2021_Final.mp4: 256x416 1 Mercedes, 7.9ms\n",
            "video 1/1 (frame 764/6094) /content/drive/MyDrive/FormulaOneCarDetection/2021_Final.mp4: 256x416 1 Mercedes, 8.0ms\n",
            "video 1/1 (frame 765/6094) /content/drive/MyDrive/FormulaOneCarDetection/2021_Final.mp4: 256x416 1 Mercedes, 8.0ms\n",
            "video 1/1 (frame 766/6094) /content/drive/MyDrive/FormulaOneCarDetection/2021_Final.mp4: 256x416 1 Mercedes, 7.9ms\n",
            "video 1/1 (frame 767/6094) /content/drive/MyDrive/FormulaOneCarDetection/2021_Final.mp4: 256x416 1 Mercedes, 7.9ms\n",
            "video 1/1 (frame 768/6094) /content/drive/MyDrive/FormulaOneCarDetection/2021_Final.mp4: 256x416 1 Mercedes, 7.9ms\n",
            "video 1/1 (frame 769/6094) /content/drive/MyDrive/FormulaOneCarDetection/2021_Final.mp4: 256x416 1 Mercedes, 8.0ms\n",
            "video 1/1 (frame 770/6094) /content/drive/MyDrive/FormulaOneCarDetection/2021_Final.mp4: 256x416 1 Mercedes, 8.3ms\n",
            "video 1/1 (frame 771/6094) /content/drive/MyDrive/FormulaOneCarDetection/2021_Final.mp4: 256x416 1 Mercedes, 8.2ms\n",
            "video 1/1 (frame 772/6094) /content/drive/MyDrive/FormulaOneCarDetection/2021_Final.mp4: 256x416 1 Mercedes, 8.1ms\n",
            "video 1/1 (frame 773/6094) /content/drive/MyDrive/FormulaOneCarDetection/2021_Final.mp4: 256x416 1 Mercedes, 11.2ms\n",
            "video 1/1 (frame 774/6094) /content/drive/MyDrive/FormulaOneCarDetection/2021_Final.mp4: 256x416 1 Mercedes, 8.5ms\n",
            "video 1/1 (frame 775/6094) /content/drive/MyDrive/FormulaOneCarDetection/2021_Final.mp4: 256x416 1 Mercedes, 8.2ms\n",
            "video 1/1 (frame 776/6094) /content/drive/MyDrive/FormulaOneCarDetection/2021_Final.mp4: 256x416 1 Mercedes, 8.4ms\n",
            "video 1/1 (frame 777/6094) /content/drive/MyDrive/FormulaOneCarDetection/2021_Final.mp4: 256x416 1 Mercedes, 8.3ms\n",
            "video 1/1 (frame 778/6094) /content/drive/MyDrive/FormulaOneCarDetection/2021_Final.mp4: 256x416 1 Mercedes, 8.1ms\n",
            "video 1/1 (frame 779/6094) /content/drive/MyDrive/FormulaOneCarDetection/2021_Final.mp4: 256x416 1 Mercedes, 8.0ms\n",
            "video 1/1 (frame 780/6094) /content/drive/MyDrive/FormulaOneCarDetection/2021_Final.mp4: 256x416 1 Mercedes, 8.7ms\n",
            "video 1/1 (frame 781/6094) /content/drive/MyDrive/FormulaOneCarDetection/2021_Final.mp4: 256x416 (no detections), 8.2ms\n",
            "video 1/1 (frame 782/6094) /content/drive/MyDrive/FormulaOneCarDetection/2021_Final.mp4: 256x416 1 Mercedes, 8.4ms\n",
            "video 1/1 (frame 783/6094) /content/drive/MyDrive/FormulaOneCarDetection/2021_Final.mp4: 256x416 1 Mercedes, 8.3ms\n",
            "video 1/1 (frame 784/6094) /content/drive/MyDrive/FormulaOneCarDetection/2021_Final.mp4: 256x416 1 Mercedes, 8.2ms\n",
            "video 1/1 (frame 785/6094) /content/drive/MyDrive/FormulaOneCarDetection/2021_Final.mp4: 256x416 1 Mercedes, 8.7ms\n",
            "video 1/1 (frame 786/6094) /content/drive/MyDrive/FormulaOneCarDetection/2021_Final.mp4: 256x416 1 Mercedes, 8.5ms\n",
            "video 1/1 (frame 787/6094) /content/drive/MyDrive/FormulaOneCarDetection/2021_Final.mp4: 256x416 1 Mercedes, 9.2ms\n",
            "video 1/1 (frame 788/6094) /content/drive/MyDrive/FormulaOneCarDetection/2021_Final.mp4: 256x416 1 Mercedes, 8.5ms\n",
            "video 1/1 (frame 789/6094) /content/drive/MyDrive/FormulaOneCarDetection/2021_Final.mp4: 256x416 1 Mercedes, 8.7ms\n",
            "video 1/1 (frame 790/6094) /content/drive/MyDrive/FormulaOneCarDetection/2021_Final.mp4: 256x416 1 Mercedes, 8.3ms\n",
            "video 1/1 (frame 791/6094) /content/drive/MyDrive/FormulaOneCarDetection/2021_Final.mp4: 256x416 1 Mercedes, 8.2ms\n",
            "video 1/1 (frame 792/6094) /content/drive/MyDrive/FormulaOneCarDetection/2021_Final.mp4: 256x416 1 Mercedes, 8.6ms\n",
            "video 1/1 (frame 793/6094) /content/drive/MyDrive/FormulaOneCarDetection/2021_Final.mp4: 256x416 1 Mercedes, 9.8ms\n",
            "video 1/1 (frame 794/6094) /content/drive/MyDrive/FormulaOneCarDetection/2021_Final.mp4: 256x416 1 Mercedes, 8.7ms\n",
            "video 1/1 (frame 795/6094) /content/drive/MyDrive/FormulaOneCarDetection/2021_Final.mp4: 256x416 1 Mercedes, 8.5ms\n",
            "video 1/1 (frame 796/6094) /content/drive/MyDrive/FormulaOneCarDetection/2021_Final.mp4: 256x416 (no detections), 8.6ms\n",
            "video 1/1 (frame 797/6094) /content/drive/MyDrive/FormulaOneCarDetection/2021_Final.mp4: 256x416 1 Mercedes, 8.6ms\n",
            "video 1/1 (frame 798/6094) /content/drive/MyDrive/FormulaOneCarDetection/2021_Final.mp4: 256x416 1 Mercedes, 8.6ms\n",
            "video 1/1 (frame 799/6094) /content/drive/MyDrive/FormulaOneCarDetection/2021_Final.mp4: 256x416 1 Mercedes, 8.9ms\n",
            "video 1/1 (frame 800/6094) /content/drive/MyDrive/FormulaOneCarDetection/2021_Final.mp4: 256x416 1 Mercedes, 8.5ms\n",
            "video 1/1 (frame 801/6094) /content/drive/MyDrive/FormulaOneCarDetection/2021_Final.mp4: 256x416 1 Mercedes, 8.5ms\n",
            "video 1/1 (frame 802/6094) /content/drive/MyDrive/FormulaOneCarDetection/2021_Final.mp4: 256x416 1 Mercedes, 8.2ms\n",
            "video 1/1 (frame 803/6094) /content/drive/MyDrive/FormulaOneCarDetection/2021_Final.mp4: 256x416 1 Mercedes, 8.4ms\n",
            "video 1/1 (frame 804/6094) /content/drive/MyDrive/FormulaOneCarDetection/2021_Final.mp4: 256x416 1 Mercedes, 11.0ms\n",
            "video 1/1 (frame 805/6094) /content/drive/MyDrive/FormulaOneCarDetection/2021_Final.mp4: 256x416 1 Mercedes, 8.4ms\n",
            "video 1/1 (frame 806/6094) /content/drive/MyDrive/FormulaOneCarDetection/2021_Final.mp4: 256x416 1 Mercedes, 8.4ms\n",
            "video 1/1 (frame 807/6094) /content/drive/MyDrive/FormulaOneCarDetection/2021_Final.mp4: 256x416 1 Mercedes, 8.2ms\n",
            "video 1/1 (frame 808/6094) /content/drive/MyDrive/FormulaOneCarDetection/2021_Final.mp4: 256x416 1 Mercedes, 8.0ms\n",
            "video 1/1 (frame 809/6094) /content/drive/MyDrive/FormulaOneCarDetection/2021_Final.mp4: 256x416 1 Mercedes, 8.0ms\n",
            "video 1/1 (frame 810/6094) /content/drive/MyDrive/FormulaOneCarDetection/2021_Final.mp4: 256x416 1 Mercedes, 8.0ms\n",
            "video 1/1 (frame 811/6094) /content/drive/MyDrive/FormulaOneCarDetection/2021_Final.mp4: 256x416 1 Mercedes, 8.6ms\n",
            "video 1/1 (frame 812/6094) /content/drive/MyDrive/FormulaOneCarDetection/2021_Final.mp4: 256x416 1 Mercedes, 10.0ms\n",
            "video 1/1 (frame 813/6094) /content/drive/MyDrive/FormulaOneCarDetection/2021_Final.mp4: 256x416 1 Mercedes, 8.4ms\n",
            "video 1/1 (frame 814/6094) /content/drive/MyDrive/FormulaOneCarDetection/2021_Final.mp4: 256x416 1 Mercedes, 8.8ms\n",
            "video 1/1 (frame 815/6094) /content/drive/MyDrive/FormulaOneCarDetection/2021_Final.mp4: 256x416 1 Mercedes, 8.8ms\n",
            "video 1/1 (frame 816/6094) /content/drive/MyDrive/FormulaOneCarDetection/2021_Final.mp4: 256x416 1 Mercedes, 10.6ms\n",
            "video 1/1 (frame 817/6094) /content/drive/MyDrive/FormulaOneCarDetection/2021_Final.mp4: 256x416 1 Mercedes, 8.8ms\n",
            "video 1/1 (frame 818/6094) /content/drive/MyDrive/FormulaOneCarDetection/2021_Final.mp4: 256x416 1 Mercedes, 8.5ms\n",
            "video 1/1 (frame 819/6094) /content/drive/MyDrive/FormulaOneCarDetection/2021_Final.mp4: 256x416 1 Mercedes, 8.6ms\n",
            "video 1/1 (frame 820/6094) /content/drive/MyDrive/FormulaOneCarDetection/2021_Final.mp4: 256x416 1 Mercedes, 8.4ms\n",
            "video 1/1 (frame 821/6094) /content/drive/MyDrive/FormulaOneCarDetection/2021_Final.mp4: 256x416 1 Mercedes, 8.3ms\n",
            "video 1/1 (frame 822/6094) /content/drive/MyDrive/FormulaOneCarDetection/2021_Final.mp4: 256x416 1 Mercedes, 9.6ms\n",
            "video 1/1 (frame 823/6094) /content/drive/MyDrive/FormulaOneCarDetection/2021_Final.mp4: 256x416 1 Mercedes, 8.6ms\n",
            "video 1/1 (frame 824/6094) /content/drive/MyDrive/FormulaOneCarDetection/2021_Final.mp4: 256x416 1 Mercedes, 18.5ms\n",
            "video 1/1 (frame 825/6094) /content/drive/MyDrive/FormulaOneCarDetection/2021_Final.mp4: 256x416 1 Mercedes, 8.1ms\n",
            "video 1/1 (frame 826/6094) /content/drive/MyDrive/FormulaOneCarDetection/2021_Final.mp4: 256x416 1 Mercedes, 8.3ms\n",
            "video 1/1 (frame 827/6094) /content/drive/MyDrive/FormulaOneCarDetection/2021_Final.mp4: 256x416 1 Mercedes, 8.3ms\n",
            "video 1/1 (frame 828/6094) /content/drive/MyDrive/FormulaOneCarDetection/2021_Final.mp4: 256x416 1 Mercedes, 8.1ms\n",
            "video 1/1 (frame 829/6094) /content/drive/MyDrive/FormulaOneCarDetection/2021_Final.mp4: 256x416 1 Mercedes, 8.4ms\n",
            "video 1/1 (frame 830/6094) /content/drive/MyDrive/FormulaOneCarDetection/2021_Final.mp4: 256x416 2 Mercedess, 8.9ms\n",
            "video 1/1 (frame 831/6094) /content/drive/MyDrive/FormulaOneCarDetection/2021_Final.mp4: 256x416 2 Mercedess, 8.8ms\n",
            "video 1/1 (frame 832/6094) /content/drive/MyDrive/FormulaOneCarDetection/2021_Final.mp4: 256x416 1 Mercedes, 8.1ms\n",
            "video 1/1 (frame 833/6094) /content/drive/MyDrive/FormulaOneCarDetection/2021_Final.mp4: 256x416 1 Mercedes, 8.1ms\n",
            "video 1/1 (frame 834/6094) /content/drive/MyDrive/FormulaOneCarDetection/2021_Final.mp4: 256x416 1 Mercedes, 8.2ms\n",
            "video 1/1 (frame 835/6094) /content/drive/MyDrive/FormulaOneCarDetection/2021_Final.mp4: 256x416 1 Mercedes, 8.3ms\n",
            "video 1/1 (frame 836/6094) /content/drive/MyDrive/FormulaOneCarDetection/2021_Final.mp4: 256x416 1 Mercedes, 8.4ms\n",
            "video 1/1 (frame 837/6094) /content/drive/MyDrive/FormulaOneCarDetection/2021_Final.mp4: 256x416 1 Mercedes, 8.8ms\n",
            "video 1/1 (frame 838/6094) /content/drive/MyDrive/FormulaOneCarDetection/2021_Final.mp4: 256x416 1 Mercedes, 8.2ms\n",
            "video 1/1 (frame 839/6094) /content/drive/MyDrive/FormulaOneCarDetection/2021_Final.mp4: 256x416 1 Mercedes, 8.1ms\n",
            "video 1/1 (frame 840/6094) /content/drive/MyDrive/FormulaOneCarDetection/2021_Final.mp4: 256x416 1 Mercedes, 8.2ms\n",
            "video 1/1 (frame 841/6094) /content/drive/MyDrive/FormulaOneCarDetection/2021_Final.mp4: 256x416 1 Mercedes, 8.3ms\n",
            "video 1/1 (frame 842/6094) /content/drive/MyDrive/FormulaOneCarDetection/2021_Final.mp4: 256x416 1 Mercedes, 8.3ms\n",
            "video 1/1 (frame 843/6094) /content/drive/MyDrive/FormulaOneCarDetection/2021_Final.mp4: 256x416 1 Mercedes, 8.3ms\n",
            "video 1/1 (frame 844/6094) /content/drive/MyDrive/FormulaOneCarDetection/2021_Final.mp4: 256x416 1 Mercedes, 9.5ms\n",
            "video 1/1 (frame 845/6094) /content/drive/MyDrive/FormulaOneCarDetection/2021_Final.mp4: 256x416 1 Mercedes, 8.3ms\n",
            "video 1/1 (frame 846/6094) /content/drive/MyDrive/FormulaOneCarDetection/2021_Final.mp4: 256x416 1 Mercedes, 8.2ms\n",
            "video 1/1 (frame 847/6094) /content/drive/MyDrive/FormulaOneCarDetection/2021_Final.mp4: 256x416 1 Mercedes, 1 Redbull, 8.1ms\n",
            "video 1/1 (frame 848/6094) /content/drive/MyDrive/FormulaOneCarDetection/2021_Final.mp4: 256x416 1 Mercedes, 2 Redbulls, 8.1ms\n",
            "video 1/1 (frame 849/6094) /content/drive/MyDrive/FormulaOneCarDetection/2021_Final.mp4: 256x416 1 Mercedes, 1 Redbull, 8.8ms\n",
            "video 1/1 (frame 850/6094) /content/drive/MyDrive/FormulaOneCarDetection/2021_Final.mp4: 256x416 1 Mercedes, 8.9ms\n",
            "video 1/1 (frame 851/6094) /content/drive/MyDrive/FormulaOneCarDetection/2021_Final.mp4: 256x416 1 Mercedes, 1 Redbull, 11.3ms\n",
            "video 1/1 (frame 852/6094) /content/drive/MyDrive/FormulaOneCarDetection/2021_Final.mp4: 256x416 1 Mercedes, 1 Redbull, 11.8ms\n",
            "video 1/1 (frame 853/6094) /content/drive/MyDrive/FormulaOneCarDetection/2021_Final.mp4: 256x416 1 Mercedes, 1 Redbull, 11.8ms\n",
            "video 1/1 (frame 854/6094) /content/drive/MyDrive/FormulaOneCarDetection/2021_Final.mp4: 256x416 1 Mercedes, 1 Redbull, 8.6ms\n",
            "video 1/1 (frame 855/6094) /content/drive/MyDrive/FormulaOneCarDetection/2021_Final.mp4: 256x416 1 Mercedes, 1 Redbull, 8.3ms\n",
            "video 1/1 (frame 856/6094) /content/drive/MyDrive/FormulaOneCarDetection/2021_Final.mp4: 256x416 1 Mercedes, 1 Redbull, 8.3ms\n",
            "video 1/1 (frame 857/6094) /content/drive/MyDrive/FormulaOneCarDetection/2021_Final.mp4: 256x416 1 Mercedes, 1 Redbull, 8.1ms\n",
            "video 1/1 (frame 858/6094) /content/drive/MyDrive/FormulaOneCarDetection/2021_Final.mp4: 256x416 1 Mercedes, 1 Redbull, 8.2ms\n",
            "video 1/1 (frame 859/6094) /content/drive/MyDrive/FormulaOneCarDetection/2021_Final.mp4: 256x416 1 Mercedes, 1 Redbull, 8.1ms\n",
            "video 1/1 (frame 860/6094) /content/drive/MyDrive/FormulaOneCarDetection/2021_Final.mp4: 256x416 1 Mercedes, 1 Redbull, 8.3ms\n",
            "video 1/1 (frame 861/6094) /content/drive/MyDrive/FormulaOneCarDetection/2021_Final.mp4: 256x416 1 Mercedes, 1 Redbull, 8.1ms\n",
            "video 1/1 (frame 862/6094) /content/drive/MyDrive/FormulaOneCarDetection/2021_Final.mp4: 256x416 1 Mercedes, 1 Redbull, 8.1ms\n",
            "video 1/1 (frame 863/6094) /content/drive/MyDrive/FormulaOneCarDetection/2021_Final.mp4: 256x416 1 Mercedes, 1 Redbull, 13.5ms\n",
            "video 1/1 (frame 864/6094) /content/drive/MyDrive/FormulaOneCarDetection/2021_Final.mp4: 256x416 1 Mercedes, 1 Redbull, 8.0ms\n",
            "video 1/1 (frame 865/6094) /content/drive/MyDrive/FormulaOneCarDetection/2021_Final.mp4: 256x416 1 Mercedes, 1 Redbull, 8.6ms\n",
            "video 1/1 (frame 866/6094) /content/drive/MyDrive/FormulaOneCarDetection/2021_Final.mp4: 256x416 1 Mercedes, 1 Redbull, 8.2ms\n",
            "video 1/1 (frame 867/6094) /content/drive/MyDrive/FormulaOneCarDetection/2021_Final.mp4: 256x416 1 Mercedes, 1 Redbull, 8.1ms\n",
            "video 1/1 (frame 868/6094) /content/drive/MyDrive/FormulaOneCarDetection/2021_Final.mp4: 256x416 1 Mercedes, 1 Redbull, 9.2ms\n",
            "video 1/1 (frame 869/6094) /content/drive/MyDrive/FormulaOneCarDetection/2021_Final.mp4: 256x416 1 Mercedes, 1 Redbull, 8.2ms\n",
            "video 1/1 (frame 870/6094) /content/drive/MyDrive/FormulaOneCarDetection/2021_Final.mp4: 256x416 1 Mercedes, 1 Redbull, 8.4ms\n",
            "video 1/1 (frame 871/6094) /content/drive/MyDrive/FormulaOneCarDetection/2021_Final.mp4: 256x416 1 Mercedes, 7.9ms\n",
            "video 1/1 (frame 872/6094) /content/drive/MyDrive/FormulaOneCarDetection/2021_Final.mp4: 256x416 1 Mercedes, 11.3ms\n",
            "video 1/1 (frame 873/6094) /content/drive/MyDrive/FormulaOneCarDetection/2021_Final.mp4: 256x416 (no detections), 8.3ms\n",
            "video 1/1 (frame 874/6094) /content/drive/MyDrive/FormulaOneCarDetection/2021_Final.mp4: 256x416 (no detections), 10.3ms\n",
            "video 1/1 (frame 875/6094) /content/drive/MyDrive/FormulaOneCarDetection/2021_Final.mp4: 256x416 (no detections), 8.0ms\n",
            "video 1/1 (frame 876/6094) /content/drive/MyDrive/FormulaOneCarDetection/2021_Final.mp4: 256x416 (no detections), 8.7ms\n",
            "video 1/1 (frame 877/6094) /content/drive/MyDrive/FormulaOneCarDetection/2021_Final.mp4: 256x416 1 Redbull, 8.2ms\n",
            "video 1/1 (frame 878/6094) /content/drive/MyDrive/FormulaOneCarDetection/2021_Final.mp4: 256x416 (no detections), 8.2ms\n",
            "video 1/1 (frame 879/6094) /content/drive/MyDrive/FormulaOneCarDetection/2021_Final.mp4: 256x416 (no detections), 8.5ms\n",
            "video 1/1 (frame 880/6094) /content/drive/MyDrive/FormulaOneCarDetection/2021_Final.mp4: 256x416 (no detections), 8.4ms\n",
            "video 1/1 (frame 881/6094) /content/drive/MyDrive/FormulaOneCarDetection/2021_Final.mp4: 256x416 (no detections), 8.3ms\n",
            "video 1/1 (frame 882/6094) /content/drive/MyDrive/FormulaOneCarDetection/2021_Final.mp4: 256x416 (no detections), 8.0ms\n",
            "video 1/1 (frame 883/6094) /content/drive/MyDrive/FormulaOneCarDetection/2021_Final.mp4: 256x416 (no detections), 8.1ms\n",
            "video 1/1 (frame 884/6094) /content/drive/MyDrive/FormulaOneCarDetection/2021_Final.mp4: 256x416 (no detections), 9.0ms\n",
            "video 1/1 (frame 885/6094) /content/drive/MyDrive/FormulaOneCarDetection/2021_Final.mp4: 256x416 (no detections), 11.4ms\n",
            "video 1/1 (frame 886/6094) /content/drive/MyDrive/FormulaOneCarDetection/2021_Final.mp4: 256x416 (no detections), 8.1ms\n",
            "video 1/1 (frame 887/6094) /content/drive/MyDrive/FormulaOneCarDetection/2021_Final.mp4: 256x416 (no detections), 8.1ms\n",
            "video 1/1 (frame 888/6094) /content/drive/MyDrive/FormulaOneCarDetection/2021_Final.mp4: 256x416 (no detections), 8.4ms\n",
            "video 1/1 (frame 889/6094) /content/drive/MyDrive/FormulaOneCarDetection/2021_Final.mp4: 256x416 (no detections), 8.4ms\n",
            "video 1/1 (frame 890/6094) /content/drive/MyDrive/FormulaOneCarDetection/2021_Final.mp4: 256x416 (no detections), 9.0ms\n",
            "video 1/1 (frame 891/6094) /content/drive/MyDrive/FormulaOneCarDetection/2021_Final.mp4: 256x416 (no detections), 8.7ms\n",
            "video 1/1 (frame 892/6094) /content/drive/MyDrive/FormulaOneCarDetection/2021_Final.mp4: 256x416 (no detections), 10.5ms\n",
            "video 1/1 (frame 893/6094) /content/drive/MyDrive/FormulaOneCarDetection/2021_Final.mp4: 256x416 (no detections), 8.5ms\n",
            "video 1/1 (frame 894/6094) /content/drive/MyDrive/FormulaOneCarDetection/2021_Final.mp4: 256x416 1 Mclaren, 8.5ms\n",
            "video 1/1 (frame 895/6094) /content/drive/MyDrive/FormulaOneCarDetection/2021_Final.mp4: 256x416 (no detections), 8.4ms\n",
            "video 1/1 (frame 896/6094) /content/drive/MyDrive/FormulaOneCarDetection/2021_Final.mp4: 256x416 1 Mercedes, 8.5ms\n",
            "video 1/1 (frame 897/6094) /content/drive/MyDrive/FormulaOneCarDetection/2021_Final.mp4: 256x416 1 Mercedes, 10.7ms\n",
            "video 1/1 (frame 898/6094) /content/drive/MyDrive/FormulaOneCarDetection/2021_Final.mp4: 256x416 1 Mercedes, 8.6ms\n",
            "video 1/1 (frame 899/6094) /content/drive/MyDrive/FormulaOneCarDetection/2021_Final.mp4: 256x416 1 Mercedes, 8.3ms\n",
            "video 1/1 (frame 900/6094) /content/drive/MyDrive/FormulaOneCarDetection/2021_Final.mp4: 256x416 1 Mercedes, 8.6ms\n",
            "video 1/1 (frame 901/6094) /content/drive/MyDrive/FormulaOneCarDetection/2021_Final.mp4: 256x416 1 Mercedes, 8.3ms\n",
            "video 1/1 (frame 902/6094) /content/drive/MyDrive/FormulaOneCarDetection/2021_Final.mp4: 256x416 (no detections), 8.2ms\n",
            "video 1/1 (frame 903/6094) /content/drive/MyDrive/FormulaOneCarDetection/2021_Final.mp4: 256x416 (no detections), 8.1ms\n",
            "video 1/1 (frame 904/6094) /content/drive/MyDrive/FormulaOneCarDetection/2021_Final.mp4: 256x416 (no detections), 11.3ms\n",
            "video 1/1 (frame 905/6094) /content/drive/MyDrive/FormulaOneCarDetection/2021_Final.mp4: 256x416 (no detections), 8.0ms\n",
            "video 1/1 (frame 906/6094) /content/drive/MyDrive/FormulaOneCarDetection/2021_Final.mp4: 256x416 (no detections), 8.1ms\n",
            "video 1/1 (frame 907/6094) /content/drive/MyDrive/FormulaOneCarDetection/2021_Final.mp4: 256x416 (no detections), 8.0ms\n",
            "video 1/1 (frame 908/6094) /content/drive/MyDrive/FormulaOneCarDetection/2021_Final.mp4: 256x416 (no detections), 7.9ms\n",
            "video 1/1 (frame 909/6094) /content/drive/MyDrive/FormulaOneCarDetection/2021_Final.mp4: 256x416 (no detections), 10.5ms\n",
            "video 1/1 (frame 910/6094) /content/drive/MyDrive/FormulaOneCarDetection/2021_Final.mp4: 256x416 1 Ferrari, 8.1ms\n",
            "video 1/1 (frame 911/6094) /content/drive/MyDrive/FormulaOneCarDetection/2021_Final.mp4: 256x416 (no detections), 8.3ms\n",
            "video 1/1 (frame 912/6094) /content/drive/MyDrive/FormulaOneCarDetection/2021_Final.mp4: 256x416 (no detections), 8.2ms\n",
            "video 1/1 (frame 913/6094) /content/drive/MyDrive/FormulaOneCarDetection/2021_Final.mp4: 256x416 (no detections), 8.2ms\n",
            "video 1/1 (frame 914/6094) /content/drive/MyDrive/FormulaOneCarDetection/2021_Final.mp4: 256x416 (no detections), 8.1ms\n",
            "video 1/1 (frame 915/6094) /content/drive/MyDrive/FormulaOneCarDetection/2021_Final.mp4: 256x416 (no detections), 8.1ms\n",
            "video 1/1 (frame 916/6094) /content/drive/MyDrive/FormulaOneCarDetection/2021_Final.mp4: 256x416 (no detections), 10.8ms\n",
            "video 1/1 (frame 917/6094) /content/drive/MyDrive/FormulaOneCarDetection/2021_Final.mp4: 256x416 (no detections), 9.0ms\n",
            "video 1/1 (frame 918/6094) /content/drive/MyDrive/FormulaOneCarDetection/2021_Final.mp4: 256x416 (no detections), 8.1ms\n",
            "video 1/1 (frame 919/6094) /content/drive/MyDrive/FormulaOneCarDetection/2021_Final.mp4: 256x416 (no detections), 8.2ms\n",
            "video 1/1 (frame 920/6094) /content/drive/MyDrive/FormulaOneCarDetection/2021_Final.mp4: 256x416 (no detections), 8.0ms\n",
            "video 1/1 (frame 921/6094) /content/drive/MyDrive/FormulaOneCarDetection/2021_Final.mp4: 256x416 (no detections), 10.4ms\n",
            "video 1/1 (frame 922/6094) /content/drive/MyDrive/FormulaOneCarDetection/2021_Final.mp4: 256x416 (no detections), 8.6ms\n",
            "video 1/1 (frame 923/6094) /content/drive/MyDrive/FormulaOneCarDetection/2021_Final.mp4: 256x416 (no detections), 8.5ms\n",
            "video 1/1 (frame 924/6094) /content/drive/MyDrive/FormulaOneCarDetection/2021_Final.mp4: 256x416 (no detections), 8.2ms\n",
            "video 1/1 (frame 925/6094) /content/drive/MyDrive/FormulaOneCarDetection/2021_Final.mp4: 256x416 (no detections), 8.2ms\n",
            "video 1/1 (frame 926/6094) /content/drive/MyDrive/FormulaOneCarDetection/2021_Final.mp4: 256x416 (no detections), 8.2ms\n",
            "video 1/1 (frame 927/6094) /content/drive/MyDrive/FormulaOneCarDetection/2021_Final.mp4: 256x416 (no detections), 8.4ms\n",
            "video 1/1 (frame 928/6094) /content/drive/MyDrive/FormulaOneCarDetection/2021_Final.mp4: 256x416 (no detections), 10.8ms\n",
            "video 1/1 (frame 929/6094) /content/drive/MyDrive/FormulaOneCarDetection/2021_Final.mp4: 256x416 (no detections), 8.3ms\n",
            "video 1/1 (frame 930/6094) /content/drive/MyDrive/FormulaOneCarDetection/2021_Final.mp4: 256x416 (no detections), 8.2ms\n",
            "video 1/1 (frame 931/6094) /content/drive/MyDrive/FormulaOneCarDetection/2021_Final.mp4: 256x416 (no detections), 8.6ms\n",
            "video 1/1 (frame 932/6094) /content/drive/MyDrive/FormulaOneCarDetection/2021_Final.mp4: 256x416 (no detections), 12.0ms\n",
            "video 1/1 (frame 933/6094) /content/drive/MyDrive/FormulaOneCarDetection/2021_Final.mp4: 256x416 (no detections), 11.0ms\n",
            "video 1/1 (frame 934/6094) /content/drive/MyDrive/FormulaOneCarDetection/2021_Final.mp4: 256x416 (no detections), 9.0ms\n",
            "video 1/1 (frame 935/6094) /content/drive/MyDrive/FormulaOneCarDetection/2021_Final.mp4: 256x416 (no detections), 8.2ms\n",
            "video 1/1 (frame 936/6094) /content/drive/MyDrive/FormulaOneCarDetection/2021_Final.mp4: 256x416 (no detections), 8.3ms\n",
            "video 1/1 (frame 937/6094) /content/drive/MyDrive/FormulaOneCarDetection/2021_Final.mp4: 256x416 (no detections), 8.5ms\n",
            "video 1/1 (frame 938/6094) /content/drive/MyDrive/FormulaOneCarDetection/2021_Final.mp4: 256x416 (no detections), 8.3ms\n",
            "video 1/1 (frame 939/6094) /content/drive/MyDrive/FormulaOneCarDetection/2021_Final.mp4: 256x416 1 Mercedes, 8.1ms\n",
            "video 1/1 (frame 940/6094) /content/drive/MyDrive/FormulaOneCarDetection/2021_Final.mp4: 256x416 (no detections), 11.2ms\n",
            "video 1/1 (frame 941/6094) /content/drive/MyDrive/FormulaOneCarDetection/2021_Final.mp4: 256x416 (no detections), 9.0ms\n",
            "video 1/1 (frame 942/6094) /content/drive/MyDrive/FormulaOneCarDetection/2021_Final.mp4: 256x416 1 Mercedes, 8.3ms\n",
            "video 1/1 (frame 943/6094) /content/drive/MyDrive/FormulaOneCarDetection/2021_Final.mp4: 256x416 1 Mercedes, 8.1ms\n",
            "video 1/1 (frame 944/6094) /content/drive/MyDrive/FormulaOneCarDetection/2021_Final.mp4: 256x416 (no detections), 8.2ms\n",
            "video 1/1 (frame 945/6094) /content/drive/MyDrive/FormulaOneCarDetection/2021_Final.mp4: 256x416 (no detections), 8.2ms\n",
            "video 1/1 (frame 946/6094) /content/drive/MyDrive/FormulaOneCarDetection/2021_Final.mp4: 256x416 1 Mercedes, 10.9ms\n",
            "video 1/1 (frame 947/6094) /content/drive/MyDrive/FormulaOneCarDetection/2021_Final.mp4: 256x416 (no detections), 8.9ms\n",
            "video 1/1 (frame 948/6094) /content/drive/MyDrive/FormulaOneCarDetection/2021_Final.mp4: 256x416 (no detections), 8.1ms\n",
            "video 1/1 (frame 949/6094) /content/drive/MyDrive/FormulaOneCarDetection/2021_Final.mp4: 256x416 (no detections), 7.9ms\n",
            "video 1/1 (frame 950/6094) /content/drive/MyDrive/FormulaOneCarDetection/2021_Final.mp4: 256x416 (no detections), 7.9ms\n",
            "video 1/1 (frame 951/6094) /content/drive/MyDrive/FormulaOneCarDetection/2021_Final.mp4: 256x416 (no detections), 8.0ms\n",
            "video 1/1 (frame 952/6094) /content/drive/MyDrive/FormulaOneCarDetection/2021_Final.mp4: 256x416 (no detections), 7.8ms\n",
            "video 1/1 (frame 953/6094) /content/drive/MyDrive/FormulaOneCarDetection/2021_Final.mp4: 256x416 (no detections), 8.1ms\n",
            "video 1/1 (frame 954/6094) /content/drive/MyDrive/FormulaOneCarDetection/2021_Final.mp4: 256x416 (no detections), 8.7ms\n",
            "video 1/1 (frame 955/6094) /content/drive/MyDrive/FormulaOneCarDetection/2021_Final.mp4: 256x416 (no detections), 8.0ms\n",
            "video 1/1 (frame 956/6094) /content/drive/MyDrive/FormulaOneCarDetection/2021_Final.mp4: 256x416 (no detections), 10.4ms\n",
            "video 1/1 (frame 957/6094) /content/drive/MyDrive/FormulaOneCarDetection/2021_Final.mp4: 256x416 1 Mclaren, 8.0ms\n",
            "video 1/1 (frame 958/6094) /content/drive/MyDrive/FormulaOneCarDetection/2021_Final.mp4: 256x416 (no detections), 7.9ms\n",
            "video 1/1 (frame 959/6094) /content/drive/MyDrive/FormulaOneCarDetection/2021_Final.mp4: 256x416 1 Mclaren, 9.0ms\n",
            "video 1/1 (frame 960/6094) /content/drive/MyDrive/FormulaOneCarDetection/2021_Final.mp4: 256x416 1 Mclaren, 8.1ms\n",
            "video 1/1 (frame 961/6094) /content/drive/MyDrive/FormulaOneCarDetection/2021_Final.mp4: 256x416 1 Mclaren, 10.7ms\n",
            "video 1/1 (frame 962/6094) /content/drive/MyDrive/FormulaOneCarDetection/2021_Final.mp4: 256x416 1 Mclaren, 10.8ms\n",
            "video 1/1 (frame 963/6094) /content/drive/MyDrive/FormulaOneCarDetection/2021_Final.mp4: 256x416 1 Mclaren, 8.6ms\n",
            "video 1/1 (frame 964/6094) /content/drive/MyDrive/FormulaOneCarDetection/2021_Final.mp4: 256x416 (no detections), 8.1ms\n",
            "video 1/1 (frame 965/6094) /content/drive/MyDrive/FormulaOneCarDetection/2021_Final.mp4: 256x416 (no detections), 9.3ms\n",
            "video 1/1 (frame 966/6094) /content/drive/MyDrive/FormulaOneCarDetection/2021_Final.mp4: 256x416 (no detections), 8.2ms\n",
            "video 1/1 (frame 967/6094) /content/drive/MyDrive/FormulaOneCarDetection/2021_Final.mp4: 256x416 (no detections), 8.1ms\n",
            "video 1/1 (frame 968/6094) /content/drive/MyDrive/FormulaOneCarDetection/2021_Final.mp4: 256x416 (no detections), 8.0ms\n",
            "video 1/1 (frame 969/6094) /content/drive/MyDrive/FormulaOneCarDetection/2021_Final.mp4: 256x416 (no detections), 8.0ms\n",
            "video 1/1 (frame 970/6094) /content/drive/MyDrive/FormulaOneCarDetection/2021_Final.mp4: 256x416 (no detections), 7.9ms\n",
            "video 1/1 (frame 971/6094) /content/drive/MyDrive/FormulaOneCarDetection/2021_Final.mp4: 256x416 (no detections), 8.0ms\n",
            "video 1/1 (frame 972/6094) /content/drive/MyDrive/FormulaOneCarDetection/2021_Final.mp4: 256x416 (no detections), 8.1ms\n",
            "video 1/1 (frame 973/6094) /content/drive/MyDrive/FormulaOneCarDetection/2021_Final.mp4: 256x416 (no detections), 8.5ms\n",
            "video 1/1 (frame 974/6094) /content/drive/MyDrive/FormulaOneCarDetection/2021_Final.mp4: 256x416 (no detections), 8.1ms\n",
            "video 1/1 (frame 975/6094) /content/drive/MyDrive/FormulaOneCarDetection/2021_Final.mp4: 256x416 (no detections), 8.1ms\n",
            "video 1/1 (frame 976/6094) /content/drive/MyDrive/FormulaOneCarDetection/2021_Final.mp4: 256x416 (no detections), 8.3ms\n",
            "video 1/1 (frame 977/6094) /content/drive/MyDrive/FormulaOneCarDetection/2021_Final.mp4: 256x416 (no detections), 8.7ms\n",
            "video 1/1 (frame 978/6094) /content/drive/MyDrive/FormulaOneCarDetection/2021_Final.mp4: 256x416 (no detections), 8.0ms\n",
            "video 1/1 (frame 979/6094) /content/drive/MyDrive/FormulaOneCarDetection/2021_Final.mp4: 256x416 (no detections), 8.8ms\n",
            "video 1/1 (frame 980/6094) /content/drive/MyDrive/FormulaOneCarDetection/2021_Final.mp4: 256x416 (no detections), 11.1ms\n",
            "video 1/1 (frame 981/6094) /content/drive/MyDrive/FormulaOneCarDetection/2021_Final.mp4: 256x416 (no detections), 8.1ms\n",
            "video 1/1 (frame 982/6094) /content/drive/MyDrive/FormulaOneCarDetection/2021_Final.mp4: 256x416 (no detections), 8.1ms\n",
            "video 1/1 (frame 983/6094) /content/drive/MyDrive/FormulaOneCarDetection/2021_Final.mp4: 256x416 1 Mclaren, 8.3ms\n",
            "video 1/1 (frame 984/6094) /content/drive/MyDrive/FormulaOneCarDetection/2021_Final.mp4: 256x416 (no detections), 8.1ms\n",
            "video 1/1 (frame 985/6094) /content/drive/MyDrive/FormulaOneCarDetection/2021_Final.mp4: 256x416 (no detections), 7.9ms\n",
            "video 1/1 (frame 986/6094) /content/drive/MyDrive/FormulaOneCarDetection/2021_Final.mp4: 256x416 (no detections), 7.9ms\n",
            "video 1/1 (frame 987/6094) /content/drive/MyDrive/FormulaOneCarDetection/2021_Final.mp4: 256x416 1 Mclaren, 8.1ms\n",
            "video 1/1 (frame 988/6094) /content/drive/MyDrive/FormulaOneCarDetection/2021_Final.mp4: 256x416 (no detections), 10.5ms\n",
            "video 1/1 (frame 989/6094) /content/drive/MyDrive/FormulaOneCarDetection/2021_Final.mp4: 256x416 (no detections), 8.0ms\n",
            "video 1/1 (frame 990/6094) /content/drive/MyDrive/FormulaOneCarDetection/2021_Final.mp4: 256x416 (no detections), 7.9ms\n",
            "video 1/1 (frame 991/6094) /content/drive/MyDrive/FormulaOneCarDetection/2021_Final.mp4: 256x416 (no detections), 8.0ms\n",
            "video 1/1 (frame 992/6094) /content/drive/MyDrive/FormulaOneCarDetection/2021_Final.mp4: 256x416 (no detections), 8.3ms\n",
            "video 1/1 (frame 993/6094) /content/drive/MyDrive/FormulaOneCarDetection/2021_Final.mp4: 256x416 (no detections), 10.9ms\n",
            "video 1/1 (frame 994/6094) /content/drive/MyDrive/FormulaOneCarDetection/2021_Final.mp4: 256x416 (no detections), 8.7ms\n",
            "video 1/1 (frame 995/6094) /content/drive/MyDrive/FormulaOneCarDetection/2021_Final.mp4: 256x416 (no detections), 10.8ms\n",
            "video 1/1 (frame 996/6094) /content/drive/MyDrive/FormulaOneCarDetection/2021_Final.mp4: 256x416 (no detections), 8.5ms\n",
            "video 1/1 (frame 997/6094) /content/drive/MyDrive/FormulaOneCarDetection/2021_Final.mp4: 256x416 1 Mercedes, 8.2ms\n",
            "video 1/1 (frame 998/6094) /content/drive/MyDrive/FormulaOneCarDetection/2021_Final.mp4: 256x416 1 Mercedes, 8.1ms\n",
            "video 1/1 (frame 999/6094) /content/drive/MyDrive/FormulaOneCarDetection/2021_Final.mp4: 256x416 1 Mercedes, 8.2ms\n",
            "video 1/1 (frame 1000/6094) /content/drive/MyDrive/FormulaOneCarDetection/2021_Final.mp4: 256x416 (no detections), 10.5ms\n",
            "video 1/1 (frame 1001/6094) /content/drive/MyDrive/FormulaOneCarDetection/2021_Final.mp4: 256x416 1 Mercedes, 8.2ms\n",
            "video 1/1 (frame 1002/6094) /content/drive/MyDrive/FormulaOneCarDetection/2021_Final.mp4: 256x416 (no detections), 8.0ms\n",
            "video 1/1 (frame 1003/6094) /content/drive/MyDrive/FormulaOneCarDetection/2021_Final.mp4: 256x416 (no detections), 8.1ms\n",
            "video 1/1 (frame 1004/6094) /content/drive/MyDrive/FormulaOneCarDetection/2021_Final.mp4: 256x416 (no detections), 8.4ms\n",
            "video 1/1 (frame 1005/6094) /content/drive/MyDrive/FormulaOneCarDetection/2021_Final.mp4: 256x416 (no detections), 10.7ms\n",
            "video 1/1 (frame 1006/6094) /content/drive/MyDrive/FormulaOneCarDetection/2021_Final.mp4: 256x416 (no detections), 8.0ms\n",
            "video 1/1 (frame 1007/6094) /content/drive/MyDrive/FormulaOneCarDetection/2021_Final.mp4: 256x416 1 Mercedes, 10.1ms\n",
            "video 1/1 (frame 1008/6094) /content/drive/MyDrive/FormulaOneCarDetection/2021_Final.mp4: 256x416 1 Mercedes, 8.1ms\n",
            "video 1/1 (frame 1009/6094) /content/drive/MyDrive/FormulaOneCarDetection/2021_Final.mp4: 256x416 1 Mercedes, 8.1ms\n",
            "video 1/1 (frame 1010/6094) /content/drive/MyDrive/FormulaOneCarDetection/2021_Final.mp4: 256x416 1 Mercedes, 8.0ms\n",
            "video 1/1 (frame 1011/6094) /content/drive/MyDrive/FormulaOneCarDetection/2021_Final.mp4: 256x416 1 Mercedes, 8.0ms\n",
            "video 1/1 (frame 1012/6094) /content/drive/MyDrive/FormulaOneCarDetection/2021_Final.mp4: 256x416 1 Mercedes, 12.0ms\n",
            "video 1/1 (frame 1013/6094) /content/drive/MyDrive/FormulaOneCarDetection/2021_Final.mp4: 256x416 1 Mercedes, 8.5ms\n",
            "video 1/1 (frame 1014/6094) /content/drive/MyDrive/FormulaOneCarDetection/2021_Final.mp4: 256x416 1 Mercedes, 8.0ms\n",
            "video 1/1 (frame 1015/6094) /content/drive/MyDrive/FormulaOneCarDetection/2021_Final.mp4: 256x416 1 Mercedes, 8.8ms\n",
            "video 1/1 (frame 1016/6094) /content/drive/MyDrive/FormulaOneCarDetection/2021_Final.mp4: 256x416 1 Mercedes, 8.7ms\n",
            "video 1/1 (frame 1017/6094) /content/drive/MyDrive/FormulaOneCarDetection/2021_Final.mp4: 256x416 1 Mercedes, 11.0ms\n",
            "video 1/1 (frame 1018/6094) /content/drive/MyDrive/FormulaOneCarDetection/2021_Final.mp4: 256x416 1 Mercedes, 8.2ms\n",
            "video 1/1 (frame 1019/6094) /content/drive/MyDrive/FormulaOneCarDetection/2021_Final.mp4: 256x416 1 Mercedes, 8.6ms\n",
            "video 1/1 (frame 1020/6094) /content/drive/MyDrive/FormulaOneCarDetection/2021_Final.mp4: 256x416 1 Mercedes, 8.3ms\n",
            "video 1/1 (frame 1021/6094) /content/drive/MyDrive/FormulaOneCarDetection/2021_Final.mp4: 256x416 1 Mercedes, 8.1ms\n",
            "video 1/1 (frame 1022/6094) /content/drive/MyDrive/FormulaOneCarDetection/2021_Final.mp4: 256x416 1 Mercedes, 8.5ms\n",
            "video 1/1 (frame 1023/6094) /content/drive/MyDrive/FormulaOneCarDetection/2021_Final.mp4: 256x416 1 Mercedes, 8.5ms\n",
            "video 1/1 (frame 1024/6094) /content/drive/MyDrive/FormulaOneCarDetection/2021_Final.mp4: 256x416 1 Mercedes, 10.8ms\n",
            "video 1/1 (frame 1025/6094) /content/drive/MyDrive/FormulaOneCarDetection/2021_Final.mp4: 256x416 1 Mercedes, 7.9ms\n",
            "video 1/1 (frame 1026/6094) /content/drive/MyDrive/FormulaOneCarDetection/2021_Final.mp4: 256x416 1 Mercedes, 8.0ms\n",
            "video 1/1 (frame 1027/6094) /content/drive/MyDrive/FormulaOneCarDetection/2021_Final.mp4: 256x416 1 Mercedes, 8.0ms\n",
            "video 1/1 (frame 1028/6094) /content/drive/MyDrive/FormulaOneCarDetection/2021_Final.mp4: 256x416 1 Mercedes, 8.0ms\n",
            "video 1/1 (frame 1029/6094) /content/drive/MyDrive/FormulaOneCarDetection/2021_Final.mp4: 256x416 1 Mercedes, 11.2ms\n",
            "video 1/1 (frame 1030/6094) /content/drive/MyDrive/FormulaOneCarDetection/2021_Final.mp4: 256x416 1 Mercedes, 8.0ms\n",
            "video 1/1 (frame 1031/6094) /content/drive/MyDrive/FormulaOneCarDetection/2021_Final.mp4: 256x416 1 Mercedes, 8.1ms\n",
            "video 1/1 (frame 1032/6094) /content/drive/MyDrive/FormulaOneCarDetection/2021_Final.mp4: 256x416 1 Mercedes, 8.2ms\n",
            "video 1/1 (frame 1033/6094) /content/drive/MyDrive/FormulaOneCarDetection/2021_Final.mp4: 256x416 1 Mercedes, 8.2ms\n",
            "video 1/1 (frame 1034/6094) /content/drive/MyDrive/FormulaOneCarDetection/2021_Final.mp4: 256x416 1 Mercedes, 8.3ms\n",
            "video 1/1 (frame 1035/6094) /content/drive/MyDrive/FormulaOneCarDetection/2021_Final.mp4: 256x416 (no detections), 8.4ms\n",
            "video 1/1 (frame 1036/6094) /content/drive/MyDrive/FormulaOneCarDetection/2021_Final.mp4: 256x416 (no detections), 10.8ms\n",
            "video 1/1 (frame 1037/6094) /content/drive/MyDrive/FormulaOneCarDetection/2021_Final.mp4: 256x416 (no detections), 1891.8ms\n",
            "video 1/1 (frame 1038/6094) /content/drive/MyDrive/FormulaOneCarDetection/2021_Final.mp4: 256x416 (no detections), 5513.5ms\n",
            "video 1/1 (frame 1039/6094) /content/drive/MyDrive/FormulaOneCarDetection/2021_Final.mp4: 256x416 (no detections), 3883.2ms\n",
            "video 1/1 (frame 1040/6094) /content/drive/MyDrive/FormulaOneCarDetection/2021_Final.mp4: 256x416 (no detections), 6575.4ms\n",
            "video 1/1 (frame 1041/6094) /content/drive/MyDrive/FormulaOneCarDetection/2021_Final.mp4: 256x416 (no detections), 6747.6ms\n",
            "video 1/1 (frame 1042/6094) /content/drive/MyDrive/FormulaOneCarDetection/2021_Final.mp4: 256x416 (no detections), 7175.0ms\n",
            "video 1/1 (frame 1043/6094) /content/drive/MyDrive/FormulaOneCarDetection/2021_Final.mp4: 256x416 (no detections), 11119.3ms\n",
            "video 1/1 (frame 1044/6094) /content/drive/MyDrive/FormulaOneCarDetection/2021_Final.mp4: 256x416 (no detections), 23876.9ms\n",
            "video 1/1 (frame 1045/6094) /content/drive/MyDrive/FormulaOneCarDetection/2021_Final.mp4: 256x416 (no detections), 39668.4ms\n",
            "video 1/1 (frame 1046/6094) /content/drive/MyDrive/FormulaOneCarDetection/2021_Final.mp4: 256x416 (no detections), 67616.5ms\n",
            "video 1/1 (frame 1047/6094) /content/drive/MyDrive/FormulaOneCarDetection/2021_Final.mp4: 256x416 (no detections), 269.2ms\n",
            "video 1/1 (frame 1048/6094) /content/drive/MyDrive/FormulaOneCarDetection/2021_Final.mp4: 256x416 (no detections), 8.6ms\n",
            "video 1/1 (frame 1049/6094) /content/drive/MyDrive/FormulaOneCarDetection/2021_Final.mp4: 256x416 (no detections), 8.6ms\n",
            "video 1/1 (frame 1050/6094) /content/drive/MyDrive/FormulaOneCarDetection/2021_Final.mp4: 256x416 (no detections), 10.8ms\n",
            "video 1/1 (frame 1051/6094) /content/drive/MyDrive/FormulaOneCarDetection/2021_Final.mp4: 256x416 (no detections), 12.0ms\n",
            "video 1/1 (frame 1052/6094) /content/drive/MyDrive/FormulaOneCarDetection/2021_Final.mp4: 256x416 (no detections), 8.9ms\n",
            "video 1/1 (frame 1053/6094) /content/drive/MyDrive/FormulaOneCarDetection/2021_Final.mp4: 256x416 (no detections), 8.4ms\n",
            "video 1/1 (frame 1054/6094) /content/drive/MyDrive/FormulaOneCarDetection/2021_Final.mp4: 256x416 (no detections), 12.1ms\n",
            "video 1/1 (frame 1055/6094) /content/drive/MyDrive/FormulaOneCarDetection/2021_Final.mp4: 256x416 (no detections), 8.6ms\n",
            "video 1/1 (frame 1056/6094) /content/drive/MyDrive/FormulaOneCarDetection/2021_Final.mp4: 256x416 (no detections), 8.9ms\n",
            "video 1/1 (frame 1057/6094) /content/drive/MyDrive/FormulaOneCarDetection/2021_Final.mp4: 256x416 (no detections), 8.5ms\n",
            "video 1/1 (frame 1058/6094) /content/drive/MyDrive/FormulaOneCarDetection/2021_Final.mp4: 256x416 1 Mercedes, 8.4ms\n",
            "video 1/1 (frame 1059/6094) /content/drive/MyDrive/FormulaOneCarDetection/2021_Final.mp4: 256x416 (no detections), 8.4ms\n",
            "video 1/1 (frame 1060/6094) /content/drive/MyDrive/FormulaOneCarDetection/2021_Final.mp4: 256x416 (no detections), 8.3ms\n",
            "video 1/1 (frame 1061/6094) /content/drive/MyDrive/FormulaOneCarDetection/2021_Final.mp4: 256x416 (no detections), 8.4ms\n",
            "video 1/1 (frame 1062/6094) /content/drive/MyDrive/FormulaOneCarDetection/2021_Final.mp4: 256x416 (no detections), 8.3ms\n",
            "video 1/1 (frame 1063/6094) /content/drive/MyDrive/FormulaOneCarDetection/2021_Final.mp4: 256x416 1 Mercedes, 8.3ms\n",
            "video 1/1 (frame 1064/6094) /content/drive/MyDrive/FormulaOneCarDetection/2021_Final.mp4: 256x416 (no detections), 8.9ms\n",
            "video 1/1 (frame 1065/6094) /content/drive/MyDrive/FormulaOneCarDetection/2021_Final.mp4: 256x416 (no detections), 8.5ms\n",
            "video 1/1 (frame 1066/6094) /content/drive/MyDrive/FormulaOneCarDetection/2021_Final.mp4: 256x416 (no detections), 10.9ms\n",
            "video 1/1 (frame 1067/6094) /content/drive/MyDrive/FormulaOneCarDetection/2021_Final.mp4: 256x416 (no detections), 8.5ms\n",
            "video 1/1 (frame 1068/6094) /content/drive/MyDrive/FormulaOneCarDetection/2021_Final.mp4: 256x416 (no detections), 9.0ms\n",
            "video 1/1 (frame 1069/6094) /content/drive/MyDrive/FormulaOneCarDetection/2021_Final.mp4: 256x416 (no detections), 8.4ms\n",
            "video 1/1 (frame 1070/6094) /content/drive/MyDrive/FormulaOneCarDetection/2021_Final.mp4: 256x416 (no detections), 8.6ms\n",
            "video 1/1 (frame 1071/6094) /content/drive/MyDrive/FormulaOneCarDetection/2021_Final.mp4: 256x416 (no detections), 9.0ms\n",
            "video 1/1 (frame 1072/6094) /content/drive/MyDrive/FormulaOneCarDetection/2021_Final.mp4: 256x416 (no detections), 8.5ms\n",
            "video 1/1 (frame 1073/6094) /content/drive/MyDrive/FormulaOneCarDetection/2021_Final.mp4: 256x416 (no detections), 8.6ms\n",
            "video 1/1 (frame 1074/6094) /content/drive/MyDrive/FormulaOneCarDetection/2021_Final.mp4: 256x416 (no detections), 11.0ms\n",
            "video 1/1 (frame 1075/6094) /content/drive/MyDrive/FormulaOneCarDetection/2021_Final.mp4: 256x416 (no detections), 11.0ms\n",
            "video 1/1 (frame 1076/6094) /content/drive/MyDrive/FormulaOneCarDetection/2021_Final.mp4: 256x416 (no detections), 9.0ms\n",
            "video 1/1 (frame 1077/6094) /content/drive/MyDrive/FormulaOneCarDetection/2021_Final.mp4: 256x416 (no detections), 9.4ms\n",
            "video 1/1 (frame 1078/6094) /content/drive/MyDrive/FormulaOneCarDetection/2021_Final.mp4: 256x416 (no detections), 11.9ms\n",
            "video 1/1 (frame 1079/6094) /content/drive/MyDrive/FormulaOneCarDetection/2021_Final.mp4: 256x416 (no detections), 8.4ms\n",
            "video 1/1 (frame 1080/6094) /content/drive/MyDrive/FormulaOneCarDetection/2021_Final.mp4: 256x416 (no detections), 8.5ms\n",
            "video 1/1 (frame 1081/6094) /content/drive/MyDrive/FormulaOneCarDetection/2021_Final.mp4: 256x416 (no detections), 9.4ms\n",
            "video 1/1 (frame 1082/6094) /content/drive/MyDrive/FormulaOneCarDetection/2021_Final.mp4: 256x416 (no detections), 9.1ms\n",
            "video 1/1 (frame 1083/6094) /content/drive/MyDrive/FormulaOneCarDetection/2021_Final.mp4: 256x416 (no detections), 8.5ms\n",
            "video 1/1 (frame 1084/6094) /content/drive/MyDrive/FormulaOneCarDetection/2021_Final.mp4: 256x416 (no detections), 8.5ms\n",
            "video 1/1 (frame 1085/6094) /content/drive/MyDrive/FormulaOneCarDetection/2021_Final.mp4: 256x416 (no detections), 8.6ms\n",
            "video 1/1 (frame 1086/6094) /content/drive/MyDrive/FormulaOneCarDetection/2021_Final.mp4: 256x416 (no detections), 12.0ms\n",
            "video 1/1 (frame 1087/6094) /content/drive/MyDrive/FormulaOneCarDetection/2021_Final.mp4: 256x416 (no detections), 11.0ms\n",
            "video 1/1 (frame 1088/6094) /content/drive/MyDrive/FormulaOneCarDetection/2021_Final.mp4: 256x416 (no detections), 8.4ms\n",
            "video 1/1 (frame 1089/6094) /content/drive/MyDrive/FormulaOneCarDetection/2021_Final.mp4: 256x416 (no detections), 8.4ms\n",
            "video 1/1 (frame 1090/6094) /content/drive/MyDrive/FormulaOneCarDetection/2021_Final.mp4: 256x416 (no detections), 11.0ms\n",
            "video 1/1 (frame 1091/6094) /content/drive/MyDrive/FormulaOneCarDetection/2021_Final.mp4: 256x416 (no detections), 9.8ms\n",
            "video 1/1 (frame 1092/6094) /content/drive/MyDrive/FormulaOneCarDetection/2021_Final.mp4: 256x416 (no detections), 9.6ms\n",
            "video 1/1 (frame 1093/6094) /content/drive/MyDrive/FormulaOneCarDetection/2021_Final.mp4: 256x416 (no detections), 9.5ms\n",
            "video 1/1 (frame 1094/6094) /content/drive/MyDrive/FormulaOneCarDetection/2021_Final.mp4: 256x416 (no detections), 8.8ms\n",
            "video 1/1 (frame 1095/6094) /content/drive/MyDrive/FormulaOneCarDetection/2021_Final.mp4: 256x416 (no detections), 8.5ms\n",
            "video 1/1 (frame 1096/6094) /content/drive/MyDrive/FormulaOneCarDetection/2021_Final.mp4: 256x416 1 Mclaren, 9.0ms\n",
            "video 1/1 (frame 1097/6094) /content/drive/MyDrive/FormulaOneCarDetection/2021_Final.mp4: 256x416 1 Mclaren, 8.8ms\n",
            "video 1/1 (frame 1098/6094) /content/drive/MyDrive/FormulaOneCarDetection/2021_Final.mp4: 256x416 (no detections), 9.4ms\n",
            "video 1/1 (frame 1099/6094) /content/drive/MyDrive/FormulaOneCarDetection/2021_Final.mp4: 256x416 (no detections), 8.8ms\n",
            "video 1/1 (frame 1100/6094) /content/drive/MyDrive/FormulaOneCarDetection/2021_Final.mp4: 256x416 (no detections), 9.0ms\n",
            "video 1/1 (frame 1101/6094) /content/drive/MyDrive/FormulaOneCarDetection/2021_Final.mp4: 256x416 (no detections), 8.8ms\n",
            "video 1/1 (frame 1102/6094) /content/drive/MyDrive/FormulaOneCarDetection/2021_Final.mp4: 256x416 (no detections), 10.5ms\n",
            "video 1/1 (frame 1103/6094) /content/drive/MyDrive/FormulaOneCarDetection/2021_Final.mp4: 256x416 (no detections), 8.5ms\n",
            "video 1/1 (frame 1104/6094) /content/drive/MyDrive/FormulaOneCarDetection/2021_Final.mp4: 256x416 (no detections), 8.8ms\n",
            "video 1/1 (frame 1105/6094) /content/drive/MyDrive/FormulaOneCarDetection/2021_Final.mp4: 256x416 (no detections), 9.2ms\n",
            "video 1/1 (frame 1106/6094) /content/drive/MyDrive/FormulaOneCarDetection/2021_Final.mp4: 256x416 (no detections), 8.8ms\n",
            "video 1/1 (frame 1107/6094) /content/drive/MyDrive/FormulaOneCarDetection/2021_Final.mp4: 256x416 (no detections), 8.8ms\n",
            "video 1/1 (frame 1108/6094) /content/drive/MyDrive/FormulaOneCarDetection/2021_Final.mp4: 256x416 (no detections), 8.7ms\n",
            "video 1/1 (frame 1109/6094) /content/drive/MyDrive/FormulaOneCarDetection/2021_Final.mp4: 256x416 (no detections), 9.1ms\n",
            "video 1/1 (frame 1110/6094) /content/drive/MyDrive/FormulaOneCarDetection/2021_Final.mp4: 256x416 (no detections), 9.0ms\n",
            "video 1/1 (frame 1111/6094) /content/drive/MyDrive/FormulaOneCarDetection/2021_Final.mp4: 256x416 (no detections), 8.6ms\n",
            "video 1/1 (frame 1112/6094) /content/drive/MyDrive/FormulaOneCarDetection/2021_Final.mp4: 256x416 (no detections), 8.4ms\n",
            "video 1/1 (frame 1113/6094) /content/drive/MyDrive/FormulaOneCarDetection/2021_Final.mp4: 256x416 (no detections), 8.7ms\n",
            "video 1/1 (frame 1114/6094) /content/drive/MyDrive/FormulaOneCarDetection/2021_Final.mp4: 256x416 (no detections), 8.8ms\n",
            "video 1/1 (frame 1115/6094) /content/drive/MyDrive/FormulaOneCarDetection/2021_Final.mp4: 256x416 (no detections), 8.8ms\n",
            "video 1/1 (frame 1116/6094) /content/drive/MyDrive/FormulaOneCarDetection/2021_Final.mp4: 256x416 (no detections), 9.6ms\n",
            "video 1/1 (frame 1117/6094) /content/drive/MyDrive/FormulaOneCarDetection/2021_Final.mp4: 256x416 (no detections), 11.1ms\n",
            "video 1/1 (frame 1118/6094) /content/drive/MyDrive/FormulaOneCarDetection/2021_Final.mp4: 256x416 (no detections), 8.9ms\n",
            "video 1/1 (frame 1119/6094) /content/drive/MyDrive/FormulaOneCarDetection/2021_Final.mp4: 256x416 (no detections), 8.8ms\n",
            "video 1/1 (frame 1120/6094) /content/drive/MyDrive/FormulaOneCarDetection/2021_Final.mp4: 256x416 (no detections), 8.8ms\n",
            "video 1/1 (frame 1121/6094) /content/drive/MyDrive/FormulaOneCarDetection/2021_Final.mp4: 256x416 1 Mclaren, 42284.4ms\n",
            "video 1/1 (frame 1122/6094) /content/drive/MyDrive/FormulaOneCarDetection/2021_Final.mp4: 256x416 1 Mclaren, 1 Mercedes, 1 Redbull, 7769.8ms\n",
            "WARNING ⚠️ NMS time limit 2.050s exceeded\n"
          ]
        }
      ],
      "source": [
        "# Load the trained YOLOv8 model\n",
        "model = YOLO('/content/drive/MyDrive/FormulaOneCarDetection/Results/vehiclesDetection3/weights/best.pt')\n",
        "\n",
        "# Perform detection on the video\n",
        "results = model.predict(\n",
        "    source='/content/drive/MyDrive/FormulaOneCarDetection/2021_Final.mp4',\n",
        "    conf=0.55\n",
        ")\n",
        "\n",
        "# Save the results\n",
        "results.save('/content/drive/MyDrive/FormulaOneCarDetection/Results/predictions')"
      ]
    }
  ],
  "metadata": {
    "colab": {
      "provenance": [],
      "gpuType": "A100",
      "machine_shape": "hm"
    },
    "kernelspec": {
      "display_name": "Python 3",
      "name": "python3"
    },
    "language_info": {
      "name": "python"
    },
    "accelerator": "GPU"
  },
  "nbformat": 4,
  "nbformat_minor": 0
}